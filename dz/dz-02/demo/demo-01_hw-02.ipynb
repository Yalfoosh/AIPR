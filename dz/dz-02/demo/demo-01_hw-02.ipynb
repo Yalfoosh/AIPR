{
 "cells": [
  {
   "cell_type": "markdown",
   "metadata": {},
   "source": [
    "# Analiza i projektiranje računalom - 2. domaća zadaća"
   ]
  },
  {
   "cell_type": "markdown",
   "metadata": {},
   "source": [
    "<br>"
   ]
  },
  {
   "cell_type": "markdown",
   "metadata": {},
   "source": [
    "U okviru ove domaće zadaće potrebno je implementirati sljedeće metode optimiranja:"
   ]
  },
  {
   "cell_type": "markdown",
   "metadata": {},
   "source": [
    "## Postupak zlatnog reza"
   ]
  },
  {
   "cell_type": "markdown",
   "metadata": {},
   "source": [
    "Algoritam je dan na [web stranici predmeta](http://www.fer.unizg.hr/_download/repository/zlatni_rez.txt) i na predavanjima. U okviru ovog postupka potrebno je također implementirati metodu pronalaženja unimodalnog intervala (**napomena**: *kao što je pokazano na predavanjima, po [ovome](http://www.fer.unizg.hr/_download/repository/unimodalni.txt)*). Postupak zlatnog reza mora se moći pokrenuti ili s početnom točkom, s pomoću koje se tada određuje unimodalni interval, ili s predefiniranim intervalom, u kojem slučaju se preskače postupak traženja unimodalnog intervala i koristi zadani interval. U svakom koraku postupka potrebno je omogućiti ispis sve četiri točke i vrijednosti funkcije cilja u njima. Potrebno je omogućiti da se bez prevođenja programa mogu definirati preciznost *e* te početna točka ili početni interval pretraživanja (npr.  učitavanjem iz datoteke ili ulaznog toka). Pretpostavljene vrijednosti: $10^{-6}$ za *e*. (**napomena**: *za iznos konstante k uzmite što precizniju vrijednost, računanjem kao* $0.5 \\left( \\sqrt{5} - 1 \\right)$."
   ]
  },
  {
   "cell_type": "markdown",
   "metadata": {},
   "source": [
    "## Pretraživanje po koordinatnim osima"
   ]
  },
  {
   "cell_type": "markdown",
   "metadata": {},
   "source": [
    "Algoritam je opisan u skripti (str. 4-33, 4-34) i na predavanjima. U sklopu ove metode iskoristite metodu zlatnog reza za minimizaciju u jednoj dimenziji. Potrebno je omogućiti da se bez prevođenja programa mogu definirati vektor granične preciznosti $\\vec{e}$ te početna točka pretraživanja (npr. učitavanjem iz datoteke). Pretpostavljene vrijednosti: $10^{-6}$ za sve elemente $\\vec{e}$."
   ]
  },
  {
   "cell_type": "markdown",
   "metadata": {},
   "source": [
    "## Simpleks postupak po Nelderu i Meadu"
   ]
  },
  {
   "cell_type": "markdown",
   "metadata": {},
   "source": [
    "lgoritam je dan na [web stranici predmeta](http://www.fer.unizg.hr/_download/repository/simplex.html). Početni simpleks generirajte na način da se za jednu konkretnu novu točku pomaknete od početne točke za određeni pomak u svakoj dimenziji (**primjer**: *ako je početna točka $\\begin{bmatrix}0 & 0\\end{bmatrix}$ i pomak $1$, tada ćete generirati točke $\\begin{bmatrix}1 & 0\\end{bmatrix}$ i $\\begin{bmatrix}0 & 1\\end{bmatrix}$*). U svakom koraku postupka potrebno je ispisati centroid točaka i vrijednost funkcije cilja u njoj. Potrebno je omogućiti da se bez prevođenja mogu definirati početna točka pretraživanja, preciznost *e*, pomak koji se koristi za generiranje simpleksa, parametri $\\alpha$, $\\beta$, $\\gamma$ te vrijednost za koju se sve točke pomiču prema najboljoj točki simpleksa ($\\sigma$). Pretpostavljene vrijednosti za parametre: $10^{-6}$ za *e*, $1$ za pomak koji se koristi kod početnog generiranja simpleksa, $\\alpha = 1$, $\\beta = 0.5$, $\\gamma = 2$ i $\\sigma = 0.5$. "
   ]
  },
  {
   "cell_type": "markdown",
   "metadata": {},
   "source": [
    "### Postupak Hooke-Jeeves"
   ]
  },
  {
   "cell_type": "markdown",
   "metadata": {},
   "source": [
    "Algoritam je dan na [web stranici predmeta](http://www.fer.hr/_download/repository/hj.html) i opisan na predavanjima (**napomena**: *ne implementirati algoritam u skripti*, koji ima nešto drugačije ponašanje!). U svakom koraku postupka potrebno je ispisati baznu točku, početnu točku pretraživanja i točku dobivenu pretraživanjem, kao i vrijednosti funkcije cilja u tim točkama. Potrebno je omogućiti da se bez prevođenja programa mogu definirati: vektor pomaka $\\vec{dx}$, vektor granične preciznosti $\\vec{e}$ te početna točka pretraživanja (npr. učitavanjem iz datoteke). Pretpostavljene vrijednosti: $0.5$ za sve elemente $\\vec{dx}$ te $10^{-6}$ za sve elemente $\\vec{e}$."
   ]
  },
  {
   "cell_type": "markdown",
   "metadata": {},
   "source": [
    "---"
   ]
  },
  {
   "cell_type": "markdown",
   "metadata": {},
   "source": [
    "Svi algoritmi (osim postupka zlatnog reza) moraju podržavati proizvoljno veliku dimenzionalnost rješenja. Funkciju cilja potrebno je implementirati tako da vodi evidenciju o broju pozivanja, jer će algoritme biti potrebno usporediti na temelju broja evaluacija (preporučuje se ostvariti kao apstraktni razred)."
   ]
  },
  {
   "cell_type": "markdown",
   "metadata": {},
   "source": [
    "<br>"
   ]
  },
  {
   "cell_type": "markdown",
   "metadata": {},
   "source": [
    "## Funkcije cilja"
   ]
  },
  {
   "cell_type": "markdown",
   "metadata": {},
   "source": [
    "### Funkcija 1 - Rosenbrockova \"banana\" funkcija"
   ]
  },
  {
   "cell_type": "markdown",
   "metadata": {},
   "source": [
    "$$\n",
    "\\begin{equation}\n",
    "    f_1 \\left( \\vec{x} \\right) = 100 \\left( x_1 - {x_0}^2 \\right)^2 + \\left( 1 - x_0 \\right)^2\n",
    "\\end{equation}\n",
    "$$"
   ]
  },
  {
   "cell_type": "markdown",
   "metadata": {},
   "source": [
    "$$\n",
    "\\begin{equation}\n",
    "    \\vec{x_0} = \n",
    "    \\begin{bmatrix}\n",
    "        -1.9 & 2\n",
    "    \\end{bmatrix}\n",
    "\\end{equation}\n",
    "$$"
   ]
  },
  {
   "cell_type": "markdown",
   "metadata": {},
   "source": [
    "$$\n",
    "\\begin{equation}\n",
    "    \\vec{x_{min}} =\n",
    "    \\begin{bmatrix}\n",
    "        1 & 1\n",
    "    \\end{bmatrix}\n",
    "\\end{equation}\n",
    "$$"
   ]
  },
  {
   "cell_type": "markdown",
   "metadata": {},
   "source": [
    "$$\n",
    "\\begin{equation}\n",
    "    f_1 \\left( \\vec{x_{min}} \\right) = 0\n",
    "\\end{equation}\n",
    "$$"
   ]
  },
  {
   "cell_type": "markdown",
   "metadata": {},
   "source": [
    "### Funkcija 2"
   ]
  },
  {
   "cell_type": "markdown",
   "metadata": {},
   "source": [
    "$$\n",
    "\\begin{equation}\n",
    "    f_2 \\left( \\vec{x} \\right) = \\left( x_0 - 4 \\right)^2 + 4 \\left( x_1 - 2 \\right)^2\n",
    "\\end{equation}\n",
    "$$"
   ]
  },
  {
   "cell_type": "markdown",
   "metadata": {},
   "source": [
    "$$\n",
    "\\begin{equation}\n",
    "    \\vec{x_0} = \n",
    "    \\begin{bmatrix}\n",
    "        -0.1 & 0.3\n",
    "    \\end{bmatrix}\n",
    "\\end{equation}\n",
    "$$"
   ]
  },
  {
   "cell_type": "markdown",
   "metadata": {},
   "source": [
    "$$\n",
    "\\begin{equation}\n",
    "    \\vec{x_{min}} =\n",
    "    \\begin{bmatrix}\n",
    "        4 & 2\n",
    "    \\end{bmatrix}\n",
    "\\end{equation}\n",
    "$$"
   ]
  },
  {
   "cell_type": "markdown",
   "metadata": {},
   "source": [
    "$$\n",
    "\\begin{equation}\n",
    "    f_2 \\left( \\vec{x_{min}} \\right) = 0\n",
    "\\end{equation}\n",
    "$$"
   ]
  },
  {
   "cell_type": "markdown",
   "metadata": {},
   "source": [
    "### Funkcija 3"
   ]
  },
  {
   "cell_type": "markdown",
   "metadata": {},
   "source": [
    "$$\n",
    "\\begin{equation}\n",
    "    f_3 \\left( \\vec{x} \\right) = \\sum_i{\\left( x_i - i \\right)^2}\n",
    "\\end{equation}\n",
    "$$"
   ]
  },
  {
   "cell_type": "markdown",
   "metadata": {},
   "source": [
    "$$\n",
    "\\begin{equation}\n",
    "    \\vec{x_0} = \\vec{0}\n",
    "\\end{equation}\n",
    "$$"
   ]
  },
  {
   "cell_type": "markdown",
   "metadata": {},
   "source": [
    "$$\n",
    "\\begin{equation}\n",
    "    \\vec{x_{min}} =\n",
    "    \\begin{bmatrix}\n",
    "        1 & 2 & 3 & \\dots & n\n",
    "    \\end{bmatrix}\n",
    "\\end{equation}\n",
    "$$"
   ]
  },
  {
   "cell_type": "markdown",
   "metadata": {},
   "source": [
    "$$\n",
    "\\begin{equation}\n",
    "    f_3 \\left( \\vec{x_{min}} \\right) = 0\n",
    "\\end{equation}\n",
    "$$"
   ]
  },
  {
   "cell_type": "markdown",
   "metadata": {},
   "source": [
    "### Funkcija 4 - Jakobovićeva funkcija"
   ]
  },
  {
   "cell_type": "markdown",
   "metadata": {},
   "source": [
    "$$\n",
    "\\begin{equation}\n",
    "    f_4 \\left( \\vec{x} \\right) = \\left| \\left( x_0 - x_1 \\right) \\left( x_0 + x_1 \\right) \\right| + \\sqrt{{x_0}^2 + {x_1}^2}\n",
    "\\end{equation}\n",
    "$$"
   ]
  },
  {
   "cell_type": "markdown",
   "metadata": {},
   "source": [
    "$$\n",
    "\\begin{equation}\n",
    "    \\vec{x_0} =\n",
    "    \\begin{bmatrix}\n",
    "        5.1 & 1.1\n",
    "    \\end{bmatrix}\n",
    "\\end{equation}\n",
    "$$"
   ]
  },
  {
   "cell_type": "markdown",
   "metadata": {},
   "source": [
    "$$\n",
    "\\begin{equation}\n",
    "    \\vec{x_{min}} =\n",
    "    \\begin{bmatrix}\n",
    "        0 & 0\n",
    "    \\end{bmatrix}\n",
    "\\end{equation}\n",
    "$$"
   ]
  },
  {
   "cell_type": "markdown",
   "metadata": {},
   "source": [
    "$$\n",
    "\\begin{equation}\n",
    "    f_4 \\left( \\vec{x_{min}} \\right) = 0\n",
    "\\end{equation}\n",
    "$$"
   ]
  },
  {
   "cell_type": "markdown",
   "metadata": {},
   "source": [
    "### Funkcija 6 - Schafferova F6 funkcija"
   ]
  },
  {
   "cell_type": "markdown",
   "metadata": {},
   "source": [
    "$$\n",
    "\\begin{equation}\n",
    "    f_6 \\left( \\vec{x} \\right) = 0.5 + \\frac{%\n",
    "        sin^2 \\left( \\sqrt{\\sum{{x_i}^2}} \\right) - 0.5\n",
    "    }{%\n",
    "        \\left( 1 + 0.001 \\sum{{x_i}^2}\\right)^2\n",
    "    }\n",
    "\\end{equation}\n",
    "$$"
   ]
  },
  {
   "cell_type": "markdown",
   "metadata": {},
   "source": [
    "$$\n",
    "\\begin{equation}\n",
    "    \\vec{x_{min}} = \\vec{0}\n",
    "\\end{equation}\n",
    "$$"
   ]
  },
  {
   "cell_type": "markdown",
   "metadata": {},
   "source": [
    "$$\n",
    "\\begin{equation}\n",
    "    f_6 \\left( \\vec{x_{min}} \\right) = 0\n",
    "\\end{equation}\n",
    "$$"
   ]
  },
  {
   "cell_type": "markdown",
   "metadata": {},
   "source": [
    "## Priprema za izvođenje"
   ]
  },
  {
   "cell_type": "code",
   "execution_count": 1,
   "metadata": {},
   "outputs": [],
   "source": [
    "import os\n",
    "\n",
    "CD_KEY = \"--HW02_IN_ROOT\""
   ]
  },
  {
   "cell_type": "code",
   "execution_count": 2,
   "metadata": {},
   "outputs": [
    {
     "name": "stdout",
     "output_type": "stream",
     "text": [
      "/mnt/data/projekti/faks/AIPR/dz/dz-02\n"
     ]
    }
   ],
   "source": [
    "if (\n",
    "    CD_KEY not in os.environ\n",
    "    or os.environ[CD_KEY] is None\n",
    "    or len(os.environ[CD_KEY]) == 0\n",
    "    or os.environ[CD_KEY] == \"false\"\n",
    "):\n",
    "    %cd ..\n",
    "else:\n",
    "    print(os.getcwd())\n",
    "    \n",
    "os.environ[CD_KEY] = \"true\""
   ]
  },
  {
   "cell_type": "markdown",
   "metadata": {},
   "source": [
    "## Učitavanje paketa"
   ]
  },
  {
   "cell_type": "code",
   "execution_count": 3,
   "metadata": {},
   "outputs": [],
   "source": [
    "import copy\n",
    "\n",
    "from IPython.display import display, Markdown\n",
    "import numpy as np\n",
    "\n",
    "from src.searches.function import Function\n",
    "from src.utils.function import get_f3, get_f3_start"
   ]
  },
  {
   "cell_type": "markdown",
   "metadata": {},
   "source": [
    "## Definicija funkcija i početnih točaka"
   ]
  },
  {
   "cell_type": "code",
   "execution_count": 4,
   "metadata": {},
   "outputs": [],
   "source": [
    "f1 = Function(lambda x: 100 * (x[1] - x[0] ** 2) ** 2 + (1 - x[0]) ** 2)\n",
    "f1_start = np.array([-1.9, 2])"
   ]
  },
  {
   "cell_type": "code",
   "execution_count": 5,
   "metadata": {},
   "outputs": [],
   "source": [
    "f2 = Function(lambda x: (x[0] - 4) ** 2 + 4 * (x[1] - 2) ** 2)\n",
    "f2_start = np.array([0.1, 0.3])"
   ]
  },
  {
   "cell_type": "code",
   "execution_count": 6,
   "metadata": {},
   "outputs": [],
   "source": [
    "f4 = Function(lambda x: np.abs((x[0] - x[1]) * (x[0] + x[1])) + np.sqrt(x[0] ** 2 + x[1] ** 2))\n",
    "f4_start = np.array([5.1, 1.1])"
   ]
  },
  {
   "cell_type": "code",
   "execution_count": 7,
   "metadata": {},
   "outputs": [],
   "source": [
    "f6 = Function(\n",
    "    lambda x: (\n",
    "        0.5\n",
    "        + ((np.sin(np.sqrt(np.sum(x ** 2)))) ** 2 - 0.5)\n",
    "        / ((1 + 0.001 * np.sum(x ** 2)) ** 2)\n",
    "    )\n",
    ")"
   ]
  },
  {
   "cell_type": "markdown",
   "metadata": {},
   "source": [
    "## Zadatci"
   ]
  },
  {
   "cell_type": "markdown",
   "metadata": {},
   "source": [
    "### Zadatak 1"
   ]
  },
  {
   "cell_type": "markdown",
   "metadata": {},
   "source": [
    "Definirajte jednodimenzijsku funkciju br. 3, koja će imati minimum u točki 3."
   ]
  },
  {
   "cell_type": "code",
   "execution_count": 8,
   "metadata": {},
   "outputs": [],
   "source": [
    "t1_function = Function(lambda x: (x - 3) ** 2)"
   ]
  },
  {
   "cell_type": "markdown",
   "metadata": {},
   "source": [
    "Kao početnu točku pretraživanja postavite točku 10."
   ]
  },
  {
   "cell_type": "code",
   "execution_count": 9,
   "metadata": {},
   "outputs": [],
   "source": [
    "t1_start = np.array([10])"
   ]
  },
  {
   "cell_type": "markdown",
   "metadata": {},
   "source": [
    "Primijenite sve postupke na rješavanje ove funkcije te ispišite pronađeni minimum i broj evaluacija funkcije za svaki pojedini postupak."
   ]
  },
  {
   "cell_type": "code",
   "execution_count": 10,
   "metadata": {},
   "outputs": [],
   "source": [
    "# TODO"
   ]
  },
  {
   "cell_type": "markdown",
   "metadata": {},
   "source": [
    "Probajte sve više udaljavati početnu točku od minimuma i probajte ponovo pokrenuti navedene postupke. Što možete zaključiti?"
   ]
  },
  {
   "cell_type": "code",
   "execution_count": 11,
   "metadata": {},
   "outputs": [],
   "source": [
    "t1_start_2 = np.array([15])\n",
    "t1_start_3 = np.array([100])"
   ]
  },
  {
   "cell_type": "code",
   "execution_count": 12,
   "metadata": {},
   "outputs": [],
   "source": [
    "# TODO"
   ]
  },
  {
   "cell_type": "markdown",
   "metadata": {},
   "source": [
    "### Zadatak 2"
   ]
  },
  {
   "cell_type": "markdown",
   "metadata": {},
   "source": [
    "Primijenite simpleks po Nelderu i Meadu, Hooke-Jeeves postupak te pretraživanje po koordinatnim osima na funkcije 1 - 4 uz zadane parametre i početne točke (broj varijabli funkcije 3 najmanje $5$). Za svaki postupak i svaku funkciju odredite minimum koji su postupci pronašli i potrebni broj evaluacija funkcije cilja koji je potreban do konvergencije (prikažite tablično)."
   ]
  },
  {
   "cell_type": "code",
   "execution_count": 13,
   "metadata": {},
   "outputs": [],
   "source": [
    "t2_f1 = f1.get_new()\n",
    "t2_f2 = f2.get_new()\n",
    "t2_f3 = Function(get_f3(5))\n",
    "t2_f4 = f4.get_new()\n",
    "\n",
    "t2_f1_start = copy.deepcopy(f1_start)\n",
    "t2_f2_start = copy.deepcopy(f2_start)\n",
    "t2_f3_start = get_f3_start(5)\n",
    "t2_f4_start = copy.deepcopy(f4_start)"
   ]
  },
  {
   "cell_type": "code",
   "execution_count": 14,
   "metadata": {},
   "outputs": [],
   "source": [
    "# TODO"
   ]
  },
  {
   "cell_type": "markdown",
   "metadata": {},
   "source": [
    "Što možete zaključiti iz rezultata? "
   ]
  },
  {
   "cell_type": "markdown",
   "metadata": {},
   "source": [
    "### Zadatak 3"
   ]
  },
  {
   "cell_type": "markdown",
   "metadata": {},
   "source": [
    "Primijenite postupak Hooke-Jeeves i simpleks po Nelderu i Meadu na funkciju 4 uz početnu točku $\\begin{bmatrix}5 & 5\\end{bmatrix}$."
   ]
  },
  {
   "cell_type": "code",
   "execution_count": 15,
   "metadata": {},
   "outputs": [],
   "source": [
    "t3_function = f4.get_new()\n",
    "t3_start = np.array([5, 5])"
   ]
  },
  {
   "cell_type": "markdown",
   "metadata": {},
   "source": [
    "Objasnite rezultate!"
   ]
  },
  {
   "cell_type": "markdown",
   "metadata": {},
   "source": [
    "### Zadatak 4"
   ]
  },
  {
   "cell_type": "markdown",
   "metadata": {},
   "source": [
    "Primijenite simpleks po Nelderu i Meadu na funkciju 1."
   ]
  },
  {
   "cell_type": "code",
   "execution_count": 16,
   "metadata": {},
   "outputs": [],
   "source": [
    "t4_function = f1.get_new()"
   ]
  },
  {
   "cell_type": "markdown",
   "metadata": {},
   "source": [
    "Kao početnu točku postavite točku $\\begin{bmatrix}0.5 & 0.5\\end{bmatrix}$."
   ]
  },
  {
   "cell_type": "code",
   "execution_count": 17,
   "metadata": {},
   "outputs": [],
   "source": [
    "t4_start = np.array([0.5, 0.5])"
   ]
  },
  {
   "cell_type": "markdown",
   "metadata": {},
   "source": [
    "Provedite postupak s nekoliko različitih koraka za generiranje početnog simpleksa (primjerice iz intervala od $1$ do $20$) i zabilježite potreban broj evaluacija funkcije cilja i pronađene točke minimuma."
   ]
  },
  {
   "cell_type": "code",
   "execution_count": 18,
   "metadata": {},
   "outputs": [],
   "source": [
    "# TODO"
   ]
  },
  {
   "cell_type": "markdown",
   "metadata": {},
   "source": [
    "Potom probajte kao početnu točku postaviti točku $\\begin{bmatrix}20 & 20\\end{bmatrix}$ i ponovo provesti eksperiment."
   ]
  },
  {
   "cell_type": "code",
   "execution_count": 19,
   "metadata": {},
   "outputs": [],
   "source": [
    "# TODO"
   ]
  },
  {
   "cell_type": "markdown",
   "metadata": {},
   "source": [
    "Što možete zaključiti? "
   ]
  },
  {
   "cell_type": "markdown",
   "metadata": {},
   "source": [
    "### Zadatak 5"
   ]
  },
  {
   "cell_type": "markdown",
   "metadata": {},
   "source": [
    "Primijenite jedan postupak optimizacije na funkciju 6 u dvije dimenzije, tako da postupak pokrećete više puta iz slučajno odabrane početne točke u intervalu $\\left[ -50, 50 \\right]$."
   ]
  },
  {
   "cell_type": "code",
   "execution_count": 20,
   "metadata": {},
   "outputs": [],
   "source": [
    "t5_n_repeats = 10\n",
    "\n",
    "t5_starts = np.random.uniform(-50, 50, size=(t5_n_repeats, 2))"
   ]
  },
  {
   "cell_type": "code",
   "execution_count": 21,
   "metadata": {},
   "outputs": [],
   "source": [
    "# TODO"
   ]
  },
  {
   "cell_type": "markdown",
   "metadata": {},
   "source": [
    "Možete li odrediti vjerojatnost pronalaženja *globalnog* optimuma na ovaj način? (smatramo da je algoritam locirao globalni minimum ako je nađena vrijednost funkcije cilja manja od $10^{-4}$). "
   ]
  },
  {
   "cell_type": "code",
   "execution_count": 22,
   "metadata": {},
   "outputs": [],
   "source": [
    "t5_loss_epsilon = 1e-4"
   ]
  },
  {
   "cell_type": "code",
   "execution_count": 23,
   "metadata": {},
   "outputs": [],
   "source": [
    "# TODO"
   ]
  }
 ],
 "metadata": {
  "kernelspec": {
   "display_name": "Python 3",
   "language": "python",
   "name": "python3"
  },
  "language_info": {
   "codemirror_mode": {
    "name": "ipython",
    "version": 3
   },
   "file_extension": ".py",
   "mimetype": "text/x-python",
   "name": "python",
   "nbconvert_exporter": "python",
   "pygments_lexer": "ipython3",
   "version": "3.6.10"
  }
 },
 "nbformat": 4,
 "nbformat_minor": 4
}
