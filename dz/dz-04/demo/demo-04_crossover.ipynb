{
 "cells": [
  {
   "cell_type": "markdown",
   "metadata": {},
   "source": [
    "# Analiza i projektiranje računalom - 4. laboratorijska vježba: demo crossover.py"
   ]
  },
  {
   "cell_type": "markdown",
   "metadata": {},
   "source": [
    "## Priprema za izvođenje"
   ]
  },
  {
   "cell_type": "code",
   "execution_count": 1,
   "metadata": {},
   "outputs": [],
   "source": [
    "import os\n",
    "\n",
    "CD_KEY = \"--HW04_D04_IN_ROOT\""
   ]
  },
  {
   "cell_type": "code",
   "execution_count": 2,
   "metadata": {},
   "outputs": [
    {
     "name": "stdout",
     "output_type": "stream",
     "text": [
      "/mnt/data/projekti/faks/AIPR/dz/dz-04\n"
     ]
    }
   ],
   "source": [
    "if (\n",
    "    CD_KEY not in os.environ\n",
    "    or os.environ[CD_KEY] is None\n",
    "    or len(os.environ[CD_KEY]) == 0\n",
    "    or os.environ[CD_KEY] == \"false\"\n",
    "):\n",
    "    %cd ..\n",
    "else:\n",
    "    print(os.getcwd())\n",
    "    \n",
    "os.environ[CD_KEY] = \"true\""
   ]
  },
  {
   "cell_type": "markdown",
   "metadata": {},
   "source": [
    "## Učitavanje paketa"
   ]
  },
  {
   "cell_type": "code",
   "execution_count": 3,
   "metadata": {},
   "outputs": [],
   "source": [
    "import numpy as np\n",
    "\n",
    "from src.evolution.crossover import (\n",
    "    AveragingCrossover,\n",
    "    ChooseOneCrossover,\n",
    "    XORCrossover,\n",
    "    XORTransformedCrossover,\n",
    ")\n",
    "from src.evolution.encoding import (\n",
    "    BinaryEncoder,\n",
    "    BinaryDecoder,\n",
    ")"
   ]
  },
  {
   "cell_type": "markdown",
   "metadata": {},
   "source": [
    "## Inicijalizacija"
   ]
  },
  {
   "cell_type": "markdown",
   "metadata": {},
   "source": [
    "### Formatiranje"
   ]
  },
  {
   "cell_type": "code",
   "execution_count": 4,
   "metadata": {},
   "outputs": [],
   "source": [
    "np.set_printoptions(precision=2, suppress=True)"
   ]
  },
  {
   "cell_type": "markdown",
   "metadata": {},
   "source": [
    "### Konstante"
   ]
  },
  {
   "cell_type": "code",
   "execution_count": 5,
   "metadata": {},
   "outputs": [],
   "source": [
    "n_specimen = 5\n",
    "\n",
    "float_shape = 3\n",
    "\n",
    "bits = 8\n",
    "interval = (-1, 1)"
   ]
  },
  {
   "cell_type": "markdown",
   "metadata": {},
   "source": [
    "### Jedinke"
   ]
  },
  {
   "cell_type": "code",
   "execution_count": 6,
   "metadata": {},
   "outputs": [],
   "source": [
    "specimina = np.random.uniform(*interval, (n_specimen, float_shape))"
   ]
  },
  {
   "cell_type": "markdown",
   "metadata": {},
   "source": [
    "### Koderi"
   ]
  },
  {
   "cell_type": "code",
   "execution_count": 7,
   "metadata": {},
   "outputs": [],
   "source": [
    "be = BinaryEncoder(dim=8, interval=interval)\n",
    "bd = BinaryDecoder(dim=8, interval=interval)"
   ]
  },
  {
   "cell_type": "markdown",
   "metadata": {},
   "source": [
    "### Operatori"
   ]
  },
  {
   "cell_type": "code",
   "execution_count": 8,
   "metadata": {},
   "outputs": [],
   "source": [
    "float_operators = [\n",
    "    AveragingCrossover(interval=interval),\n",
    "    ChooseOneCrossover(interval=interval)\n",
    "]\n",
    "binary_operators = [\n",
    "    XORCrossover(),\n",
    "    XORTransformedCrossover()\n",
    "]"
   ]
  },
  {
   "cell_type": "markdown",
   "metadata": {},
   "source": [
    "## Demonstracija"
   ]
  },
  {
   "cell_type": "markdown",
   "metadata": {},
   "source": [
    "### Prikaz s pomičnom točkom"
   ]
  },
  {
   "cell_type": "code",
   "execution_count": 9,
   "metadata": {},
   "outputs": [
    {
     "name": "stdout",
     "output_type": "stream",
     "text": [
      "Koristeći AveragingCrossover operator\n",
      "[[-0.76 -0.73 -0.05]\n",
      " [-0.29 -0.17 -0.33]] -> [[-0.52 -0.45 -0.19]]\n",
      "\n",
      "[[-0.29 -0.17 -0.33]\n",
      " [-0.97  0.69  0.53]] -> [[-0.63  0.26  0.1 ]]\n",
      "\n",
      "[[-0.97  0.69  0.53]\n",
      " [-0.21 -0.23  0.72]] -> [[-0.59  0.23  0.63]]\n",
      "\n",
      "[[-0.21 -0.23  0.72]\n",
      " [ 0.01  0.38  0.54]] -> [[-0.1   0.08  0.63]]\n",
      "\n",
      "\n",
      "Koristeći ChooseOneCrossover operator\n",
      "[[-0.76 -0.73 -0.05]\n",
      " [-0.29 -0.17 -0.33]] -> [[-0.76 -0.73 -0.05]]\n",
      "\n",
      "[[-0.29 -0.17 -0.33]\n",
      " [-0.97  0.69  0.53]] -> [[-0.29 -0.17 -0.33]]\n",
      "\n",
      "[[-0.97  0.69  0.53]\n",
      " [-0.21 -0.23  0.72]] -> [[-0.97  0.69  0.72]]\n",
      "\n",
      "[[-0.21 -0.23  0.72]\n",
      " [ 0.01  0.38  0.54]] -> [[-0.21 -0.23  0.72]]\n",
      "\n",
      "\n"
     ]
    }
   ],
   "source": [
    "for float_operator in float_operators:\n",
    "    print(f\"Koristeći {float_operator}\")\n",
    "    \n",
    "    for i in range(n_specimen - 1):\n",
    "        chosen = specimina[i: i + 2]\n",
    "        \n",
    "        print(f\"{chosen} -> {float_operator(chosen)}\\n\")\n",
    "        \n",
    "    print()"
   ]
  },
  {
   "cell_type": "markdown",
   "metadata": {},
   "source": [
    "### Prikaz u binarnom obliku"
   ]
  },
  {
   "cell_type": "code",
   "execution_count": 10,
   "metadata": {
    "scrolled": false
   },
   "outputs": [
    {
     "name": "stdout",
     "output_type": "stream",
     "text": [
      "Koristeći XORCrossover operator\n",
      "[[[0 0 0 1 1 1 1 0]\n",
      "  [0 0 1 0 0 0 0 1]\n",
      "  [0 1 1 1 1 0 0 1]]\n",
      "\n",
      " [[0 1 0 1 1 0 1 0]\n",
      "  [0 1 1 0 1 0 0 1]\n",
      "  [0 1 0 1 0 1 0 0]]] ->\n",
      "------------------------------\n",
      "[[0 1 0 0 0 1 0 0]\n",
      " [0 1 0 0 1 0 0 0]\n",
      " [0 0 1 0 1 1 0 1]]\n",
      "\n",
      "\n",
      "[[[0 1 0 1 1 0 1 0]\n",
      "  [0 1 1 0 1 0 0 1]\n",
      "  [0 1 0 1 0 1 0 0]]\n",
      "\n",
      " [[0 0 0 0 0 0 1 1]\n",
      "  [1 1 0 1 0 1 1 0]\n",
      "  [1 1 0 0 0 0 1 1]]] ->\n",
      "------------------------------\n",
      "[[0 1 0 1 1 0 0 1]\n",
      " [1 0 1 1 1 1 1 1]\n",
      " [1 0 0 1 0 1 1 1]]\n",
      "\n",
      "\n",
      "[[[0 0 0 0 0 0 1 1]\n",
      "  [1 1 0 1 0 1 1 0]\n",
      "  [1 1 0 0 0 0 1 1]]\n",
      "\n",
      " [[0 1 1 0 0 1 0 0]\n",
      "  [0 1 1 0 0 0 1 0]\n",
      "  [1 1 0 1 1 0 1 1]]] ->\n",
      "------------------------------\n",
      "[[0 1 1 0 0 1 1 1]\n",
      " [1 0 1 1 0 1 0 0]\n",
      " [0 0 0 1 1 0 0 0]]\n",
      "\n",
      "\n",
      "[[[0 1 1 0 0 1 0 0]\n",
      "  [0 1 1 0 0 0 1 0]\n",
      "  [1 1 0 1 1 0 1 1]]\n",
      "\n",
      " [[1 0 0 0 0 0 0 0]\n",
      "  [1 0 1 1 0 0 0 0]\n",
      "  [1 1 0 0 0 1 0 0]]] ->\n",
      "------------------------------\n",
      "[[1 1 1 0 0 1 0 0]\n",
      " [1 1 0 1 0 0 1 0]\n",
      " [0 0 0 1 1 1 1 1]]\n",
      "\n",
      "\n",
      "\n",
      "Koristeći XORTransformedCrossover operator\n",
      "[[[0 0 0 1 1 1 1 0]\n",
      "  [0 0 1 0 0 0 0 1]\n",
      "  [0 1 1 1 1 0 0 1]]\n",
      "\n",
      " [[0 1 0 1 1 0 1 0]\n",
      "  [0 1 1 0 1 0 0 1]\n",
      "  [0 1 0 1 0 1 0 0]]] ->\n",
      "------------------------------\n",
      "[[0 1 0 0 0 1 0 0]\n",
      " [0 1 0 0 1 0 0 0]\n",
      " [0 0 1 0 1 1 0 1]]\n",
      "\n",
      "\n",
      "[[[0 1 0 1 1 0 1 0]\n",
      "  [0 1 1 0 1 0 0 1]\n",
      "  [0 1 0 1 0 1 0 0]]\n",
      "\n",
      " [[0 0 0 0 0 0 1 1]\n",
      "  [1 1 0 1 0 1 1 0]\n",
      "  [1 1 0 0 0 0 1 1]]] ->\n",
      "------------------------------\n",
      "[[0 1 0 1 1 0 0 1]\n",
      " [1 0 1 1 1 1 1 1]\n",
      " [1 0 0 1 0 1 1 1]]\n",
      "\n",
      "\n",
      "[[[0 0 0 0 0 0 1 1]\n",
      "  [1 1 0 1 0 1 1 0]\n",
      "  [1 1 0 0 0 0 1 1]]\n",
      "\n",
      " [[0 1 1 0 0 1 0 0]\n",
      "  [0 1 1 0 0 0 1 0]\n",
      "  [1 1 0 1 1 0 1 1]]] ->\n",
      "------------------------------\n",
      "[[0 1 1 0 0 1 1 1]\n",
      " [1 0 1 1 0 1 0 0]\n",
      " [0 0 0 1 1 0 0 0]]\n",
      "\n",
      "\n",
      "[[[0 1 1 0 0 1 0 0]\n",
      "  [0 1 1 0 0 0 1 0]\n",
      "  [1 1 0 1 1 0 1 1]]\n",
      "\n",
      " [[1 0 0 0 0 0 0 0]\n",
      "  [1 0 1 1 0 0 0 0]\n",
      "  [1 1 0 0 0 1 0 0]]] ->\n",
      "------------------------------\n",
      "[[1 1 1 0 0 1 0 0]\n",
      " [1 1 0 1 0 0 1 0]\n",
      " [0 0 0 1 1 1 1 1]]\n",
      "\n",
      "\n",
      "\n"
     ]
    }
   ],
   "source": [
    "for binary_operator in binary_operators:\n",
    "    print(f\"Koristeći {binary_operator}\")\n",
    "    \n",
    "    for i in range(n_specimen - 1):\n",
    "        chosen = be(specimina[i: i + 2])\n",
    "        \n",
    "        print(f\"{chosen} ->\\n\" + (\"-\" * 30) + f\"\\n{binary_operator(chosen)}\\n\\n\")\n",
    "        \n",
    "    print()"
   ]
  }
 ],
 "metadata": {
  "kernelspec": {
   "display_name": "aipr_dz04",
   "language": "python",
   "name": "aipr_dz04"
  },
  "language_info": {
   "codemirror_mode": {
    "name": "ipython",
    "version": 3
   },
   "file_extension": ".py",
   "mimetype": "text/x-python",
   "name": "python",
   "nbconvert_exporter": "python",
   "pygments_lexer": "ipython3",
   "version": "3.8.5"
  }
 },
 "nbformat": 4,
 "nbformat_minor": 4
}
