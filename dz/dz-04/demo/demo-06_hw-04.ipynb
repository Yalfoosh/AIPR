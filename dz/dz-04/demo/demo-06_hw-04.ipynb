{
 "cells": [
  {
   "cell_type": "markdown",
   "metadata": {},
   "source": [
    "# Analiza i projektiranje računalom - 4. domaća zadaća"
   ]
  },
  {
   "cell_type": "markdown",
   "metadata": {},
   "source": [
    "U okviru ove zadaće treba izraditi programsku implementaciju genetskog (evolucijskog) algoritma koja će pronalaziti minimum zadane višedimenzijske funkcije. Potrebno je omogućiti da se bez prevođenja programa može definirati:"
   ]
  },
  {
   "cell_type": "markdown",
   "metadata": {},
   "source": [
    "- prikaz rješenja koji će algoritam koristiti\n",
    "- veličina populacije\n",
    "- vjerojatnost mutacije (i križanja, ako algoritam koristi taj parametar)\n",
    "- broj evaluacija funkcije cilja kao kriterij zaustavljanja (ostali su proizvoljni)"
   ]
  },
  {
   "cell_type": "markdown",
   "metadata": {},
   "source": [
    "Programsko ostvarenje mora podržavati *binarni prikaz rješenja* te *prikaz brojem s pomičnom točkom* (način prikaza je parametar algoritma). Oba prikaza trebaju definirati donju i gornju granicu domene (eksplicitna ograničenja) i broj varijabli. Binarni prikaz dodatno treba definirati željenu preciznost (npr. kao broj decimala ili najveći dopušteni razmak susjednih rješenja). Za svaki od prikaza potrebno je definirati barem do *dva operatora križanja* i barem po *jedan operator mutacije*. Svi operatori moraju podržavati definirana eksplicitna ograničenja."
   ]
  },
  {
   "cell_type": "markdown",
   "metadata": {},
   "source": [
    "**Ispis algoritma** je proizvoljan, no mora omogućiti uvid u ove podatke:"
   ]
  },
  {
   "cell_type": "markdown",
   "metadata": {},
   "source": [
    "- broj evaluacija\n",
    "- trenutna najbolja jedinka\n",
    "- vrijednost funkcije cilja najbolje jedinke"
   ]
  },
  {
   "cell_type": "markdown",
   "metadata": {},
   "source": [
    "Preporučena (ali nipošto i jedina moguća) inačica GA je 3-turnirski eliminacijski odabir:"
   ]
  },
  {
   "cell_type": "markdown",
   "metadata": {},
   "source": [
    "```pseudocode\n",
    "stvori populaciju\n",
    "evaluiraj populaciju    //svaka jedinka ima pridruženu dobrotu\n",
    "\n",
    "ponavljaj\n",
    "    odaberi slučajno 3 jedinke\n",
    "    izbaci najlošiju od 3 odabrane iz populacije\n",
    "    \n",
    "    nova jedinka = križanje(preostale dvije)\n",
    "    obavi mutaciju na novoj jedinki uz neku vjerojatnost\n",
    "    \n",
    "    evaluiraj novu jedinku\n",
    "    dodaj novu jedinku u populaciju\n",
    "dok nije zadovoljen uvjet zaustavljanja\n",
    "```"
   ]
  },
  {
   "cell_type": "markdown",
   "metadata": {},
   "source": [
    "---"
   ]
  },
  {
   "cell_type": "markdown",
   "metadata": {},
   "source": [
    "## Funkcije cilja"
   ]
  },
  {
   "cell_type": "markdown",
   "metadata": {},
   "source": [
    "### Funkcija 1 - Rosenbrockova \"banana\" funkcija"
   ]
  },
  {
   "cell_type": "markdown",
   "metadata": {},
   "source": [
    "$$\n",
    "\\begin{equation}\n",
    "    f_1 \\left( \\vec{x} \\right) = 100 \\left( x_1 - {x_0}^2 \\right)^2 + \\left( 1 - x_0 \\right)^2\n",
    "\\end{equation}\n",
    "$$"
   ]
  },
  {
   "cell_type": "markdown",
   "metadata": {},
   "source": [
    "$$\n",
    "\\begin{equation}\n",
    "    \\vec{x_{min}} =\n",
    "    \\begin{bmatrix}\n",
    "        1 & 1\n",
    "    \\end{bmatrix}\n",
    "\\end{equation}\n",
    "$$"
   ]
  },
  {
   "cell_type": "markdown",
   "metadata": {},
   "source": [
    "$$\n",
    "\\begin{equation}\n",
    "    f_1 \\left( \\vec{x_{min}} \\right) = 0\n",
    "\\end{equation}\n",
    "$$"
   ]
  },
  {
   "cell_type": "markdown",
   "metadata": {},
   "source": [
    "### Funkcija 2"
   ]
  },
  {
   "cell_type": "markdown",
   "metadata": {},
   "source": [
    "$$\n",
    "\\begin{equation}\n",
    "    f_3 \\left( \\vec{x} \\right) = \\sum_i{\\left( x_i - i \\right)^2}\n",
    "\\end{equation}\n",
    "$$"
   ]
  },
  {
   "cell_type": "markdown",
   "metadata": {},
   "source": [
    "$$\n",
    "\\begin{equation}\n",
    "    \\vec{x_{min}} =\n",
    "    \\begin{bmatrix}\n",
    "        1 & 2 & 3 & \\dots & n\n",
    "    \\end{bmatrix}\n",
    "\\end{equation}\n",
    "$$"
   ]
  },
  {
   "cell_type": "markdown",
   "metadata": {},
   "source": [
    "$$\n",
    "\\begin{equation}\n",
    "    f_3 \\left( \\vec{x_{min}} \\right) = 0\n",
    "\\end{equation}\n",
    "$$"
   ]
  },
  {
   "cell_type": "markdown",
   "metadata": {},
   "source": [
    "### Funkcija 3 - Schafferova F6 funkcija"
   ]
  },
  {
   "cell_type": "markdown",
   "metadata": {},
   "source": [
    "$$\n",
    "\\begin{equation}\n",
    "    f_6 \\left( \\vec{x} \\right) = 0.5 + \\frac{%\n",
    "        \\sin^2 \\left( \\sqrt{\\sum{{x_i}^2}} \\right) - 0.5\n",
    "    }{%\n",
    "        \\left( 1 + 0.001 \\sum{{x_i}^2}\\right)^2\n",
    "    }\n",
    "\\end{equation}\n",
    "$$"
   ]
  },
  {
   "cell_type": "markdown",
   "metadata": {},
   "source": [
    "$$\n",
    "\\begin{equation}\n",
    "    \\vec{x_{min}} = \\vec{0}\n",
    "\\end{equation}\n",
    "$$"
   ]
  },
  {
   "cell_type": "markdown",
   "metadata": {},
   "source": [
    "$$\n",
    "\\begin{equation}\n",
    "    f_6 \\left( \\vec{x_{min}} \\right) = 0\n",
    "\\end{equation}\n",
    "$$"
   ]
  },
  {
   "cell_type": "markdown",
   "metadata": {},
   "source": [
    "### Funkcija 4 - Schafferova F7 funkcija"
   ]
  },
  {
   "cell_type": "markdown",
   "metadata": {},
   "source": [
    "$$\n",
    "\\begin{equation}\n",
    "    f_7 \\left( \\vec{x} \\right) = \\left( \\sum{{x_i}^2} \\right)^{\\frac{1}{4}} \\cdot\n",
    "    \\left(\n",
    "        1 + \\sin^2 \\left(\n",
    "            50 \\left(\n",
    "                \\sum{x_i}^2\n",
    "            \\right)^{\\frac{1}{10}}\n",
    "        \\right)\n",
    "    \\right)\n",
    "\\end{equation}\n",
    "$$"
   ]
  },
  {
   "cell_type": "markdown",
   "metadata": {},
   "source": [
    "$$\n",
    "\\begin{equation}\n",
    "    \\vec{x_0} = \n",
    "    \\begin{bmatrix}\n",
    "        0 & 0\n",
    "    \\end{bmatrix}\n",
    "\\end{equation}\n",
    "$$"
   ]
  },
  {
   "cell_type": "markdown",
   "metadata": {},
   "source": [
    "$$\n",
    "\\begin{equation}\n",
    "    f_4 \\left( \\vec{x_{min}} \\right) = 0\n",
    "\\end{equation}\n",
    "$$"
   ]
  },
  {
   "cell_type": "markdown",
   "metadata": {},
   "source": [
    "## Priprema za izvođenje"
   ]
  },
  {
   "cell_type": "code",
   "execution_count": 1,
   "metadata": {},
   "outputs": [],
   "source": [
    "import os\n",
    "\n",
    "CD_KEY = \"--HW04_IN_ROOT\""
   ]
  },
  {
   "cell_type": "code",
   "execution_count": 2,
   "metadata": {},
   "outputs": [
    {
     "name": "stdout",
     "output_type": "stream",
     "text": [
      "/mnt/data/projekti/faks/AIPR/dz/dz-04\n"
     ]
    }
   ],
   "source": [
    "if (\n",
    "    CD_KEY not in os.environ\n",
    "    or os.environ[CD_KEY] is None\n",
    "    or len(os.environ[CD_KEY]) == 0\n",
    "    or os.environ[CD_KEY] == \"false\"\n",
    "):\n",
    "    %cd ..\n",
    "else:\n",
    "    print(os.getcwd())\n",
    "    \n",
    "os.environ[CD_KEY] = \"true\""
   ]
  },
  {
   "cell_type": "markdown",
   "metadata": {},
   "source": [
    "## Učitavanje paketa"
   ]
  },
  {
   "cell_type": "code",
   "execution_count": 3,
   "metadata": {},
   "outputs": [],
   "source": [
    "import copy\n",
    "import os\n",
    "import pickle\n",
    "import sys\n",
    "import warnings\n",
    "\n",
    "import array_to_latex as a2l\n",
    "from IPython.display import display, Markdown\n",
    "from matplotlib import pyplot as plt\n",
    "import numpy as np\n",
    "from tqdm import tqdm\n",
    "\n",
    "from src.evolution.crossover import *\n",
    "from src.evolution.encoding import *\n",
    "from src.evolution.function import Function\n",
    "from src.evolution.mutation import *\n",
    "from src.evolution.selection import *\n",
    "from src.evolutionary_tournament import EvolutionaryTournament\n",
    "from src.ga import simple_ga\n",
    "from src.utils import *"
   ]
  },
  {
   "cell_type": "code",
   "execution_count": 4,
   "metadata": {},
   "outputs": [],
   "source": [
    "np.set_printoptions(precision=2, suppress=True)\n",
    "np.random.seed(21051208)\n",
    "warnings.filterwarnings('ignore')"
   ]
  },
  {
   "cell_type": "markdown",
   "metadata": {},
   "source": [
    "## Definicija pomoćnih funkcija"
   ]
  },
  {
   "cell_type": "code",
   "execution_count": 5,
   "metadata": {},
   "outputs": [],
   "source": [
    "def array_to_latex(array):\n",
    "    return a2l.to_ltx(\n",
    "        array,\n",
    "        frmt=\"{:g}\",\n",
    "        arraytype=\"bmatrix\",\n",
    "        print_out=False\n",
    "    )"
   ]
  },
  {
   "cell_type": "markdown",
   "metadata": {},
   "source": [
    "## Definicija funkcija i početnih točaka"
   ]
  },
  {
   "cell_type": "code",
   "execution_count": 6,
   "metadata": {},
   "outputs": [],
   "source": [
    "def f1(x: np.ndarray):\n",
    "    return 100 * np.square(np.square(x[1] - x[0])) + np.square(1. - x[0])"
   ]
  },
  {
   "cell_type": "code",
   "execution_count": 7,
   "metadata": {},
   "outputs": [],
   "source": [
    "def get_f3(length: int):\n",
    "    _subtractor = np.array(range(1, length + 1))\n",
    "    \n",
    "    def _f(x: np.ndarray):\n",
    "        return np.sum(np.square(x - _subtractor))\n",
    "    \n",
    "    return _f"
   ]
  },
  {
   "cell_type": "code",
   "execution_count": 8,
   "metadata": {},
   "outputs": [],
   "source": [
    "def f6(x: np.ndarray):\n",
    "    sum_of_squares = np.sum(np.square(x))\n",
    "    \n",
    "    return (\n",
    "        0.5\n",
    "        + (\n",
    "            (np.square(np.sin(np.sqrt(sum_of_squares))) - 0.5) /\n",
    "            np.square(1 + 0.001 * sum_of_squares)\n",
    "        )\n",
    "    )"
   ]
  },
  {
   "cell_type": "code",
   "execution_count": 9,
   "metadata": {},
   "outputs": [],
   "source": [
    "def f7(x: np.ndarray):\n",
    "    sum_of_squares = np.sum(np.square(x))\n",
    "    \n",
    "    return (\n",
    "        np.power(sum_of_squares, 0.25) * (\n",
    "            1.0 + np.square(\n",
    "                np.sin(\n",
    "                    50 * np.power(sum_of_squares, 0.1)\n",
    "                )\n",
    "            )\n",
    "        )\n",
    "    )"
   ]
  },
  {
   "cell_type": "markdown",
   "metadata": {},
   "source": [
    "## Zadatci"
   ]
  },
  {
   "cell_type": "markdown",
   "metadata": {},
   "source": [
    "### Zadatak 1"
   ]
  },
  {
   "cell_type": "markdown",
   "metadata": {},
   "source": [
    "Isprobajte vašu implementaciju GA nad svim funkcijama uz granice $\\left[ -50, 150 \\right]$ za sve varijable te za oba prikaza rješenja (binarni, s pomičnom točkom)."
   ]
  },
  {
   "cell_type": "code",
   "execution_count": 10,
   "metadata": {},
   "outputs": [],
   "source": [
    "t1_interval = (-50, 150)"
   ]
  },
  {
   "cell_type": "markdown",
   "metadata": {},
   "source": [
    "Za binarni prikaz zadajte preciznost od barem tri decimalna mjesta."
   ]
  },
  {
   "cell_type": "code",
   "execution_count": 11,
   "metadata": {},
   "outputs": [
    {
     "data": {
      "text/markdown": [
       "Za interval $[-50, 150]$ trebat ćemo $18$ binarnih znamenaka da bi imali preciznost na $3$ decimale."
      ],
      "text/plain": [
       "<IPython.core.display.Markdown object>"
      ]
     },
     "metadata": {},
     "output_type": "display_data"
    }
   ],
   "source": [
    "t1_n_decimals = 3\n",
    "t1_dim = get_binary_dim_for_interval_and_decimals(\n",
    "    interval=t1_interval, n_decimals=t1_n_decimals\n",
    ")\n",
    "display(\n",
    "    Markdown(\n",
    "        f\"Za interval $[{t1_interval[0]}, {t1_interval[1]}]$ \"\n",
    "        f\"trebat ćemo ${t1_dim}$ binarnih znamenaka da bi \"\n",
    "        f\"imali preciznost na ${t1_n_decimals}$ decimale.\"\n",
    "    )\n",
    ")"
   ]
  },
  {
   "cell_type": "code",
   "execution_count": 12,
   "metadata": {},
   "outputs": [],
   "source": [
    "t1_be = BinaryEncoder(\n",
    "    dim=t1_dim, interval=t1_interval\n",
    ")\n",
    "t1_bd = BinaryDecoder(\n",
    "    dim=t1_dim, interval=t1_interval\n",
    ")"
   ]
  },
  {
   "cell_type": "markdown",
   "metadata": {},
   "source": [
    "Za funkciju $f_3$ odaberite barem $5$ varijabli, a za $f_6$ i $f_7$ dvije varijable."
   ]
  },
  {
   "cell_type": "code",
   "execution_count": 13,
   "metadata": {},
   "outputs": [],
   "source": [
    "t1_f3_n = 5\n",
    "t1_f6_n = 2\n",
    "t1_f7_n = 2"
   ]
  },
  {
   "cell_type": "code",
   "execution_count": 14,
   "metadata": {},
   "outputs": [],
   "source": [
    "t1_f3 = get_f3(t1_f3_n)\n",
    "t1_f6 = copy.deepcopy(f6)\n",
    "t1_f7 = copy.deepcopy(f7)"
   ]
  },
  {
   "cell_type": "code",
   "execution_count": 15,
   "metadata": {},
   "outputs": [],
   "source": [
    "t1_f3_binary = Function(lambda x: -t1_f3(t1_bd(x)))\n",
    "t1_f3_float = Function(lambda x: -t1_f3(x))"
   ]
  },
  {
   "cell_type": "code",
   "execution_count": 16,
   "metadata": {},
   "outputs": [],
   "source": [
    "t1_f6_binary = Function(lambda x: -t1_f6(t1_bd(x)))\n",
    "t1_f6_float = Function(lambda x: -t1_f6(x))"
   ]
  },
  {
   "cell_type": "code",
   "execution_count": 17,
   "metadata": {},
   "outputs": [],
   "source": [
    "t1_f7_binary = Function(lambda x: -t1_f7(t1_bd(x)))\n",
    "t1_f7_float = Function(lambda x: -t1_f7(x))"
   ]
  },
  {
   "cell_type": "markdown",
   "metadata": {},
   "source": [
    "Za sve funkcije možete smatrati da je rješenje pronađeno ako je krajnja vrijednost funkcije cilja manja od $10^{-6}$. Za neke funkcije algoritam će biti potrebno pokrenuti nekoliko puta."
   ]
  },
  {
   "cell_type": "markdown",
   "metadata": {},
   "source": [
    "**Odgovor**"
   ]
  },
  {
   "cell_type": "code",
   "execution_count": 18,
   "metadata": {},
   "outputs": [],
   "source": [
    "t1_max_retries = 3\n",
    "t1_max_iterations = 10000\n",
    "t1_capacity = 20\n",
    "t1_elitism = 1\n",
    "t1_epsilon = 1e-6"
   ]
  },
  {
   "cell_type": "code",
   "execution_count": 19,
   "metadata": {},
   "outputs": [],
   "source": [
    "t1_mp_schedule = lambda x: 0.05 * (np.sin(x/1000) + 1)"
   ]
  },
  {
   "cell_type": "code",
   "execution_count": 20,
   "metadata": {},
   "outputs": [],
   "source": [
    "t1_et_binary = EvolutionaryTournament(\n",
    "    selection=TournamentSelection(),\n",
    "    crossover=ANDCrossover(),\n",
    "    mutation=StochasticCorruptionMutation()\n",
    ")\n",
    "t1_et_float = EvolutionaryTournament(\n",
    "    selection=TournamentSelection(),\n",
    "    crossover=ChooseOneCrossover(interval=t1_interval),\n",
    "    mutation=GaussianMutation()\n",
    ")"
   ]
  },
  {
   "cell_type": "markdown",
   "metadata": {},
   "source": [
    "#### Funkcija $f_3$ - binarno"
   ]
  },
  {
   "cell_type": "code",
   "execution_count": 21,
   "metadata": {
    "scrolled": false
   },
   "outputs": [
    {
     "name": "stdout",
     "output_type": "stream",
     "text": [
      "[9833] [0.88 1.95 2.94 4.   4.9 ] (-0.03): 100%|██████████| 10000/10000 [00:05<00:00, 1956.53it/s]          \n",
      "[9988] [0.89 1.95 3.13 3.96 6.25] (-1.59): 100%|██████████| 10000/10000 [00:05<00:00, 1962.97it/s]          \n",
      "[9771] [0.88 1.95 3.13 4.   5.08] (-0.04): 100%|██████████| 10000/10000 [00:05<00:00, 1952.55it/s]          \n"
     ]
    }
   ],
   "source": [
    "t1_f3_binary_results = simple_ga(\n",
    "    wellness_function=t1_f3_binary,\n",
    "    specimen_length=t1_f3_n,\n",
    "    interval=t1_interval,\n",
    "    evolutionary_tournament=t1_et_binary,\n",
    "    max_retries=t1_max_retries,\n",
    "    max_iterations=t1_max_iterations,\n",
    "    population_capacity=t1_capacity,\n",
    "    elitism=t1_elitism,\n",
    "    epsilon=t1_epsilon,\n",
    "    mutation_scheduler=t1_mp_schedule,\n",
    "    encoding_function=t1_be,\n",
    "    decoding_function=t1_bd,\n",
    ")"
   ]
  },
  {
   "cell_type": "code",
   "execution_count": 22,
   "metadata": {},
   "outputs": [
    {
     "data": {
      "text/markdown": [
       "Pronađen je minimum vrijednosti $0.031142$ u točki \\begin{bmatrix}\n",
       "  0.8791 &  1.95332 &  2.9421 &  4.00411 &  4.89523\n",
       "\\end{bmatrix}"
      ],
      "text/plain": [
       "<IPython.core.display.Markdown object>"
      ]
     },
     "metadata": {},
     "output_type": "display_data"
    }
   ],
   "source": [
    "t1_f3_binary_best = sorted(t1_f3_binary_results, key=lambda x: x.wellness)[-1]\n",
    "\n",
    "display(\n",
    "    Markdown(\n",
    "        f\"Pronađen je minimum vrijednosti ${-t1_f3_binary_best.wellness:.06f}$ \"\n",
    "        f\"u točki {array_to_latex(t1_bd(t1_f3_binary_best.element))}\"\n",
    "    )\n",
    ")"
   ]
  },
  {
   "cell_type": "markdown",
   "metadata": {},
   "source": [
    "#### Funkcija $f_6$ - binarno"
   ]
  },
  {
   "cell_type": "code",
   "execution_count": 23,
   "metadata": {},
   "outputs": [
    {
     "name": "stdout",
     "output_type": "stream",
     "text": [
      "[759] [0. 0.] (-0.00):   8%|▊         | 759/10000 [00:00<00:04, 2040.06it/s]        \n"
     ]
    }
   ],
   "source": [
    "t1_f6_binary_results = simple_ga(\n",
    "    wellness_function=t1_f6_binary,\n",
    "    specimen_length=t1_f6_n,\n",
    "    interval=t1_interval,\n",
    "    evolutionary_tournament=t1_et_binary,\n",
    "    max_retries=t1_max_retries,\n",
    "    max_iterations=t1_max_iterations,\n",
    "    population_capacity=t1_capacity,\n",
    "    elitism=t1_elitism,\n",
    "    epsilon=t1_epsilon,\n",
    "    mutation_scheduler=t1_mp_schedule,\n",
    "    encoding_function=t1_be,\n",
    "    decoding_function=t1_bd,\n",
    ")"
   ]
  },
  {
   "cell_type": "code",
   "execution_count": 24,
   "metadata": {},
   "outputs": [
    {
     "data": {
      "text/markdown": [
       "Pronađen je minimum vrijednosti $0.000000$ u točki \\begin{bmatrix}\n",
       "  0.000190736 &  0.000190736\n",
       "\\end{bmatrix}"
      ],
      "text/plain": [
       "<IPython.core.display.Markdown object>"
      ]
     },
     "metadata": {},
     "output_type": "display_data"
    }
   ],
   "source": [
    "t1_f6_binary_best = sorted(t1_f6_binary_results, key=lambda x: x.wellness)[-1]\n",
    "\n",
    "display(\n",
    "    Markdown(\n",
    "        f\"Pronađen je minimum vrijednosti ${-t1_f6_binary_best.wellness:.06f}$ \"\n",
    "        f\"u točki {array_to_latex(t1_bd(t1_f6_binary_best.element))}\"\n",
    "    )\n",
    ")"
   ]
  },
  {
   "cell_type": "markdown",
   "metadata": {},
   "source": [
    "#### Funkcija $f_7$ - binarno"
   ]
  },
  {
   "cell_type": "code",
   "execution_count": 25,
   "metadata": {},
   "outputs": [
    {
     "name": "stdout",
     "output_type": "stream",
     "text": [
      "[170] [0. 0.] (-0.02): 100%|██████████| 10000/10000 [00:04<00:00, 2112.62it/s]  \n",
      "[1760] [0. 0.] (-0.02): 100%|██████████| 10000/10000 [00:04<00:00, 2078.39it/s]    \n",
      "[352] [0. 0.] (-0.02): 100%|██████████| 10000/10000 [00:04<00:00, 2090.99it/s]\n"
     ]
    }
   ],
   "source": [
    "t1_f7_binary_results = simple_ga(\n",
    "    wellness_function=t1_f7_binary,\n",
    "    specimen_length=t1_f7_n,\n",
    "    interval=t1_interval,\n",
    "    evolutionary_tournament=t1_et_binary,\n",
    "    max_retries=t1_max_retries,\n",
    "    max_iterations=t1_max_iterations,\n",
    "    population_capacity=t1_capacity,\n",
    "    elitism=t1_elitism,\n",
    "    epsilon=t1_epsilon,\n",
    "    mutation_scheduler=t1_mp_schedule,\n",
    "    encoding_function=t1_be,\n",
    "    decoding_function=t1_bd,\n",
    ")"
   ]
  },
  {
   "cell_type": "code",
   "execution_count": 26,
   "metadata": {},
   "outputs": [
    {
     "data": {
      "text/markdown": [
       "Pronađen je minimum vrijednosti $0.017346$ u točki \\begin{bmatrix}\n",
       "  0.000190736 &  0.000190736\n",
       "\\end{bmatrix}"
      ],
      "text/plain": [
       "<IPython.core.display.Markdown object>"
      ]
     },
     "metadata": {},
     "output_type": "display_data"
    }
   ],
   "source": [
    "t1_f7_binary_best = sorted(t1_f7_binary_results, key=lambda x: x.wellness)[-1]\n",
    "\n",
    "display(\n",
    "    Markdown(\n",
    "        f\"Pronađen je minimum vrijednosti ${-t1_f7_binary_best.wellness:.06f}$ \"\n",
    "        f\"u točki {array_to_latex(t1_bd(t1_f7_binary_best.element))}\"\n",
    "    )\n",
    ")"
   ]
  },
  {
   "cell_type": "markdown",
   "metadata": {},
   "source": [
    "---"
   ]
  },
  {
   "cell_type": "code",
   "execution_count": 27,
   "metadata": {},
   "outputs": [],
   "source": [
    "t1_mp_float_schedule = t1_mp_schedule = lambda x: 0.5 * (np.sin(x/1000) + 1)"
   ]
  },
  {
   "cell_type": "markdown",
   "metadata": {},
   "source": [
    "#### Funkcija $f_3$ - pomična točka"
   ]
  },
  {
   "cell_type": "code",
   "execution_count": 28,
   "metadata": {},
   "outputs": [
    {
     "name": "stdout",
     "output_type": "stream",
     "text": [
      "[5881] [0.99 1.99 3.02 4.   5.  ] (-0.00): 100%|██████████| 10000/10000 [00:03<00:00, 2636.71it/s]          \n",
      "[5861] [1.   1.99 3.02 4.   5.  ] (-0.00): 100%|██████████| 10000/10000 [00:03<00:00, 2589.28it/s]         \n",
      "[6424] [1.   2.01 2.99 4.03 5.  ] (-0.00): 100%|██████████| 10000/10000 [00:04<00:00, 2474.63it/s]    \n"
     ]
    }
   ],
   "source": [
    "t1_f3_float_results = simple_ga(\n",
    "    wellness_function=t1_f3_float,\n",
    "    specimen_length=t1_f3_n,\n",
    "    interval=t1_interval,\n",
    "    evolutionary_tournament=t1_et_float,\n",
    "    max_retries=t1_max_retries,\n",
    "    max_iterations=t1_max_iterations,\n",
    "    population_capacity=t1_capacity,\n",
    "    elitism=t1_elitism,\n",
    "    epsilon=t1_epsilon,\n",
    "    mutation_scheduler=t1_mp_schedule,\n",
    ")"
   ]
  },
  {
   "cell_type": "code",
   "execution_count": 29,
   "metadata": {},
   "outputs": [
    {
     "data": {
      "text/markdown": [
       "Pronađen je minimum vrijednosti $0.000345$ u točki \\begin{bmatrix}\n",
       "  1.00362 &  1.99229 &  3.016 &  4.00241 &  5.00327\n",
       "\\end{bmatrix}"
      ],
      "text/plain": [
       "<IPython.core.display.Markdown object>"
      ]
     },
     "metadata": {},
     "output_type": "display_data"
    }
   ],
   "source": [
    "t1_f3_float_best = sorted(t1_f3_float_results, key=lambda x: x.wellness)[-1]\n",
    "\n",
    "display(\n",
    "    Markdown(\n",
    "        f\"Pronađen je minimum vrijednosti ${-t1_f3_float_best.wellness:.06f}$ \"\n",
    "        f\"u točki {array_to_latex(t1_f3_float_best.element)}\"\n",
    "    )\n",
    ")"
   ]
  },
  {
   "cell_type": "markdown",
   "metadata": {},
   "source": [
    "#### Funkcija $f_6$ - pomična točka"
   ]
  },
  {
   "cell_type": "code",
   "execution_count": 30,
   "metadata": {},
   "outputs": [
    {
     "name": "stdout",
     "output_type": "stream",
     "text": [
      "[9697] [0. 0.] (-0.00): 100%|██████████| 10000/10000 [00:03<00:00, 2596.34it/s]     \n",
      "[3006] [2.63 1.71] (-0.01): 100%|██████████| 10000/10000 [00:03<00:00, 2736.66it/s]\n",
      "[3384] [-1.77 -2.59] (-0.01): 100%|██████████| 10000/10000 [00:03<00:00, 2608.80it/s]\n"
     ]
    }
   ],
   "source": [
    "t1_f6_float_results = simple_ga(\n",
    "    wellness_function=t1_f6_float,\n",
    "    specimen_length=t1_f6_n,\n",
    "    interval=t1_interval,\n",
    "    evolutionary_tournament=t1_et_float,\n",
    "    max_retries=t1_max_retries,\n",
    "    max_iterations=t1_max_iterations,\n",
    "    population_capacity=t1_capacity,\n",
    "    elitism=t1_elitism,\n",
    "    epsilon=t1_epsilon,\n",
    "    mutation_scheduler=t1_mp_schedule,\n",
    ")"
   ]
  },
  {
   "cell_type": "code",
   "execution_count": 31,
   "metadata": {},
   "outputs": [
    {
     "data": {
      "text/markdown": [
       "Pronađen je minimum vrijednosti $0.000005$ u točki \\begin{bmatrix}\n",
       "  0.00213936 &  0.000910992\n",
       "\\end{bmatrix}"
      ],
      "text/plain": [
       "<IPython.core.display.Markdown object>"
      ]
     },
     "metadata": {},
     "output_type": "display_data"
    }
   ],
   "source": [
    "t1_f6_float_best = sorted(t1_f6_float_results, key=lambda x: x.wellness)[-1]\n",
    "\n",
    "display(\n",
    "    Markdown(\n",
    "        f\"Pronađen je minimum vrijednosti ${-t1_f6_float_best.wellness:.06f}$ \"\n",
    "        f\"u točki {array_to_latex(t1_f6_float_best.element)}\"\n",
    "    )\n",
    ")"
   ]
  },
  {
   "cell_type": "markdown",
   "metadata": {},
   "source": [
    "#### Funkcija $f_7$ - pomična točka"
   ]
  },
  {
   "cell_type": "code",
   "execution_count": 32,
   "metadata": {},
   "outputs": [
    {
     "name": "stdout",
     "output_type": "stream",
     "text": [
      "[6766] [-0.   -0.01] (-0.09): 100%|██████████| 10000/10000 [00:04<00:00, 2466.79it/s]\n",
      "[6257] [-0.  0.] (-0.06): 100%|██████████| 10000/10000 [00:03<00:00, 2693.43it/s]     \n",
      "[9136] [ 0. -0.] (-0.06): 100%|██████████| 10000/10000 [00:03<00:00, 2701.24it/s]   \n"
     ]
    }
   ],
   "source": [
    "t1_f7_float_results = simple_ga(\n",
    "    wellness_function=t1_f7_float,\n",
    "    specimen_length=t1_f7_n,\n",
    "    interval=t1_interval,\n",
    "    evolutionary_tournament=t1_et_float,\n",
    "    max_retries=t1_max_retries,\n",
    "    max_iterations=t1_max_iterations,\n",
    "    population_capacity=t1_capacity,\n",
    "    elitism=t1_elitism,\n",
    "    epsilon=t1_epsilon,\n",
    "    mutation_scheduler=t1_mp_schedule,\n",
    ")"
   ]
  },
  {
   "cell_type": "code",
   "execution_count": 33,
   "metadata": {},
   "outputs": [
    {
     "data": {
      "text/markdown": [
       "Pronađen je minimum vrijednosti $0.056082$ u točki \\begin{bmatrix}\n",
       "  0.00151236 & -0.00240729\n",
       "\\end{bmatrix}"
      ],
      "text/plain": [
       "<IPython.core.display.Markdown object>"
      ]
     },
     "metadata": {},
     "output_type": "display_data"
    }
   ],
   "source": [
    "t1_f7_float_best = sorted(t1_f7_float_results, key=lambda x: x.wellness)[-1]\n",
    "\n",
    "display(\n",
    "    Markdown(\n",
    "        f\"Pronađen je minimum vrijednosti ${-t1_f7_float_best.wellness:.06f}$ \"\n",
    "        f\"u točki {array_to_latex(t1_f7_float_best.element)}\"\n",
    "    )\n",
    ")"
   ]
  },
  {
   "cell_type": "markdown",
   "metadata": {},
   "source": [
    "---"
   ]
  },
  {
   "cell_type": "markdown",
   "metadata": {},
   "source": [
    "Koje zaključke možete donijeti o uspješnosti GA za pojedinu funkciju? Koje su se funkcije pokazale teškima i zašto? "
   ]
  },
  {
   "cell_type": "markdown",
   "metadata": {},
   "source": [
    "**Odgovor**:"
   ]
  },
  {
   "cell_type": "markdown",
   "metadata": {},
   "source": [
    "Vidljivo je da su oba algoritma dobra za različite stvari. Na primjer, algoritam s binarnim zapisom ima problema s $f_3$, no zato iznimno brzo pronalazi minimume $f_6$ i $f_7$. S druge strane, algoritam sa zapisom s pomičnom točkom iznimno brzo nalazi rješenje za $f_3$, a ima problema s $f_6$ i $f_7$."
   ]
  },
  {
   "cell_type": "markdown",
   "metadata": {},
   "source": [
    "Moja hipoteza za takvo ponašanje su operatori križanja - operator kod binarnog zapisa koristi **logički i**, koji nije pogodan za $f_3$, ali je za ostale funkcije. S druge strane, u drugom algoritmu koristi se razmjena elemenata između roditelja, čime se vrlo lagano dolazi do rješenja $f_3$, ali ne i ostalih funkcija koje imaju puno lokalnih minimuma."
   ]
  },
  {
   "cell_type": "markdown",
   "metadata": {},
   "source": [
    "### Zadatak 2"
   ]
  },
  {
   "cell_type": "markdown",
   "metadata": {},
   "source": [
    "Provedite GA na funkcijama $f_6$ i $f_7$ mijenjajući dimenzionalnost funkcije $\\{1, 3, 6, 10\\}$."
   ]
  },
  {
   "cell_type": "code",
   "execution_count": 34,
   "metadata": {},
   "outputs": [],
   "source": [
    "t2_length_range = (1, 3, 6, 10)"
   ]
  },
  {
   "cell_type": "code",
   "execution_count": 35,
   "metadata": {},
   "outputs": [],
   "source": [
    "t2_interval = (-50, 150)"
   ]
  },
  {
   "cell_type": "code",
   "execution_count": 36,
   "metadata": {},
   "outputs": [
    {
     "data": {
      "text/markdown": [
       "Za interval $[-50, 150]$ trebat ćemo $18$ binarnih znamenaka da bi imali preciznost na $3$ decimale."
      ],
      "text/plain": [
       "<IPython.core.display.Markdown object>"
      ]
     },
     "metadata": {},
     "output_type": "display_data"
    }
   ],
   "source": [
    "t2_n_decimals = 3\n",
    "t2_dim = get_binary_dim_for_interval_and_decimals(\n",
    "    interval=t2_interval, n_decimals=t2_n_decimals\n",
    ")\n",
    "display(\n",
    "    Markdown(\n",
    "        f\"Za interval $[{t2_interval[0]}, {t2_interval[1]}]$ \"\n",
    "        f\"trebat ćemo ${t2_dim}$ binarnih znamenaka da bi \"\n",
    "        f\"imali preciznost na ${t2_n_decimals}$ decimale.\"\n",
    "    )\n",
    ")"
   ]
  },
  {
   "cell_type": "code",
   "execution_count": 37,
   "metadata": {},
   "outputs": [],
   "source": [
    "t2_be = BinaryEncoder(\n",
    "    dim=t2_dim, interval=t2_interval\n",
    ")\n",
    "t2_bd = BinaryDecoder(\n",
    "    dim=t2_dim, interval=t2_interval\n",
    ")"
   ]
  },
  {
   "cell_type": "code",
   "execution_count": 38,
   "metadata": {},
   "outputs": [],
   "source": [
    "t2_f6 = copy.deepcopy(f6)\n",
    "t2_f7 = copy.deepcopy(f7)"
   ]
  },
  {
   "cell_type": "code",
   "execution_count": 39,
   "metadata": {},
   "outputs": [],
   "source": [
    "t2_f6_binary = Function(lambda x: -t2_f6(t2_bd(x)))\n",
    "t2_f7_binary = Function(lambda x: -t2_f7(t2_bd(x)))"
   ]
  },
  {
   "cell_type": "code",
   "execution_count": 40,
   "metadata": {},
   "outputs": [],
   "source": [
    "t2_max_retries = 3\n",
    "t2_max_iterations = 10000\n",
    "t2_capacity = 20\n",
    "t2_elitism = 1\n",
    "t2_epsilon = 1e-6"
   ]
  },
  {
   "cell_type": "code",
   "execution_count": 41,
   "metadata": {},
   "outputs": [],
   "source": [
    "t2_mp_schedule = lambda x: 0.05 * (np.sin(x/1000) + 1)"
   ]
  },
  {
   "cell_type": "code",
   "execution_count": 42,
   "metadata": {},
   "outputs": [],
   "source": [
    "t2_et_binary = EvolutionaryTournament(\n",
    "    selection=TournamentSelection(),\n",
    "    crossover=ANDCrossover(),\n",
    "    mutation=StochasticCorruptionMutation()\n",
    ")"
   ]
  },
  {
   "cell_type": "code",
   "execution_count": 43,
   "metadata": {},
   "outputs": [
    {
     "name": "stdout",
     "output_type": "stream",
     "text": [
      "[61] [0.] (-0.00):   1%|          | 61/10000 [00:00<00:07, 1398.38it/s]\n",
      "Za duljinu 1 pronađen je minimum (0.000000).\n",
      "\n",
      "\n",
      "[340] [0. 0. 0.] (-0.00):   3%|▎         | 340/10000 [00:00<00:05, 1856.34it/s]      \n",
      "Za duljinu 3 pronađen je minimum (0.000001).\n",
      "\n",
      "\n",
      "[5661] [-8.59  0.    0.   -9.37  0.    0.01] (-0.15): 100%|██████████| 10000/10000 [00:05<00:00, 1882.60it/s]     \n",
      "[3620] [0. 0. 0. 0. 0. 0.] (-0.00):  36%|███▌      | 3620/10000 [00:01<00:03, 1948.19it/s]                        \n",
      "Za duljinu 6 pronađen je minimum (0.000000).\n",
      "\n",
      "\n",
      "[8019] [  3.91   0.01   0.   -25.     0.1    0.03 -46.87   0.78   0.81   0.78] (-0.47): 100%|██████████| 10000/10000 [00:05<00:00, 1804.25it/s]\n",
      "[9965] [  3.13 -12.5    0.   -18.69   0.     0.4  -11.72   0.     0.    12.5 ] (-0.36): 100%|██████████| 10000/10000 [00:05<00:00, 1770.33it/s]\n",
      "[9891] [  0.     0.2    0.   -18.75   0.4    0.     0.1    0.     0.     0.39] (-0.23): 100%|██████████| 10000/10000 [00:05<00:00, 1842.81it/s]\n",
      "Za duljinu 10 pronađen je minimum (0.230861).\n",
      "\n",
      "\n"
     ]
    }
   ],
   "source": [
    "for length in t2_length_range:\n",
    "    t2_results = simple_ga(\n",
    "    wellness_function=t2_f6_binary,\n",
    "    specimen_length=length,\n",
    "    interval=t2_interval,\n",
    "    evolutionary_tournament=t2_et_binary,\n",
    "    max_retries=t2_max_retries,\n",
    "    max_iterations=t2_max_iterations,\n",
    "    population_capacity=t2_capacity,\n",
    "    elitism=t2_elitism,\n",
    "    epsilon=t2_epsilon,\n",
    "    mutation_scheduler=t2_mp_schedule,\n",
    "    encoding_function=t2_be,\n",
    "    decoding_function=t2_bd,\n",
    "    )\n",
    "    \n",
    "    _best = sorted(t2_results, key= lambda x: x.wellness)[-1]\n",
    "    \n",
    "    print(f\"Za duljinu {length} pronađen je minimum ({-_best.wellness:.06f}).\\n\\n\")"
   ]
  },
  {
   "cell_type": "code",
   "execution_count": 44,
   "metadata": {},
   "outputs": [
    {
     "name": "stdout",
     "output_type": "stream",
     "text": [
      "[46] [0.] (-0.02): 100%|██████████| 10000/10000 [00:04<00:00, 2143.10it/s]\n",
      "[53] [0.] (-0.02): 100%|██████████| 10000/10000 [00:04<00:00, 2109.79it/s]\n",
      "[28] [0.] (-0.02): 100%|██████████| 10000/10000 [00:04<00:00, 2173.11it/s]\n",
      "Za duljinu 1 pronađen je minimum (0.015984).\n",
      "\n",
      "\n",
      "[713] [0. 0. 0.] (-0.02): 100%|██████████| 10000/10000 [00:04<00:00, 2101.19it/s]    \n",
      "[191] [0. 0. 0.] (-0.02): 100%|██████████| 10000/10000 [00:04<00:00, 2031.78it/s]    \n",
      "[1199] [0. 0. 0.] (-0.02): 100%|██████████| 10000/10000 [00:04<00:00, 2023.24it/s]         \n",
      "Za duljinu 3 pronađen je minimum (0.024644).\n",
      "\n",
      "\n",
      "[6067] [  6.45 -12.5    6.26 -12.5  -12.5    3.13] (-4.93): 100%|██████████| 10000/10000 [00:05<00:00, 1949.40it/s]\n",
      "[9773] [0. 0. 0. 0. 0. 0.] (-0.03): 100%|██████████| 10000/10000 [00:05<00:00, 1986.21it/s]                       \n",
      "[3634] [0. 0. 0. 0. 0. 0.] (-0.03): 100%|██████████| 10000/10000 [00:05<00:00, 1933.29it/s]                       \n",
      "Za duljinu 6 pronađen je minimum (0.032666).\n",
      "\n",
      "\n",
      "[8326] [-24.76  50.01   6.25   0.78   6.25   0.22 -24.99 -43.68   0.42 -45.26] (-9.42): 100%|██████████| 10000/10000 [00:05<00:00, 1789.89it/s]\n",
      "[9095] [  0.     0.02 -12.5    6.35   1.59   0.     0.    -9.37   0.     0.02] (-4.15): 100%|██████████| 10000/10000 [00:05<00:00, 1794.56it/s]\n",
      "[6783] [  0.02   0.4    0.39   1.62 -31.25  14.06  25.4    0.     0.1   12.5 ] (-6.67): 100%|██████████| 10000/10000 [00:05<00:00, 1808.26it/s]\n",
      "Za duljinu 10 pronađen je minimum (4.150853).\n",
      "\n",
      "\n"
     ]
    }
   ],
   "source": [
    "for length in t2_length_range:\n",
    "    _best = simple_ga(\n",
    "    wellness_function=t2_f7_binary,\n",
    "    specimen_length=length,\n",
    "    interval=t2_interval,\n",
    "    evolutionary_tournament=t2_et_binary,\n",
    "    max_retries=t2_max_retries,\n",
    "    max_iterations=t2_max_iterations,\n",
    "    population_capacity=t2_capacity,\n",
    "    elitism=t2_elitism,\n",
    "    epsilon=t2_epsilon,\n",
    "    mutation_scheduler=t2_mp_schedule,\n",
    "    encoding_function=t2_be,\n",
    "    decoding_function=t2_bd,\n",
    "    )\n",
    "    \n",
    "    _best_value = sorted(_best, key= lambda x: x.wellness)[-1]\n",
    "    \n",
    "    print(f\"Za duljinu {length} pronađen je minimum ({-_best_value.wellness:.06f}).\\n\\n\")"
   ]
  },
  {
   "cell_type": "markdown",
   "metadata": {},
   "source": [
    "Kako povećanje dimenzionalnosti funkcije utječe na ponašanje algoritma? "
   ]
  },
  {
   "cell_type": "markdown",
   "metadata": {},
   "source": [
    "**Odgovor**:"
   ]
  },
  {
   "cell_type": "markdown",
   "metadata": {},
   "source": [
    "Što je veća dimenzionalnost, to teže nalazimo rješenje."
   ]
  },
  {
   "cell_type": "markdown",
   "metadata": {},
   "source": [
    "### Zadatak 3"
   ]
  },
  {
   "cell_type": "markdown",
   "metadata": {},
   "source": [
    "Za funkcije $f_6$ i $f_7$ usporedite učinkovitost GA koji koristi binarni prikaz uz preciznost na $4$ decimale (tj. $10^{-4}$) i GA koji koristi prikaz s pomičnom točkom (ostali parametri neka budu jednaki), za dimenzije $3$ i $6$."
   ]
  },
  {
   "cell_type": "code",
   "execution_count": 45,
   "metadata": {},
   "outputs": [],
   "source": [
    "t3_interval = (-50, 150)"
   ]
  },
  {
   "cell_type": "code",
   "execution_count": 46,
   "metadata": {},
   "outputs": [
    {
     "data": {
      "text/markdown": [
       "Za interval $[-50, 150]$ trebat ćemo $21$ binarnih znamenaka da bi imali preciznost na $4$ decimale."
      ],
      "text/plain": [
       "<IPython.core.display.Markdown object>"
      ]
     },
     "metadata": {},
     "output_type": "display_data"
    }
   ],
   "source": [
    "t3_n_decimals = 4\n",
    "t3_dim = get_binary_dim_for_interval_and_decimals(\n",
    "    interval=t3_interval, n_decimals=t3_n_decimals\n",
    ")\n",
    "display(\n",
    "    Markdown(\n",
    "        f\"Za interval $[{t3_interval[0]}, {t3_interval[1]}]$ \"\n",
    "        f\"trebat ćemo ${t3_dim}$ binarnih znamenaka da bi \"\n",
    "        f\"imali preciznost na ${t3_n_decimals}$ decimale.\"\n",
    "    )\n",
    ")"
   ]
  },
  {
   "cell_type": "code",
   "execution_count": 47,
   "metadata": {},
   "outputs": [],
   "source": [
    "t3_be = BinaryEncoder(\n",
    "    dim=t3_dim, interval=t3_interval\n",
    ")\n",
    "t3_bd = BinaryDecoder(\n",
    "    dim=t3_dim, interval=t3_interval\n",
    ")"
   ]
  },
  {
   "cell_type": "code",
   "execution_count": 48,
   "metadata": {},
   "outputs": [],
   "source": [
    "t3_f6 = copy.deepcopy(f6)\n",
    "t3_f7 = copy.deepcopy(f7)"
   ]
  },
  {
   "cell_type": "code",
   "execution_count": 49,
   "metadata": {},
   "outputs": [],
   "source": [
    "t3_f6_binary = Function(lambda x: -t3_f6(t3_bd(x)))\n",
    "t3_f6_float = Function(lambda x: -t3_f6(x))\n",
    "t3_f7_binary = Function(lambda x: -t3_f7(t3_bd(x)))\n",
    "t3_f7_float = Function(lambda x: -t3_f7(x))"
   ]
  },
  {
   "cell_type": "code",
   "execution_count": 50,
   "metadata": {},
   "outputs": [],
   "source": [
    "t3_lengths = (3, 6)"
   ]
  },
  {
   "cell_type": "markdown",
   "metadata": {},
   "source": [
    "Rad algoritma ograničite zadanim brojem evaluacija (oko $10^5$)."
   ]
  },
  {
   "cell_type": "code",
   "execution_count": 51,
   "metadata": {},
   "outputs": [],
   "source": [
    "t3_max_iterations = 100000"
   ]
  },
  {
   "cell_type": "markdown",
   "metadata": {},
   "source": [
    "Inačice algoritma usporedite po uputama u sljedećem odjeljku."
   ]
  },
  {
   "cell_type": "markdown",
   "metadata": {},
   "source": [
    "#### Usporedba algoritama i prikaz rezultata"
   ]
  },
  {
   "cell_type": "markdown",
   "metadata": {},
   "source": [
    "Često je pitanje kako usporediti učinkovitost više algoritama ili istog algoritma za različite vrijednosti nekog parametra. Prije svega potrebno je uočiti da samo jedno izvođenje stohastičkog algoritma nije dovoljno; za svaku inačicu algoritam je potrebno izvesti nekoliko puta (barem $10$ u ovoj vježbi, $30$-$50$ za statistički potkrijepljenu nirvanu) uz *jednaki broj evaluacija* i iz svakog izvođenja zabilježiti dobrotu najbolje jedinke. Tada se nad tim skupom dobrota mogu izračunati različite mjere (srednja vrijednost, medijan, broj 'pogodaka' i slično), koje se koriste za usporedbu. Prilikom ispitivanja u ovoj vježbi iskoristite **broj pogodaka** (vrijednost funkcije cilja ispod $10^{-6}$) kao primarnu te medijan kao sekundarnu mjeru (ako je broj pogodaka jednak). Probajte obrazložiti zašto je medijan dobra mjera (često bolja od srednje vrijednosti)."
   ]
  },
  {
   "cell_type": "markdown",
   "metadata": {},
   "source": [
    "---"
   ]
  },
  {
   "cell_type": "code",
   "execution_count": 52,
   "metadata": {},
   "outputs": [],
   "source": [
    "t3_max_retries = 10\n",
    "t3_capacity = 20\n",
    "t3_elitism = 1\n",
    "t3_epsilon = 1e-6"
   ]
  },
  {
   "cell_type": "code",
   "execution_count": 53,
   "metadata": {},
   "outputs": [],
   "source": [
    "t3_pm_schedule = lambda x: 0.05 * (np.sin(x/1000) + 1)"
   ]
  },
  {
   "cell_type": "code",
   "execution_count": 54,
   "metadata": {},
   "outputs": [],
   "source": [
    "t3_folder_name = \"data/task-03\""
   ]
  },
  {
   "cell_type": "code",
   "execution_count": 55,
   "metadata": {},
   "outputs": [],
   "source": [
    "t3_et_binary = EvolutionaryTournament(\n",
    "    selection=TournamentSelection(),\n",
    "    crossover=ANDCrossover(),\n",
    "    mutation=StochasticCorruptionMutation()\n",
    ")\n",
    "t3_et_float = EvolutionaryTournament(\n",
    "    selection=TournamentSelection(),\n",
    "    crossover=ChooseOneCrossover(interval=t1_interval),\n",
    "    mutation=GaussianMutation()\n",
    ")"
   ]
  },
  {
   "cell_type": "code",
   "execution_count": 56,
   "metadata": {},
   "outputs": [],
   "source": [
    "t3_result_dict = dict()\n",
    "\n",
    "for t3_length in t3_lengths:\n",
    "    for t3_wf_name, t3_wf, t3_et, t3_ef, t3_df in zip(\n",
    "        (\"f6-binary\", \"f6-float\", \"f7-binary\", \"f7-float\"),\n",
    "        (t3_f6_binary, t3_f6_float, t3_f7_binary, t3_f7_float),\n",
    "        (t3_et_binary, t3_et_float, t3_et_binary, t3_et_float),\n",
    "        (t3_be, lambda x: x, t3_be, lambda x: x),\n",
    "        (t3_bd, lambda x: x, t3_bd, lambda x: x)\n",
    "    ):\n",
    "        _name = f\"{t3_wf_name}_length-{t3_length}\"\n",
    "        _file_name = f\"{_name}.pickle\"\n",
    "        _file_path = os.path.join(t3_folder_name, _file_name)\n",
    "        \n",
    "        if not os.path.exists(_file_path):\n",
    "            t3_results = simple_ga(\n",
    "                wellness_function=t3_wf,\n",
    "                specimen_length=t3_length,\n",
    "                interval=t3_interval,\n",
    "                evolutionary_tournament=t3_et,\n",
    "                max_retries=t3_max_retries,\n",
    "                max_iterations=t3_max_iterations,\n",
    "                population_capacity=t3_capacity,\n",
    "                elitism=t3_elitism,\n",
    "                epsilon=t3_epsilon,\n",
    "                stop_prematurely=False,\n",
    "                mutation_scheduler=t3_pm_schedule,\n",
    "                encoding_function=t3_ef,\n",
    "                decoding_function=t3_df,\n",
    "            )\n",
    "            \n",
    "            os.makedirs(t3_folder_name, exist_ok=True)\n",
    "            \n",
    "            with open(_file_path, mode=\"wb+\") as file:\n",
    "                pickle.dump(t3_results, file)\n",
    "                \n",
    "            print()\n",
    "                \n",
    "        with open(_file_path, mode=\"rb\") as file:\n",
    "            t3_result_dict[_name] = pickle.load(file)"
   ]
  },
  {
   "cell_type": "code",
   "execution_count": 57,
   "metadata": {},
   "outputs": [],
   "source": [
    "t3_statistic_dict = dict()\n",
    "\n",
    "for name, specimina in t3_result_dict.items():\n",
    "    _1 = sum([abs(specimen.wellness) < t3_epsilon for specimen in specimina])\n",
    "    _2 = np.median(np.array([specimen.wellness for specimen in specimina]), axis=0)\n",
    "    \n",
    "    t3_statistic_dict[name] = (_1, _2)"
   ]
  },
  {
   "cell_type": "code",
   "execution_count": 58,
   "metadata": {},
   "outputs": [
    {
     "name": "stdout",
     "output_type": "stream",
     "text": [
      "f6-binary_length-3\t10\t|\t-0.000000\n",
      "f6-binary_length-6\t8\t|\t-0.000000\n",
      "f7-binary_length-3\t0\t|\t-0.007209\n",
      "f7-binary_length-6\t0\t|\t-0.011827\n",
      "f6-float_length-3\t0\t|\t-0.312103\n",
      "f6-float_length-6\t0\t|\t-0.490885\n",
      "f7-float_length-3\t0\t|\t-3.598449\n",
      "f7-float_length-6\t0\t|\t-8.239555\n"
     ]
    }
   ],
   "source": [
    "t3_sorted_statistic = sorted(\n",
    "    list(t3_statistic_dict.items()),\n",
    "    key=lambda x: (-x[1][0], -x[1][1])\n",
    "    )\n",
    "\n",
    "for name, state_name in t3_sorted_statistic:\n",
    "    print(f\"{name}\\t{state_name[0]}\\t|\\t{state_name[1]:.06f}\")"
   ]
  },
  {
   "cell_type": "markdown",
   "metadata": {},
   "source": [
    "Što možete zaključiti o različitim prikazima rješenja za različite funkcije? "
   ]
  },
  {
   "cell_type": "markdown",
   "metadata": {},
   "source": [
    "**Odgovor**:"
   ]
  },
  {
   "cell_type": "markdown",
   "metadata": {},
   "source": [
    "Lako je vidljivo da je najuspješniji binarni zapis, te je $f_7$ naizgleda teža funkcija."
   ]
  },
  {
   "cell_type": "markdown",
   "metadata": {},
   "source": [
    "### Zadatak 4"
   ]
  },
  {
   "cell_type": "markdown",
   "metadata": {},
   "source": [
    "Za funkciju $f_6$ pokušajte pronaći 'idealne' parametre genetskog algoritma. 'Idealne' parametre potrebno je odrediti barem za veličinu populacije (npr. $30$, $50$, $100$, $200$) i vjerojatnost mutacije jedinke (npr. $0.1$, $0.3$, $0.6$, $0.9$) a po želji možete i za još neke druge parametre koje je vaš algoritam koristio."
   ]
  },
  {
   "cell_type": "code",
   "execution_count": 59,
   "metadata": {},
   "outputs": [],
   "source": [
    "t4_capacities = (30, 50, 100, 200)\n",
    "t4_mutation_probabilities = (0.1, 0.3, 0.6, 0.9)"
   ]
  },
  {
   "cell_type": "markdown",
   "metadata": {},
   "source": [
    "Jedan postupak traženja parametara opisan je u nastavku."
   ]
  },
  {
   "cell_type": "markdown",
   "metadata": {},
   "source": [
    "#### Kako pronaći dobre parametre"
   ]
  },
  {
   "cell_type": "markdown",
   "metadata": {},
   "source": [
    "Najčešći postupak optimiranja parametara je jedan po jedan, počevši od parametara veće 'važnosti' (utjecaja na učinkovitost). Primjerice, ako optimiramo veličinu populacije, odabiremo nekoliko vrijednosti za taj parametar i pri tome sve ostale parametre držimo nepromijenjene. Kada smo našli 'idealnu' vrijednost za taj parametar, njega fiksiramo i potom optimiramo idući parametar. Postupak se nastavlja dok to nismo \n",
    "napravili za sve parametre. Na početku je potrebno definirati početni skup vrijednosti (proizvoljno, po osjećaju). Pronalaženje parametara moguće je i uporabom optimizacijskog algoritma koji kao funkciju cilja dobiva učinkovitost promatranog algoritma na 'nižoj razini' (GA u ovom slučaju), pa je tu riječ o *meta-optimizaciji*. Algoritam na 'višoj razini' može biti deterministički ili stohastički, pa su moguće kombinacije lokalni-GA, ili GA-GA ako se jedan GA koristi za optimizaciju parametara 'nižeg' GA. "
   ]
  },
  {
   "cell_type": "markdown",
   "metadata": {},
   "source": [
    "Koristite medijan kao mjeru usporedbe i prikažite kretanje učinkovitosti za barem jedan parametar uz pomoć *box-plot prikaza* (opisano u nastavku)."
   ]
  },
  {
   "cell_type": "code",
   "execution_count": 60,
   "metadata": {},
   "outputs": [],
   "source": [
    "t4_interval = (-50, 150)"
   ]
  },
  {
   "cell_type": "code",
   "execution_count": 61,
   "metadata": {},
   "outputs": [
    {
     "data": {
      "text/markdown": [
       "Za interval $[-50, 150]$ trebat ćemo $28$ binarnih znamenaka da bi imali preciznost na $6$ decimale."
      ],
      "text/plain": [
       "<IPython.core.display.Markdown object>"
      ]
     },
     "metadata": {},
     "output_type": "display_data"
    }
   ],
   "source": [
    "t4_n_decimals = 6\n",
    "t4_dim = get_binary_dim_for_interval_and_decimals(\n",
    "    interval=t4_interval, n_decimals=t4_n_decimals\n",
    ")\n",
    "display(\n",
    "    Markdown(\n",
    "        f\"Za interval $[{t4_interval[0]}, {t4_interval[1]}]$ \"\n",
    "        f\"trebat ćemo ${t4_dim}$ binarnih znamenaka da bi \"\n",
    "        f\"imali preciznost na ${t4_n_decimals}$ decimale.\"\n",
    "    )\n",
    ")"
   ]
  },
  {
   "cell_type": "code",
   "execution_count": 62,
   "metadata": {},
   "outputs": [],
   "source": [
    "t4_be = BinaryEncoder(\n",
    "    dim=t4_dim, interval=t4_interval\n",
    ")\n",
    "t4_bd = BinaryDecoder(\n",
    "    dim=t4_dim, interval=t4_interval\n",
    ")"
   ]
  },
  {
   "cell_type": "code",
   "execution_count": 63,
   "metadata": {},
   "outputs": [],
   "source": [
    "t4_f6 = copy.deepcopy(f6)"
   ]
  },
  {
   "cell_type": "code",
   "execution_count": 64,
   "metadata": {},
   "outputs": [],
   "source": [
    "t4_f6_binary = Function(lambda x: -t4_f6(t4_bd(x)))"
   ]
  },
  {
   "cell_type": "code",
   "execution_count": 65,
   "metadata": {},
   "outputs": [],
   "source": [
    "t4_max_iterations = 10000\n",
    "t4_max_retries = 20\n",
    "t4_specimen_length = 3\n",
    "t4_elitism = 1\n",
    "t4_epsilon = 1e-6"
   ]
  },
  {
   "cell_type": "code",
   "execution_count": 66,
   "metadata": {},
   "outputs": [],
   "source": [
    "t4_folder_name = \"data/task-04\""
   ]
  },
  {
   "cell_type": "code",
   "execution_count": 67,
   "metadata": {},
   "outputs": [],
   "source": [
    "t4_et_binary = EvolutionaryTournament(\n",
    "    selection=TournamentSelection(),\n",
    "    crossover=ANDCrossover(),\n",
    "    mutation=StochasticCorruptionMutation()\n",
    ")"
   ]
  },
  {
   "cell_type": "code",
   "execution_count": 68,
   "metadata": {
    "scrolled": true
   },
   "outputs": [],
   "source": [
    "t4_result_dict = dict()\n",
    "\n",
    "for t4_capacity in t4_capacities:\n",
    "    t4_mutation_probability = t4_mutation_probabilities[0]\n",
    "    \n",
    "    _name = f\"capacity-{t4_capacity}_mp-{t4_mutation_probability:.02f}\"\n",
    "    _file_name = f\"{_name}.pickle\"\n",
    "    _file_path = os.path.join(t4_folder_name, _file_name)\n",
    "    \n",
    "    if not os.path.exists(_file_path):\n",
    "        t4_pm_schedule = lambda x: t4_mutation_probability\n",
    "        \n",
    "        t4_results = simple_ga(\n",
    "            wellness_function=t4_f6_binary,\n",
    "            specimen_length=t4_specimen_length,\n",
    "            interval=t4_interval,\n",
    "            evolutionary_tournament=t4_et_binary,\n",
    "            max_retries=t4_max_retries,\n",
    "            max_iterations=t4_max_iterations,\n",
    "            population_capacity=t4_capacity,\n",
    "            elitism=t4_elitism,\n",
    "            epsilon=t4_epsilon,\n",
    "            stop_prematurely=False,\n",
    "            mutation_scheduler=t4_pm_schedule,\n",
    "            encoding_function=t4_be,\n",
    "            decoding_function=t4_bd,\n",
    "        )\n",
    "            \n",
    "        os.makedirs(t4_folder_name, exist_ok=True)\n",
    "\n",
    "        with open(_file_path, mode=\"wb+\") as file:\n",
    "            _results = np.array([specimen.wellness for specimen in t4_results])\n",
    "                                 \n",
    "            pickle.dump(\n",
    "                {\n",
    "                    \"capacity\": t4_capacity,\n",
    "                    \"mutation_probability\": t4_mutation_probability,\n",
    "                    \"results\": _results,\n",
    "                    \"median\": float(np.median(_results, axis=0))\n",
    "                },\n",
    "                file\n",
    "            )\n",
    "\n",
    "        print()\n",
    "                \n",
    "    with open(_file_path, mode=\"rb\") as file:\n",
    "        t4_result_dict[_name] = pickle.load(file)"
   ]
  },
  {
   "cell_type": "code",
   "execution_count": 69,
   "metadata": {},
   "outputs": [],
   "source": [
    "t4_statistic_dict = dict()\n",
    "\n",
    "for value in t4_result_dict.values():\n",
    "    t4_statistic_dict[value[\"capacity\"]] = value[\"median\"]"
   ]
  },
  {
   "cell_type": "code",
   "execution_count": 70,
   "metadata": {},
   "outputs": [
    {
     "data": {
      "text/markdown": [
       "Optimalna veličina populacije je $50$."
      ],
      "text/plain": [
       "<IPython.core.display.Markdown object>"
      ]
     },
     "metadata": {},
     "output_type": "display_data"
    }
   ],
   "source": [
    "t4_sorted_statistic = sorted(\n",
    "    list(t4_statistic_dict.items()),\n",
    "    key=lambda x: -x[1]\n",
    "    )\n",
    "\n",
    "t4_best_capacity = t4_sorted_statistic[0][0]\n",
    "\n",
    "display(\n",
    "    Markdown(\n",
    "        f\"Optimalna veličina populacije je ${t4_best_capacity}$.\"\n",
    "    )\n",
    ")"
   ]
  },
  {
   "cell_type": "code",
   "execution_count": 71,
   "metadata": {},
   "outputs": [],
   "source": [
    "t4_result_dict_2 = dict()\n",
    "\n",
    "for t4_mutation_probability in t4_mutation_probabilities:\n",
    "    _name = f\"capacity-{t4_capacity}_mp-{t4_mutation_probability:.02f}\"\n",
    "    _file_name = f\"{_name}.pickle\"\n",
    "    _file_path = os.path.join(t4_folder_name, _file_name)\n",
    "    \n",
    "    if not os.path.exists(_file_path):\n",
    "        t4_pm_schedule = lambda x: t4_mutation_probability\n",
    "        \n",
    "        t4_results = simple_ga(\n",
    "            wellness_function=t4_f6_binary,\n",
    "            specimen_length=t4_specimen_length,\n",
    "            interval=t4_interval,\n",
    "            evolutionary_tournament=t4_et_binary,\n",
    "            max_retries=t4_max_retries,\n",
    "            max_iterations=t4_max_iterations,\n",
    "            population_capacity=t4_best_capacity,\n",
    "            elitism=t4_elitism,\n",
    "            epsilon=t4_epsilon,\n",
    "            stop_prematurely=False,\n",
    "            mutation_scheduler=t4_pm_schedule,\n",
    "            encoding_function=t4_be,\n",
    "            decoding_function=t4_bd,\n",
    "        )\n",
    "\n",
    "        os.makedirs(t4_folder_name, exist_ok=True)\n",
    "\n",
    "        with open(_file_path, mode=\"wb+\") as file:\n",
    "            _results = np.array([specimen.wellness for specimen in t4_results])\n",
    "                                 \n",
    "            pickle.dump(\n",
    "                {\n",
    "                    \"capacity\": t4_best_capacity,\n",
    "                    \"mutation_probability\": t4_mutation_probability,\n",
    "                    \"results\": _results,\n",
    "                    \"median\": float(np.median(_results, axis=0))\n",
    "                },\n",
    "                file\n",
    "            )\n",
    "\n",
    "        print()\n",
    "                \n",
    "    with open(_file_path, mode=\"rb\") as file:\n",
    "        t4_result_dict_2[_name] = pickle.load(file)"
   ]
  },
  {
   "cell_type": "code",
   "execution_count": 72,
   "metadata": {},
   "outputs": [],
   "source": [
    "t4_statistic_dict_2 = dict()\n",
    "\n",
    "for value in t4_result_dict_2.values():\n",
    "    t4_statistic_dict_2[value[\"mutation_probability\"]] = value[\"median\"]"
   ]
  },
  {
   "cell_type": "code",
   "execution_count": 73,
   "metadata": {},
   "outputs": [
    {
     "data": {
      "text/markdown": [
       "Optimalna stopa mutacije za veličinu populacije $50$ je $10.00\\%$."
      ],
      "text/plain": [
       "<IPython.core.display.Markdown object>"
      ]
     },
     "metadata": {},
     "output_type": "display_data"
    }
   ],
   "source": [
    "t4_sorted_statistic_2 = sorted(\n",
    "    list(t4_statistic_dict_2.items()),\n",
    "    key=lambda x: -x[1]\n",
    "    )\n",
    "\n",
    "t4_best_mutation_probability = t4_sorted_statistic_2[0][0]\n",
    "\n",
    "display(\n",
    "    Markdown(\n",
    "        f\"Optimalna stopa mutacije za veličinu populacije \"\n",
    "        f\"${t4_best_capacity}$ je ${t4_best_mutation_probability * 100:.02f}\\%$.\"\n",
    "    )\n",
    ")"
   ]
  },
  {
   "cell_type": "markdown",
   "metadata": {},
   "source": [
    "---"
   ]
  },
  {
   "cell_type": "code",
   "execution_count": 74,
   "metadata": {},
   "outputs": [],
   "source": [
    "t4_capacity_values = [([-y for y in x[\"results\"]], x[\"capacity\"]) for x in t4_result_dict.values()]\n",
    "t4_mutation_probability_values = [\n",
    "    ([-y for y in x[\"results\"]], x[\"mutation_probability\"])\n",
    "    for x in t4_result_dict_2.values()\n",
    "]"
   ]
  },
  {
   "cell_type": "code",
   "execution_count": 75,
   "metadata": {},
   "outputs": [
    {
     "data": {
      "image/png": "[encoded data removed]",
      "text/plain": [
       "<Figure size 1152x864 with 2 Axes>"
      ]
     },
     "metadata": {
      "needs_background": "light"
     },
     "output_type": "display_data"
    }
   ],
   "source": [
    "t4_fig, t4_ax = plt.subplots(2, 1, figsize=(16, 12))\n",
    "\n",
    "t4_ax[0].boxplot([x[0] for x in t4_capacity_values])\n",
    "t4_ax[0].set_xticklabels([str(x[1]) for x in t4_capacity_values])\n",
    "t4_ax[0].set_xlabel(\"Veličina populacije\")\n",
    "\n",
    "t4_ax[1].boxplot([x[0] for x in t4_mutation_probability_values])\n",
    "t4_ax[1].set_xticklabels([str(x[1]) for x in t4_mutation_probability_values])\n",
    "t4_ax[1].set_xlabel(\"Stopa mutacije\")\n",
    "\n",
    "t4_fig.show();"
   ]
  },
  {
   "cell_type": "markdown",
   "metadata": {},
   "source": [
    "### Zadatak 5"
   ]
  },
  {
   "cell_type": "markdown",
   "metadata": {},
   "source": [
    "Ako ste implementirali turnirsku selekciju, probajte nad nekom težom funkcijom ($f_6$ ili $f_7$) izvesti algoritam koristeći različite veličine turnira. Pomaže li veći turnir algoritmu da pronađe bolja rješenja? Ako ste implementirali selekciju *roulette wheel*,isprobajte više vrijednosti omjera odabira najbolje i najlošije jedinke (skaliranje funkcije cilja) te komentirajte dobivene rezultate (također možete isprobati generacijsku i eliminacijsku varijantu)."
   ]
  },
  {
   "cell_type": "code",
   "execution_count": 76,
   "metadata": {},
   "outputs": [],
   "source": [
    "t5_tournament_sizes = (3, 5, 7, 8)"
   ]
  },
  {
   "cell_type": "code",
   "execution_count": 77,
   "metadata": {},
   "outputs": [],
   "source": [
    "t5_interval = (-50, 150)"
   ]
  },
  {
   "cell_type": "code",
   "execution_count": 78,
   "metadata": {},
   "outputs": [
    {
     "data": {
      "text/markdown": [
       "Za interval $[-50, 150]$ trebat ćemo $28$ binarnih znamenaka da bi imali preciznost na $6$ decimale."
      ],
      "text/plain": [
       "<IPython.core.display.Markdown object>"
      ]
     },
     "metadata": {},
     "output_type": "display_data"
    }
   ],
   "source": [
    "t5_n_decimals = 6\n",
    "t5_dim = get_binary_dim_for_interval_and_decimals(\n",
    "    interval=t5_interval, n_decimals=t5_n_decimals\n",
    ")\n",
    "display(\n",
    "    Markdown(\n",
    "        f\"Za interval $[{t5_interval[0]}, {t5_interval[1]}]$ \"\n",
    "        f\"trebat ćemo ${t5_dim}$ binarnih znamenaka da bi \"\n",
    "        f\"imali preciznost na ${t5_n_decimals}$ decimale.\"\n",
    "    )\n",
    ")"
   ]
  },
  {
   "cell_type": "code",
   "execution_count": 79,
   "metadata": {},
   "outputs": [],
   "source": [
    "t5_be = BinaryEncoder(\n",
    "    dim=t5_dim, interval=t5_interval\n",
    ")\n",
    "t5_bd = BinaryDecoder(\n",
    "    dim=t5_dim, interval=t5_interval\n",
    ")"
   ]
  },
  {
   "cell_type": "code",
   "execution_count": 80,
   "metadata": {},
   "outputs": [],
   "source": [
    "t5_f6 = copy.deepcopy(f6)"
   ]
  },
  {
   "cell_type": "code",
   "execution_count": 81,
   "metadata": {},
   "outputs": [],
   "source": [
    "t5_f6_binary = Function(lambda x: -t5_f6(t5_bd(x)))"
   ]
  },
  {
   "cell_type": "code",
   "execution_count": 82,
   "metadata": {},
   "outputs": [],
   "source": [
    "t5_max_iterations = 10000\n",
    "t5_max_retries = 20\n",
    "t5_specimen_length = 3\n",
    "t5_capacity = 20\n",
    "t5_elitism = 1\n",
    "t5_epsilon = 1e-6"
   ]
  },
  {
   "cell_type": "code",
   "execution_count": 83,
   "metadata": {},
   "outputs": [],
   "source": [
    "t5_mp_schedule = lambda x: 0.05 * (np.sin(x/1000) + 1)"
   ]
  },
  {
   "cell_type": "code",
   "execution_count": 84,
   "metadata": {},
   "outputs": [],
   "source": [
    "t5_folder_name = \"data/task-05\""
   ]
  },
  {
   "cell_type": "code",
   "execution_count": 85,
   "metadata": {},
   "outputs": [],
   "source": [
    "t5_et_binary = EvolutionaryTournament(\n",
    "    selection=TournamentSelection(),\n",
    "    crossover=ANDCrossover(),\n",
    "    mutation=StochasticCorruptionMutation()\n",
    ")"
   ]
  },
  {
   "cell_type": "code",
   "execution_count": 86,
   "metadata": {
    "scrolled": true
   },
   "outputs": [],
   "source": [
    "t5_result_dict = dict()\n",
    "\n",
    "for t5_tournament_size in t5_tournament_sizes:\n",
    "    _name = f\"tournament-size-{t5_tournament_size}\"\n",
    "    _file_name = f\"{_name}.pickle\"\n",
    "    _file_path = os.path.join(t5_folder_name, _file_name)\n",
    "    \n",
    "    if not os.path.exists(_file_path):\n",
    "        t5_results = simple_ga(\n",
    "            wellness_function=t5_f6_binary,\n",
    "            specimen_length=t5_specimen_length,\n",
    "            interval=t5_interval,\n",
    "            evolutionary_tournament=t5_et_binary,\n",
    "            max_retries=t5_max_retries,\n",
    "            max_iterations=t5_max_iterations,\n",
    "            population_capacity=t5_capacity,\n",
    "            elitism=t5_elitism,\n",
    "            epsilon=t5_epsilon,\n",
    "            stop_prematurely=False,\n",
    "            mutation_scheduler=t5_mp_schedule,\n",
    "            encoding_function=t5_be,\n",
    "            decoding_function=t5_bd,\n",
    "        )\n",
    "            \n",
    "        os.makedirs(t5_folder_name, exist_ok=True)\n",
    "\n",
    "        with open(_file_path, mode=\"wb+\") as file:\n",
    "            _results = np.array([specimen.wellness for specimen in t5_results])\n",
    "                                 \n",
    "            pickle.dump(\n",
    "                {\n",
    "                    \"tournament_size\": t5_tournament_size,\n",
    "                    \"results\": _results\n",
    "                },\n",
    "                file\n",
    "            )\n",
    "\n",
    "        print()\n",
    "                \n",
    "    with open(_file_path, mode=\"rb\") as file:\n",
    "        t5_result_dict[_name] = pickle.load(file)"
   ]
  },
  {
   "cell_type": "code",
   "execution_count": 87,
   "metadata": {},
   "outputs": [],
   "source": [
    "t5_tournament_size_values = [\n",
    "    ([-y for y in x[\"results\"]], x[\"tournament_size\"])\n",
    "    for x in t5_result_dict.values()\n",
    "]"
   ]
  },
  {
   "cell_type": "code",
   "execution_count": 88,
   "metadata": {},
   "outputs": [
    {
     "data": {
      "image/png": "[encoded data removed]",
      "text/plain": [
       "<Figure size 1152x648 with 1 Axes>"
      ]
     },
     "metadata": {
      "needs_background": "light"
     },
     "output_type": "display_data"
    }
   ],
   "source": [
    "t5_fig, t5_ax = plt.subplots(1, 1, figsize=(16, 9))\n",
    "\n",
    "t5_ax.boxplot([x[0] for x in t5_tournament_size_values])\n",
    "t5_ax.set_xticklabels([str(x[1]) for x in t5_tournament_size_values])\n",
    "t5_ax.set_xlabel(\"Veličina turnira\")\n",
    "\n",
    "t5_fig.show();"
   ]
  },
  {
   "cell_type": "markdown",
   "metadata": {},
   "source": [
    "**Komentar**:\n",
    "\n",
    "Po boxplotovima se ne vidi neka prevelika pravilnost. Raspršenje u pravilu dominira nad aritmetičkom sredinom, pa odabir veličine turnira s našim postavkama ne mijenja stvari previše. Ovo je indikator da nam je mutacija čak i pri velikom selekcijskom pritisku efektivna u razrješavanju lokalnih minimuma."
   ]
  }
 ],
 "metadata": {
  "kernelspec": {
   "display_name": "aipr_dz04",
   "language": "python",
   "name": "aipr_dz04"
  },
  "language_info": {
   "codemirror_mode": {
    "name": "ipython",
    "version": 3
   },
   "file_extension": ".py",
   "mimetype": "text/x-python",
   "name": "python",
   "nbconvert_exporter": "python",
   "pygments_lexer": "ipython3",
   "version": "3.8.5"
  }
 },
 "nbformat": 4,
 "nbformat_minor": 4
}
