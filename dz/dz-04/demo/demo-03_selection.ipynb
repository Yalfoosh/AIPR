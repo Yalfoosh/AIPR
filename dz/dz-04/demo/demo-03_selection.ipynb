{
 "cells": [
  {
   "cell_type": "markdown",
   "metadata": {},
   "source": [
    "# Analiza i projektiranje računalom - 4. laboratorijska vježba: demo selection.py"
   ]
  },
  {
   "cell_type": "markdown",
   "metadata": {},
   "source": [
    "## Priprema za izvođenje"
   ]
  },
  {
   "cell_type": "code",
   "execution_count": 1,
   "metadata": {},
   "outputs": [],
   "source": [
    "import os\n",
    "\n",
    "CD_KEY = \"--HW04_D03_IN_ROOT\""
   ]
  },
  {
   "cell_type": "code",
   "execution_count": 2,
   "metadata": {},
   "outputs": [
    {
     "name": "stdout",
     "output_type": "stream",
     "text": [
      "/mnt/data/projekti/faks/AIPR/dz/dz-04\n"
     ]
    }
   ],
   "source": [
    "if (\n",
    "    CD_KEY not in os.environ\n",
    "    or os.environ[CD_KEY] is None\n",
    "    or len(os.environ[CD_KEY]) == 0\n",
    "    or os.environ[CD_KEY] == \"false\"\n",
    "):\n",
    "    %cd ..\n",
    "else:\n",
    "    print(os.getcwd())\n",
    "    \n",
    "os.environ[CD_KEY] = \"true\""
   ]
  },
  {
   "cell_type": "markdown",
   "metadata": {},
   "source": [
    "## Učitavanje paketa"
   ]
  },
  {
   "cell_type": "code",
   "execution_count": 3,
   "metadata": {},
   "outputs": [],
   "source": [
    "import numpy as np\n",
    "\n",
    "from src.evolution.function import Function\n",
    "from src.evolution.population import Population\n",
    "from src.evolution.selection import TournamentSelection"
   ]
  },
  {
   "cell_type": "markdown",
   "metadata": {},
   "source": [
    "## Inicijalizacija"
   ]
  },
  {
   "cell_type": "markdown",
   "metadata": {},
   "source": [
    "### Formatiranje"
   ]
  },
  {
   "cell_type": "code",
   "execution_count": 4,
   "metadata": {},
   "outputs": [],
   "source": [
    "np.set_printoptions(precision=2, suppress=True)"
   ]
  },
  {
   "cell_type": "markdown",
   "metadata": {},
   "source": [
    "### Konstante"
   ]
  },
  {
   "cell_type": "code",
   "execution_count": 5,
   "metadata": {},
   "outputs": [],
   "source": [
    "wellness_function = Function(lambda x: np.mean(np.square(x)))\n",
    "\n",
    "capacity = 10\n",
    "\n",
    "tournament_sizes = (3, 5)\n",
    "winner_counts = (2, 3)"
   ]
  },
  {
   "cell_type": "markdown",
   "metadata": {},
   "source": [
    "### Populacije"
   ]
  },
  {
   "cell_type": "code",
   "execution_count": 6,
   "metadata": {},
   "outputs": [],
   "source": [
    "population = Population(\n",
    "    wellness_function=wellness_function,\n",
    "    capacity=capacity\n",
    ")\n",
    "population.invade(np.random.uniform(-1, 1, (capacity, 3)))"
   ]
  },
  {
   "cell_type": "markdown",
   "metadata": {},
   "source": [
    "### Selekcije"
   ]
  },
  {
   "cell_type": "code",
   "execution_count": 7,
   "metadata": {},
   "outputs": [],
   "source": [
    "selections = [\n",
    "    TournamentSelection(\n",
    "        tournament_size=tournament_size,\n",
    "        n_winners=n_winners,\n",
    "    )\n",
    "    for tournament_size in tournament_sizes\n",
    "    for n_winners in winner_counts\n",
    "]"
   ]
  },
  {
   "cell_type": "markdown",
   "metadata": {},
   "source": [
    "## Demonstracija"
   ]
  },
  {
   "cell_type": "code",
   "execution_count": 8,
   "metadata": {},
   "outputs": [
    {
     "name": "stdout",
     "output_type": "stream",
     "text": [
      "Population (10 / 10)\n",
      "\t[0.3555822999384026] [-0.1   0.3  -0.98]\n",
      "\t[0.28879528109863156] [ 0.59  0.65 -0.3 ]\n",
      "\t[0.2730715321927454] [-0.79  0.32 -0.31]\n",
      "\t[0.23083907844681703] [0.25 0.65 0.45]\n",
      "\t[0.21880765382593237] [-0.26  0.71 -0.29]\n",
      "\t[0.18536949859960483] [ 0.73 -0.15  0.05]\n",
      "\t[0.12007485899453436] [0.6  0.03 0.06]\n",
      "\t[0.06480918913974147] [0.38 0.23 0.02]\n",
      "\t[0.056507752725287935] [-0.17  0.35  0.14]\n",
      "\t[0.053983651403370726] [-0.23 -0.27 -0.2 ]\n"
     ]
    }
   ],
   "source": [
    "print(population)"
   ]
  },
  {
   "cell_type": "code",
   "execution_count": 9,
   "metadata": {
    "scrolled": false
   },
   "outputs": [
    {
     "name": "stdout",
     "output_type": "stream",
     "text": [
      "TournamentSelection (3-tournament, 2 win)\n",
      "\tParticipants: [2 3 6]\n",
      "\t\t[0.2730715321927454] [-0.79  0.32 -0.31]\n",
      "\t\t[0.23083907844681703] [0.25 0.65 0.45]\n",
      "\t\t[0.12007485899453436] [0.6  0.03 0.06]\n",
      "\tWinners: [2 3]\n",
      "\t\t[0.2730715321927454] [-0.79  0.32 -0.31]\n",
      "\t\t[0.23083907844681703] [0.25 0.65 0.45]\n",
      "\n",
      "TournamentSelection (3-tournament, 3 win)\n",
      "\tParticipants: [3 4 9]\n",
      "\t\t[0.23083907844681703] [0.25 0.65 0.45]\n",
      "\t\t[0.21880765382593237] [-0.26  0.71 -0.29]\n",
      "\t\t[0.053983651403370726] [-0.23 -0.27 -0.2 ]\n",
      "\tWinners: [3 4 9]\n",
      "\t\t[0.23083907844681703] [0.25 0.65 0.45]\n",
      "\t\t[0.21880765382593237] [-0.26  0.71 -0.29]\n",
      "\t\t[0.053983651403370726] [-0.23 -0.27 -0.2 ]\n",
      "\n",
      "TournamentSelection (5-tournament, 2 win)\n",
      "\tParticipants: [1 2 4 6 9]\n",
      "\t\t[0.28879528109863156] [ 0.59  0.65 -0.3 ]\n",
      "\t\t[0.2730715321927454] [-0.79  0.32 -0.31]\n",
      "\t\t[0.21880765382593237] [-0.26  0.71 -0.29]\n",
      "\t\t[0.12007485899453436] [0.6  0.03 0.06]\n",
      "\t\t[0.053983651403370726] [-0.23 -0.27 -0.2 ]\n",
      "\tWinners: [1 2]\n",
      "\t\t[0.28879528109863156] [ 0.59  0.65 -0.3 ]\n",
      "\t\t[0.2730715321927454] [-0.79  0.32 -0.31]\n",
      "\n",
      "TournamentSelection (5-tournament, 3 win)\n",
      "\tParticipants: [4 5 6 8 9]\n",
      "\t\t[0.21880765382593237] [-0.26  0.71 -0.29]\n",
      "\t\t[0.18536949859960483] [ 0.73 -0.15  0.05]\n",
      "\t\t[0.12007485899453436] [0.6  0.03 0.06]\n",
      "\t\t[0.056507752725287935] [-0.17  0.35  0.14]\n",
      "\t\t[0.053983651403370726] [-0.23 -0.27 -0.2 ]\n",
      "\tWinners: [4 5 6]\n",
      "\t\t[0.21880765382593237] [-0.26  0.71 -0.29]\n",
      "\t\t[0.18536949859960483] [ 0.73 -0.15  0.05]\n",
      "\t\t[0.12007485899453436] [0.6  0.03 0.06]\n",
      "\n"
     ]
    }
   ],
   "source": [
    "for selection in selections:\n",
    "    print(selection)\n",
    "    \n",
    "    participants, winners = selection(\n",
    "        population=population\n",
    "    )\n",
    "\n",
    "    print(f\"\\tParticipants: {participants}\")\n",
    "    for x in population[participants]:\n",
    "        print(f\"\\t\\t{x}\")\n",
    "\n",
    "    print(f\"\\tWinners: {winners}\")\n",
    "    for x in population[winners]:\n",
    "        print(f\"\\t\\t{x}\")\n",
    "\n",
    "    print()\n",
    "                  "
   ]
  }
 ],
 "metadata": {
  "kernelspec": {
   "display_name": "aipr_dz04",
   "language": "python",
   "name": "aipr_dz04"
  },
  "language_info": {
   "codemirror_mode": {
    "name": "ipython",
    "version": 3
   },
   "file_extension": ".py",
   "mimetype": "text/x-python",
   "name": "python",
   "nbconvert_exporter": "python",
   "pygments_lexer": "ipython3",
   "version": "3.8.5"
  }
 },
 "nbformat": 4,
 "nbformat_minor": 4
}
