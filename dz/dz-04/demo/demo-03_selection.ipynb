{
 "cells": [
  {
   "cell_type": "markdown",
   "metadata": {},
   "source": [
    "# Analiza i projektiranje računalom - 4. laboratorijska vježba: demo selection.py"
   ]
  },
  {
   "cell_type": "markdown",
   "metadata": {},
   "source": [
    "## Priprema za izvođenje"
   ]
  },
  {
   "cell_type": "code",
   "execution_count": 1,
   "metadata": {},
   "outputs": [],
   "source": [
    "import os\n",
    "\n",
    "CD_KEY = \"--HW04_D03_IN_ROOT\""
   ]
  },
  {
   "cell_type": "code",
   "execution_count": 2,
   "metadata": {},
   "outputs": [
    {
     "name": "stdout",
     "output_type": "stream",
     "text": [
      "/mnt/data/projekti/faks/AIPR/dz/dz-04\n"
     ]
    }
   ],
   "source": [
    "if (\n",
    "    CD_KEY not in os.environ\n",
    "    or os.environ[CD_KEY] is None\n",
    "    or len(os.environ[CD_KEY]) == 0\n",
    "    or os.environ[CD_KEY] == \"false\"\n",
    "):\n",
    "    %cd ..\n",
    "else:\n",
    "    print(os.getcwd())\n",
    "    \n",
    "os.environ[CD_KEY] = \"true\""
   ]
  },
  {
   "cell_type": "markdown",
   "metadata": {},
   "source": [
    "## Učitavanje paketa"
   ]
  },
  {
   "cell_type": "code",
   "execution_count": 3,
   "metadata": {},
   "outputs": [],
   "source": [
    "import numpy as np\n",
    "\n",
    "from src.evolution.function import Function\n",
    "from src.evolution.population import Population\n",
    "from src.evolution.selection import TournamentSelection"
   ]
  },
  {
   "cell_type": "markdown",
   "metadata": {},
   "source": [
    "## Inicijalizacija"
   ]
  },
  {
   "cell_type": "markdown",
   "metadata": {},
   "source": [
    "### Formatiranje"
   ]
  },
  {
   "cell_type": "code",
   "execution_count": 4,
   "metadata": {},
   "outputs": [],
   "source": [
    "np.set_printoptions(precision=2, suppress=True)"
   ]
  },
  {
   "cell_type": "markdown",
   "metadata": {},
   "source": [
    "### Konstante"
   ]
  },
  {
   "cell_type": "code",
   "execution_count": 5,
   "metadata": {},
   "outputs": [],
   "source": [
    "wellness_function = Function(lambda x: np.mean(np.square(x)))\n",
    "\n",
    "capacity = 10\n",
    "\n",
    "tournament_sizes = (3, 5)\n",
    "winner_counts = (2, 3)"
   ]
  },
  {
   "cell_type": "markdown",
   "metadata": {},
   "source": [
    "### Populacije"
   ]
  },
  {
   "cell_type": "code",
   "execution_count": 6,
   "metadata": {},
   "outputs": [],
   "source": [
    "population = Population(\n",
    "    wellness_function=wellness_function,\n",
    "    capacity=capacity\n",
    ")\n",
    "population.invade(np.random.uniform(-1, 1, (capacity, 3)))"
   ]
  },
  {
   "cell_type": "markdown",
   "metadata": {},
   "source": [
    "### Selekcije"
   ]
  },
  {
   "cell_type": "code",
   "execution_count": 7,
   "metadata": {},
   "outputs": [],
   "source": [
    "selections = [\n",
    "    TournamentSelection(tournament_size=tournament_size)\n",
    "    for tournament_size in tournament_sizes\n",
    "]"
   ]
  },
  {
   "cell_type": "markdown",
   "metadata": {},
   "source": [
    "## Demonstracija"
   ]
  },
  {
   "cell_type": "code",
   "execution_count": 8,
   "metadata": {},
   "outputs": [
    {
     "name": "stdout",
     "output_type": "stream",
     "text": [
      "Population (10 / 10)\n",
      "\t[0.5658734240104546] [ 0.73 -0.72 -0.8 ]\n",
      "\t[0.42545231668821337] [-0.63 -0.68 -0.65]\n",
      "\t[0.3977278280284666] [ 0.53 -0.23  0.92]\n",
      "\t[0.3758854817316056] [ 0.21 -0.38 -0.97]\n",
      "\t[0.3437438741757277] [-0.03 -0.98  0.26]\n",
      "\t[0.32407605575108794] [ 0.72 -0.67  0.05]\n",
      "\t[0.21293266802292377] [ 0.58 -0.48  0.26]\n",
      "\t[0.19586324593779794] [0.45 0.14 0.6 ]\n",
      "\t[0.17393697987173354] [ 0.65 -0.23  0.21]\n",
      "\t[0.16012478348289735] [0.4  0.46 0.33]\n"
     ]
    }
   ],
   "source": [
    "print(population)"
   ]
  },
  {
   "cell_type": "code",
   "execution_count": 9,
   "metadata": {
    "scrolled": false
   },
   "outputs": [
    {
     "name": "stdout",
     "output_type": "stream",
     "text": [
      "TournamentSelection (3-tournament)\n",
      "\tParticipants: [9 7 4]\n",
      "\t\t[0.16012478348289735] [0.4  0.46 0.33]\n",
      "\t\t[0.19586324593779794] [0.45 0.14 0.6 ]\n",
      "\t\t[0.3437438741757277] [-0.03 -0.98  0.26]\n",
      "\tWinners: [4 7]\n",
      "\t\t[0.3437438741757277] [-0.03 -0.98  0.26]\n",
      "\t\t[0.19586324593779794] [0.45 0.14 0.6 ]\n",
      "\n",
      "\tParticipants: [4 6 7]\n",
      "\t\t[0.3437438741757277] [-0.03 -0.98  0.26]\n",
      "\t\t[0.21293266802292377] [ 0.58 -0.48  0.26]\n",
      "\t\t[0.19586324593779794] [0.45 0.14 0.6 ]\n",
      "\tWinners: [4 6 7]\n",
      "\t\t[0.3437438741757277] [-0.03 -0.98  0.26]\n",
      "\t\t[0.21293266802292377] [ 0.58 -0.48  0.26]\n",
      "\t\t[0.19586324593779794] [0.45 0.14 0.6 ]\n",
      "\n",
      "TournamentSelection (5-tournament)\n",
      "\tParticipants: [1 4 6 3 8]\n",
      "\t\t[0.42545231668821337] [-0.63 -0.68 -0.65]\n",
      "\t\t[0.3437438741757277] [-0.03 -0.98  0.26]\n",
      "\t\t[0.21293266802292377] [ 0.58 -0.48  0.26]\n",
      "\t\t[0.3758854817316056] [ 0.21 -0.38 -0.97]\n",
      "\t\t[0.17393697987173354] [ 0.65 -0.23  0.21]\n",
      "\tWinners: [1 3]\n",
      "\t\t[0.42545231668821337] [-0.63 -0.68 -0.65]\n",
      "\t\t[0.3758854817316056] [ 0.21 -0.38 -0.97]\n",
      "\n",
      "\tParticipants: [1 3 7 5 9]\n",
      "\t\t[0.42545231668821337] [-0.63 -0.68 -0.65]\n",
      "\t\t[0.3758854817316056] [ 0.21 -0.38 -0.97]\n",
      "\t\t[0.19586324593779794] [0.45 0.14 0.6 ]\n",
      "\t\t[0.32407605575108794] [ 0.72 -0.67  0.05]\n",
      "\t\t[0.16012478348289735] [0.4  0.46 0.33]\n",
      "\tWinners: [5 1 3]\n",
      "\t\t[0.32407605575108794] [ 0.72 -0.67  0.05]\n",
      "\t\t[0.42545231668821337] [-0.63 -0.68 -0.65]\n",
      "\t\t[0.3758854817316056] [ 0.21 -0.38 -0.97]\n",
      "\n"
     ]
    }
   ],
   "source": [
    "for selection in selections:\n",
    "    print(selection)\n",
    "    \n",
    "    for n_winners in winner_counts:\n",
    "        participants, winners = selection(\n",
    "            population=population, n_winners=n_winners\n",
    "        )\n",
    "\n",
    "        print(f\"\\tParticipants: {participants}\")\n",
    "        for x in population[participants]:\n",
    "            print(f\"\\t\\t{x}\")\n",
    "\n",
    "        print(f\"\\tWinners: {winners}\")\n",
    "        for x in population[winners]:\n",
    "            print(f\"\\t\\t{x}\")\n",
    "\n",
    "        print()\n",
    "                  "
   ]
  }
 ],
 "metadata": {
  "kernelspec": {
   "display_name": "aipr_dz04",
   "language": "python",
   "name": "aipr_dz04"
  },
  "language_info": {
   "codemirror_mode": {
    "name": "ipython",
    "version": 3
   },
   "file_extension": ".py",
   "mimetype": "text/x-python",
   "name": "python",
   "nbconvert_exporter": "python",
   "pygments_lexer": "ipython3",
   "version": "3.8.5"
  }
 },
 "nbformat": 4,
 "nbformat_minor": 4
}
