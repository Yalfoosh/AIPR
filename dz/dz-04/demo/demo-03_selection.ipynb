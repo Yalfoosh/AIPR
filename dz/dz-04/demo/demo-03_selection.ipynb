{
 "cells": [
  {
   "cell_type": "markdown",
   "metadata": {},
   "source": [
    "# Analiza i projektiranje računalom - 4. laboratorijska vježba: demo selection.py"
   ]
  },
  {
   "cell_type": "markdown",
   "metadata": {},
   "source": [
    "## Priprema za izvođenje"
   ]
  },
  {
   "cell_type": "code",
   "execution_count": 1,
   "metadata": {},
   "outputs": [],
   "source": [
    "import os\n",
    "\n",
    "CD_KEY = \"--HW04_D03_IN_ROOT\""
   ]
  },
  {
   "cell_type": "code",
   "execution_count": 2,
   "metadata": {},
   "outputs": [
    {
     "name": "stdout",
     "output_type": "stream",
     "text": [
      "/mnt/data/projekti/faks/AIPR/dz/dz-04\n"
     ]
    }
   ],
   "source": [
    "if (\n",
    "    CD_KEY not in os.environ\n",
    "    or os.environ[CD_KEY] is None\n",
    "    or len(os.environ[CD_KEY]) == 0\n",
    "    or os.environ[CD_KEY] == \"false\"\n",
    "):\n",
    "    %cd ..\n",
    "else:\n",
    "    print(os.getcwd())\n",
    "    \n",
    "os.environ[CD_KEY] = \"true\""
   ]
  },
  {
   "cell_type": "markdown",
   "metadata": {},
   "source": [
    "## Učitavanje paketa"
   ]
  },
  {
   "cell_type": "code",
   "execution_count": 3,
   "metadata": {},
   "outputs": [],
   "source": [
    "import numpy as np\n",
    "\n",
    "from src.evolution.function import Function\n",
    "from src.evolution.population import Population\n",
    "from src.evolution.selection import TournamentSelection"
   ]
  },
  {
   "cell_type": "markdown",
   "metadata": {},
   "source": [
    "## Inicijalizacija"
   ]
  },
  {
   "cell_type": "markdown",
   "metadata": {},
   "source": [
    "### Formatiranje"
   ]
  },
  {
   "cell_type": "code",
   "execution_count": 4,
   "metadata": {},
   "outputs": [],
   "source": [
    "np.set_printoptions(precision=2, suppress=True)"
   ]
  },
  {
   "cell_type": "markdown",
   "metadata": {},
   "source": [
    "### Konstante"
   ]
  },
  {
   "cell_type": "code",
   "execution_count": 5,
   "metadata": {},
   "outputs": [],
   "source": [
    "wellness_function = Function(lambda x: np.mean(np.square(x)))\n",
    "\n",
    "capacity = 10\n",
    "\n",
    "tournament_sizes = (3, 5)\n",
    "winner_counts = (2, 3)"
   ]
  },
  {
   "cell_type": "markdown",
   "metadata": {},
   "source": [
    "### Populacije"
   ]
  },
  {
   "cell_type": "code",
   "execution_count": 6,
   "metadata": {},
   "outputs": [],
   "source": [
    "population = Population(\n",
    "    wellness_function=wellness_function,\n",
    "    capacity=capacity\n",
    ")\n",
    "population.invade(np.random.uniform(-1, 1, (capacity, 3)))"
   ]
  },
  {
   "cell_type": "markdown",
   "metadata": {},
   "source": [
    "### Selekcije"
   ]
  },
  {
   "cell_type": "code",
   "execution_count": 7,
   "metadata": {},
   "outputs": [],
   "source": [
    "selections = [\n",
    "    TournamentSelection(tournament_size=tournament_size)\n",
    "    for tournament_size in tournament_sizes\n",
    "]"
   ]
  },
  {
   "cell_type": "markdown",
   "metadata": {},
   "source": [
    "## Demonstracija"
   ]
  },
  {
   "cell_type": "code",
   "execution_count": 8,
   "metadata": {},
   "outputs": [
    {
     "name": "stdout",
     "output_type": "stream",
     "text": [
      "Population (10 / 10)\n",
      "\t[0.6333251660525004] [-0.85  0.85 -0.67]\n",
      "\t[0.5237610490415063] [-0.01 -0.9   0.87]\n",
      "\t[0.468045978244308] [ 0.72 -0.67 -0.65]\n",
      "\t[0.39746932377184624] [ 0.26 -0.95  0.48]\n",
      "\t[0.39112276938232365] [0.04 0.79 0.74]\n",
      "\t[0.35508731446070324] [-0.36 -0.13 -0.96]\n",
      "\t[0.26574735783033676] [ 0.43 -0.61 -0.49]\n",
      "\t[0.10899816295568976] [-0.14 -0.44 -0.33]\n",
      "\t[0.07874153792367179] [-0.37  0.29 -0.14]\n",
      "\t[0.022666514469163093] [-0.08 -0.23  0.09]\n"
     ]
    }
   ],
   "source": [
    "print(population)"
   ]
  },
  {
   "cell_type": "code",
   "execution_count": 9,
   "metadata": {
    "scrolled": false
   },
   "outputs": [
    {
     "name": "stdout",
     "output_type": "stream",
     "text": [
      "TournamentSelection (3-tournament)\n",
      "\tParticipants: [7 2 0]\n",
      "\t\t[0.10899816295568976] [-0.14 -0.44 -0.33]\n",
      "\t\t[0.468045978244308] [ 0.72 -0.67 -0.65]\n",
      "\t\t[0.6333251660525004] [-0.85  0.85 -0.67]\n",
      "\tWinners: [0 2]\n",
      "\t\t[0.6333251660525004] [-0.85  0.85 -0.67]\n",
      "\t\t[0.468045978244308] [ 0.72 -0.67 -0.65]\n",
      "\n",
      "\tParticipants: [2 6 7]\n",
      "\t\t[0.468045978244308] [ 0.72 -0.67 -0.65]\n",
      "\t\t[0.26574735783033676] [ 0.43 -0.61 -0.49]\n",
      "\t\t[0.10899816295568976] [-0.14 -0.44 -0.33]\n",
      "\tWinners: [2 6 7]\n",
      "\t\t[0.468045978244308] [ 0.72 -0.67 -0.65]\n",
      "\t\t[0.26574735783033676] [ 0.43 -0.61 -0.49]\n",
      "\t\t[0.10899816295568976] [-0.14 -0.44 -0.33]\n",
      "\n",
      "TournamentSelection (5-tournament)\n",
      "\tParticipants: [4 8 6 3 7]\n",
      "\t\t[0.39112276938232365] [0.04 0.79 0.74]\n",
      "\t\t[0.07874153792367179] [-0.37  0.29 -0.14]\n",
      "\t\t[0.26574735783033676] [ 0.43 -0.61 -0.49]\n",
      "\t\t[0.39746932377184624] [ 0.26 -0.95  0.48]\n",
      "\t\t[0.10899816295568976] [-0.14 -0.44 -0.33]\n",
      "\tWinners: [3 4]\n",
      "\t\t[0.39746932377184624] [ 0.26 -0.95  0.48]\n",
      "\t\t[0.39112276938232365] [0.04 0.79 0.74]\n",
      "\n",
      "\tParticipants: [3 9 4 0 2]\n",
      "\t\t[0.39746932377184624] [ 0.26 -0.95  0.48]\n",
      "\t\t[0.022666514469163093] [-0.08 -0.23  0.09]\n",
      "\t\t[0.39112276938232365] [0.04 0.79 0.74]\n",
      "\t\t[0.6333251660525004] [-0.85  0.85 -0.67]\n",
      "\t\t[0.468045978244308] [ 0.72 -0.67 -0.65]\n",
      "\tWinners: [0 2 3]\n",
      "\t\t[0.6333251660525004] [-0.85  0.85 -0.67]\n",
      "\t\t[0.468045978244308] [ 0.72 -0.67 -0.65]\n",
      "\t\t[0.39746932377184624] [ 0.26 -0.95  0.48]\n",
      "\n"
     ]
    }
   ],
   "source": [
    "for selection in selections:\n",
    "    print(selection)\n",
    "    \n",
    "    for n_winners in winner_counts:\n",
    "        participants, winners = selection(\n",
    "            population=population, n_winners=n_winners\n",
    "        )\n",
    "\n",
    "        print(f\"\\tParticipants: {participants}\")\n",
    "        for x in population[participants]:\n",
    "            print(f\"\\t\\t{x}\")\n",
    "\n",
    "        print(f\"\\tWinners: {winners}\")\n",
    "        for x in population[winners]:\n",
    "            print(f\"\\t\\t{x}\")\n",
    "\n",
    "        print()\n",
    "                  "
   ]
  }
 ],
 "metadata": {
  "kernelspec": {
   "display_name": "aipr_dz04",
   "language": "python",
   "name": "aipr_dz04"
  },
  "language_info": {
   "codemirror_mode": {
    "name": "ipython",
    "version": 3
   },
   "file_extension": ".py",
   "mimetype": "text/x-python",
   "name": "python",
   "nbconvert_exporter": "python",
   "pygments_lexer": "ipython3",
   "version": "3.8.5"
  }
 },
 "nbformat": 4,
 "nbformat_minor": 4
}
