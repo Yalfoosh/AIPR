{
 "cells": [
  {
   "cell_type": "markdown",
   "metadata": {},
   "source": [
    "# Analiza i projektiranje računalom - 4. laboratorijska vježba: demo population.py"
   ]
  },
  {
   "cell_type": "markdown",
   "metadata": {},
   "source": [
    "## Priprema za izvođenje"
   ]
  },
  {
   "cell_type": "code",
   "execution_count": 1,
   "metadata": {},
   "outputs": [],
   "source": [
    "import os\n",
    "\n",
    "CD_KEY = \"--HW04_D02_IN_ROOT\""
   ]
  },
  {
   "cell_type": "code",
   "execution_count": 2,
   "metadata": {},
   "outputs": [
    {
     "name": "stdout",
     "output_type": "stream",
     "text": [
      "/mnt/data/projekti/faks/AIPR/dz/dz-04\n"
     ]
    }
   ],
   "source": [
    "if (\n",
    "    CD_KEY not in os.environ\n",
    "    or os.environ[CD_KEY] is None\n",
    "    or len(os.environ[CD_KEY]) == 0\n",
    "    or os.environ[CD_KEY] == \"false\"\n",
    "):\n",
    "    %cd ..\n",
    "else:\n",
    "    print(os.getcwd())\n",
    "    \n",
    "os.environ[CD_KEY] = \"true\""
   ]
  },
  {
   "cell_type": "markdown",
   "metadata": {},
   "source": [
    "## Učitavanje paketa"
   ]
  },
  {
   "cell_type": "code",
   "execution_count": 3,
   "metadata": {},
   "outputs": [],
   "source": [
    "import numpy as np\n",
    "\n",
    "from src.evolution.function import Function\n",
    "from src.evolution.population import Population"
   ]
  },
  {
   "cell_type": "markdown",
   "metadata": {},
   "source": [
    "## Inicijalizacija"
   ]
  },
  {
   "cell_type": "markdown",
   "metadata": {},
   "source": [
    "### Formatiranje"
   ]
  },
  {
   "cell_type": "code",
   "execution_count": 4,
   "metadata": {},
   "outputs": [],
   "source": [
    "np.set_printoptions(precision=2, suppress=True)"
   ]
  },
  {
   "cell_type": "markdown",
   "metadata": {},
   "source": [
    "### Konstante"
   ]
  },
  {
   "cell_type": "code",
   "execution_count": 5,
   "metadata": {},
   "outputs": [],
   "source": [
    "wellness_function = Function(lambda x: np.mean(np.square(x)))\n",
    "capacities = (5, 10)"
   ]
  },
  {
   "cell_type": "markdown",
   "metadata": {},
   "source": [
    "### Populacije"
   ]
  },
  {
   "cell_type": "code",
   "execution_count": 6,
   "metadata": {},
   "outputs": [],
   "source": [
    "populations = [\n",
    "    Population(\n",
    "        wellness_function=wellness_function,\n",
    "        capacity=capacity\n",
    "    )\n",
    "    for capacity in capacities\n",
    "]"
   ]
  },
  {
   "cell_type": "markdown",
   "metadata": {},
   "source": [
    "## Demonstracija"
   ]
  },
  {
   "cell_type": "code",
   "execution_count": 7,
   "metadata": {},
   "outputs": [
    {
     "name": "stdout",
     "output_type": "stream",
     "text": [
      "Population (0 / 5)\n",
      "\n",
      "Population (0 / 10)\n",
      "\n"
     ]
    }
   ],
   "source": [
    "for population in populations:\n",
    "    print(population, end=\"\\n\\n\")"
   ]
  },
  {
   "cell_type": "code",
   "execution_count": 8,
   "metadata": {},
   "outputs": [
    {
     "name": "stdout",
     "output_type": "stream",
     "text": [
      "Population (5 / 5)\n",
      "\t[0.405467043743754] [-0.61 -0.88  0.27]\n",
      "\t[0.3926336403309582] [-0.94  0.48 -0.25]\n",
      "\t[0.3706202121692716] [-0.64  0.72 -0.42]\n",
      "\t[0.3660067466501335] [ 0.75 -0.49 -0.54]\n",
      "\t[0.32095516628613235] [-0.16  0.96  0.12]\n",
      "\n",
      "Population (5 / 10)\n",
      "\t[0.4176191801577615] [-0.45  0.96  0.34]\n",
      "\t[0.4156262991454048] [ 0.87 -0.61  0.33]\n",
      "\t[0.3318631981345519] [ 0.71  0.05 -0.7 ]\n",
      "\t[0.07304104727942949] [-0.03  0.46 -0.09]\n",
      "\t[0.02753187426624325] [ 0.01  0.28 -0.06]\n",
      "\n"
     ]
    }
   ],
   "source": [
    "for population in populations:\n",
    "    for _ in range(capacities[0]):\n",
    "        population.add(np.random.uniform(-1, 1, (3,)))\n",
    "    \n",
    "    print(population, end=\"\\n\\n\")"
   ]
  },
  {
   "cell_type": "markdown",
   "metadata": {},
   "source": [
    "Ako pokušamo dodati primjerak s `add`, a popunjeni su kapaciteti populacije, prvo će se maknuti najgori primjerak, a onda umetnuti novi."
   ]
  },
  {
   "cell_type": "code",
   "execution_count": 9,
   "metadata": {},
   "outputs": [
    {
     "name": "stdout",
     "output_type": "stream",
     "text": [
      "Population (5 / 5)\n",
      "\t[1.0] [1 1 1]\n",
      "\t[0.405467043743754] [-0.61 -0.88  0.27]\n",
      "\t[0.3926336403309582] [-0.94  0.48 -0.25]\n",
      "\t[0.3706202121692716] [-0.64  0.72 -0.42]\n",
      "\t[0.3660067466501335] [ 0.75 -0.49 -0.54]\n",
      "\n",
      "Population (6 / 10)\n",
      "\t[1.0] [1 1 1]\n",
      "\t[0.4176191801577615] [-0.45  0.96  0.34]\n",
      "\t[0.4156262991454048] [ 0.87 -0.61  0.33]\n",
      "\t[0.3318631981345519] [ 0.71  0.05 -0.7 ]\n",
      "\t[0.07304104727942949] [-0.03  0.46 -0.09]\n",
      "\t[0.02753187426624325] [ 0.01  0.28 -0.06]\n",
      "\n"
     ]
    }
   ],
   "source": [
    "for population in populations:\n",
    "    population.add(np.array([1, 1, 1]))\n",
    "    \n",
    "    print(population, end=\"\\n\\n\")"
   ]
  },
  {
   "cell_type": "markdown",
   "metadata": {},
   "source": [
    "**Komentar**: Podrazumijevani argument `remove_before` je postavljen na `True`, čime se osigurava da prilikom prepunjene populacije mičemo najgori element. Međutim, to ne garantira da će u populaciji ostati i **najbolji** element. Ako želimo garantirati i to, moramo postaviti `remove_before` na `False` - ovime se omogućava privremena prepopulacija, a tek se nakon svih unosa brišu dodatni elementi počevši od najgoreg. Kasnije ćemo demonstrirati ovo ponašanje."
   ]
  },
  {
   "cell_type": "markdown",
   "metadata": {},
   "source": [
    "Ako želimo dodavati elemente u populaciju bez da automatski mičemo višak, to možemo raditi koristeći `append`."
   ]
  },
  {
   "cell_type": "code",
   "execution_count": 10,
   "metadata": {},
   "outputs": [
    {
     "name": "stdout",
     "output_type": "stream",
     "text": [
      "Population (6 / 5)\n",
      "\t[1.0] [1 1 1]\n",
      "\t[1.0] [-1 -1 -1]\n",
      "\t[0.405467043743754] [-0.61 -0.88  0.27]\n",
      "\t[0.3926336403309582] [-0.94  0.48 -0.25]\n",
      "\t[0.3706202121692716] [-0.64  0.72 -0.42]\n",
      "\t[0.3660067466501335] [ 0.75 -0.49 -0.54]\n",
      "\n",
      "Population (7 / 10)\n",
      "\t[1.0] [1 1 1]\n",
      "\t[1.0] [-1 -1 -1]\n",
      "\t[0.4176191801577615] [-0.45  0.96  0.34]\n",
      "\t[0.4156262991454048] [ 0.87 -0.61  0.33]\n",
      "\t[0.3318631981345519] [ 0.71  0.05 -0.7 ]\n",
      "\t[0.07304104727942949] [-0.03  0.46 -0.09]\n",
      "\t[0.02753187426624325] [ 0.01  0.28 -0.06]\n",
      "\n"
     ]
    }
   ],
   "source": [
    "for population in populations:\n",
    "    population.append(np.array([-1, -1, -1]))\n",
    "    \n",
    "    print(population, end=\"\\n\\n\")"
   ]
  },
  {
   "cell_type": "markdown",
   "metadata": {},
   "source": [
    "Višak elemenata možemo obrisati pozivom `cull` nad populacijom."
   ]
  },
  {
   "cell_type": "code",
   "execution_count": 11,
   "metadata": {},
   "outputs": [
    {
     "name": "stdout",
     "output_type": "stream",
     "text": [
      "Population (5 / 5)\n",
      "\t[1.0] [1 1 1]\n",
      "\t[1.0] [-1 -1 -1]\n",
      "\t[0.405467043743754] [-0.61 -0.88  0.27]\n",
      "\t[0.3926336403309582] [-0.94  0.48 -0.25]\n",
      "\t[0.3706202121692716] [-0.64  0.72 -0.42]\n",
      "\n",
      "Population (7 / 10)\n",
      "\t[1.0] [1 1 1]\n",
      "\t[1.0] [-1 -1 -1]\n",
      "\t[0.4176191801577615] [-0.45  0.96  0.34]\n",
      "\t[0.4156262991454048] [ 0.87 -0.61  0.33]\n",
      "\t[0.3318631981345519] [ 0.71  0.05 -0.7 ]\n",
      "\t[0.07304104727942949] [-0.03  0.46 -0.09]\n",
      "\t[0.02753187426624325] [ 0.01  0.28 -0.06]\n",
      "\n"
     ]
    }
   ],
   "source": [
    "for population in populations:\n",
    "    population.cull()\n",
    "    \n",
    "    print(population, end=\"\\n\\n\")"
   ]
  },
  {
   "cell_type": "markdown",
   "metadata": {},
   "source": [
    "Metoda `cull` ima pretpostavljen argument `n_additional` postavljen na `0`. Ako želimo obrisati više ili manje elemenata od broja definiranim kapacitetom, to možemo promijenom argumenta. Na primjer, ako želimo da ostanu 3 elementa manje od kapaciteta, onda možemo pisati"
   ]
  },
  {
   "cell_type": "code",
   "execution_count": 12,
   "metadata": {},
   "outputs": [
    {
     "name": "stdout",
     "output_type": "stream",
     "text": [
      "Population (2 / 5)\n",
      "\t[1.0] [1 1 1]\n",
      "\t[1.0] [-1 -1 -1]\n",
      "\n",
      "Population (7 / 10)\n",
      "\t[1.0] [1 1 1]\n",
      "\t[1.0] [-1 -1 -1]\n",
      "\t[0.4176191801577615] [-0.45  0.96  0.34]\n",
      "\t[0.4156262991454048] [ 0.87 -0.61  0.33]\n",
      "\t[0.3318631981345519] [ 0.71  0.05 -0.7 ]\n",
      "\t[0.07304104727942949] [-0.03  0.46 -0.09]\n",
      "\t[0.02753187426624325] [ 0.01  0.28 -0.06]\n",
      "\n"
     ]
    }
   ],
   "source": [
    "for population in populations:\n",
    "    population.cull(3)\n",
    "    \n",
    "    print(population, end=\"\\n\\n\")"
   ]
  },
  {
   "cell_type": "markdown",
   "metadata": {},
   "source": [
    "Možemo izbaciti specifične primjerke koristeći metodu `ban`, ako postoje u populaciji."
   ]
  },
  {
   "cell_type": "code",
   "execution_count": 13,
   "metadata": {},
   "outputs": [
    {
     "name": "stdout",
     "output_type": "stream",
     "text": [
      "Population (1 / 5)\n",
      "\t[1.0] [-1 -1 -1]\n",
      "\n",
      "Population (6 / 10)\n",
      "\t[1.0] [-1 -1 -1]\n",
      "\t[0.4176191801577615] [-0.45  0.96  0.34]\n",
      "\t[0.4156262991454048] [ 0.87 -0.61  0.33]\n",
      "\t[0.3318631981345519] [ 0.71  0.05 -0.7 ]\n",
      "\t[0.07304104727942949] [-0.03  0.46 -0.09]\n",
      "\t[0.02753187426624325] [ 0.01  0.28 -0.06]\n",
      "\n"
     ]
    }
   ],
   "source": [
    "for population in populations:\n",
    "    population.ban(np.array([1, 1, 1]))\n",
    "    \n",
    "    print(population, end=\"\\n\\n\")"
   ]
  },
  {
   "cell_type": "markdown",
   "metadata": {},
   "source": [
    "Radi demonstracije dodat ćemo jedan element natrag."
   ]
  },
  {
   "cell_type": "code",
   "execution_count": 14,
   "metadata": {},
   "outputs": [
    {
     "name": "stdout",
     "output_type": "stream",
     "text": [
      "Population (2 / 5)\n",
      "\t[1.0] [-1 -1 -1]\n",
      "\t[1.0] [1 1 1]\n"
     ]
    }
   ],
   "source": [
    "populations[0].add(np.array([1, 1, 1]))\n",
    "print(populations[0])"
   ]
  },
  {
   "cell_type": "markdown",
   "metadata": {},
   "source": [
    "Također, možemo i maknuti specifični indeks iz populacije uz `pop`. Podrazumijevani indeks je `-1`, tj. najgora jedinka."
   ]
  },
  {
   "cell_type": "code",
   "execution_count": 15,
   "metadata": {},
   "outputs": [
    {
     "name": "stdout",
     "output_type": "stream",
     "text": [
      "Population (1 / 5)\n",
      "\t[1.0] [-1 -1 -1]\n",
      "\n",
      "Population (5 / 10)\n",
      "\t[1.0] [-1 -1 -1]\n",
      "\t[0.4156262991454048] [ 0.87 -0.61  0.33]\n",
      "\t[0.3318631981345519] [ 0.71  0.05 -0.7 ]\n",
      "\t[0.07304104727942949] [-0.03  0.46 -0.09]\n",
      "\t[0.02753187426624325] [ 0.01  0.28 -0.06]\n",
      "\n"
     ]
    }
   ],
   "source": [
    "for population in populations:\n",
    "    population.pop(1)\n",
    "    \n",
    "    print(population, end=\"\\n\\n\")"
   ]
  },
  {
   "cell_type": "markdown",
   "metadata": {},
   "source": [
    "Slično kao i s `append`, možemo dodati kolekciju jedinki koristeći `assimilate`."
   ]
  },
  {
   "cell_type": "code",
   "execution_count": 16,
   "metadata": {},
   "outputs": [
    {
     "name": "stdout",
     "output_type": "stream",
     "text": [
      "Population (11 / 5)\n",
      "\t[1.0] [-1 -1 -1]\n",
      "\t[0.6042271036232179] [-0.91  0.28 -0.95]\n",
      "\t[0.43310414228301014] [ 0.99  0.38 -0.4 ]\n",
      "\t[0.36840489358039297] [ 0.93 -0.28 -0.41]\n",
      "\t[0.30868505607536634] [ 0.23 -0.48  0.8 ]\n",
      "\t[0.2647809916340921] [ 0.15 -0.72 -0.5 ]\n",
      "\t[0.26372528814757135] [-0.63  0.59 -0.24]\n",
      "\t[0.22964932621797618] [ 0.48 -0.29 -0.61]\n",
      "\t[0.21296621385043077] [-0.24  0.72 -0.25]\n",
      "\t[0.17394078848858463] [0.51 0.28 0.43]\n",
      "\t[0.05148656636232918] [-0.12  0.22 -0.3 ]\n",
      "\n",
      "Population (15 / 10)\n",
      "\t[1.0] [-1 -1 -1]\n",
      "\t[0.6967082858420514] [-0.92  0.87 -0.69]\n",
      "\t[0.5167601368076115] [-0.8  -0.88  0.39]\n",
      "\t[0.5007047583971788] [ 0.45 -0.77 -0.84]\n",
      "\t[0.4156262991454048] [ 0.87 -0.61  0.33]\n",
      "\t[0.3503467574542702] [0.41 0.24 0.91]\n",
      "\t[0.3318631981345519] [ 0.71  0.05 -0.7 ]\n",
      "\t[0.19521496766992685] [0.46 0.26 0.55]\n",
      "\t[0.1651114266390732] [-0.69 -0.12  0.01]\n",
      "\t[0.07304104727942949] [-0.03  0.46 -0.09]\n",
      "\t[0.07119841851388475] [-0.07 -0.38  0.25]\n",
      "\t[0.0696216669988322] [-0.31  0.25 -0.22]\n",
      "\t[0.05016548789413151] [-0.32  0.2   0.07]\n",
      "\t[0.02753187426624325] [ 0.01  0.28 -0.06]\n",
      "\t[0.0017372741122927537] [-0.01  0.07  0.  ]\n",
      "\n"
     ]
    }
   ],
   "source": [
    "for population in populations:\n",
    "    population.assimilate(np.random.uniform(-1, 1, (10, 3)))\n",
    "    \n",
    "    print(population, end=\"\\n\\n\")"
   ]
  },
  {
   "cell_type": "markdown",
   "metadata": {},
   "source": [
    "Za funkcionalnost analognu `add`, možemo dodati kolekciju uz provjeru kapaciteta s `invade`. Prvo ćemo to napraviti tako da postavimo `remove_before` na `False`."
   ]
  },
  {
   "cell_type": "code",
   "execution_count": 17,
   "metadata": {},
   "outputs": [
    {
     "name": "stdout",
     "output_type": "stream",
     "text": [
      "Population (5 / 5)\n",
      "\t[1.0] [-1 -1 -1]\n",
      "\t[0.6355914802131851] [0.97 0.97 0.2 ]\n",
      "\t[0.6042271036232179] [-0.91  0.28 -0.95]\n",
      "\t[0.5523923483513739] [-0.57 -0.8   0.84]\n",
      "\t[0.5352335545086736] [-0.74  0.89  0.53]\n",
      "\n",
      "Population (10 / 10)\n",
      "\t[1.0] [-1 -1 -1]\n",
      "\t[0.6967082858420514] [-0.92  0.87 -0.69]\n",
      "\t[0.5167601368076115] [-0.8  -0.88  0.39]\n",
      "\t[0.5007047583971788] [ 0.45 -0.77 -0.84]\n",
      "\t[0.4972287914624967] [-0.82  0.9   0.01]\n",
      "\t[0.4156262991454048] [ 0.87 -0.61  0.33]\n",
      "\t[0.39063215445572613] [0.71 0.82 0.01]\n",
      "\t[0.3782676864591415] [-0.99  0.39 -0.01]\n",
      "\t[0.3503467574542702] [0.41 0.24 0.91]\n",
      "\t[0.3318631981345519] [ 0.71  0.05 -0.7 ]\n",
      "\n"
     ]
    }
   ],
   "source": [
    "for population in populations:\n",
    "    population.invade(np.random.uniform(-1, 1, (10, 3)), remove_before=False)\n",
    "    \n",
    "    print(population, end=\"\\n\\n\")"
   ]
  },
  {
   "cell_type": "markdown",
   "metadata": {},
   "source": [
    "**Komentar**: Vidimo da su najbolje jedinke očuvane ako su ostale najbolje."
   ]
  },
  {
   "cell_type": "markdown",
   "metadata": {},
   "source": [
    "Ako ovu operaciju primijenimo bez gorenavedene promjene, onda čuvanje najboljeg elementa nije garantirano."
   ]
  },
  {
   "cell_type": "code",
   "execution_count": 18,
   "metadata": {},
   "outputs": [
    {
     "name": "stdout",
     "output_type": "stream",
     "text": [
      "Population (5 / 5)\n",
      "\t[0.6085313911729354] [-0.72 -0.86 -0.75]\n",
      "\t[0.5375830735701992] [0.78 0.92 0.41]\n",
      "\t[0.4189748491810332] [-0.45  0.86  0.56]\n",
      "\t[0.3186627576894004] [ 0.51 -0.76  0.34]\n",
      "\t[0.2830583089403191] [ 0.24  0.39 -0.8 ]\n",
      "\n",
      "Population (10 / 10)\n",
      "\t[0.8325515420299371] [ 0.93  0.96 -0.85]\n",
      "\t[0.8175685848789844] [ 0.88 -0.86  0.97]\n",
      "\t[0.537456559775566] [0.87 0.75 0.54]\n",
      "\t[0.5119651542453343] [ 0.44 -0.65 -0.96]\n",
      "\t[0.49725566515443886] [0.92 0.59 0.55]\n",
      "\t[0.4244774661231203] [0.67 0.84 0.34]\n",
      "\t[0.3720800947487921] [-0.07 -0.35  0.99]\n",
      "\t[0.3559374168926856] [-0.26 -0.31 -0.95]\n",
      "\t[0.2387080933140102] [-0.19 -0.24 -0.79]\n",
      "\t[0.0915815012799288] [ 0.09 -0.46  0.24]\n",
      "\n"
     ]
    }
   ],
   "source": [
    "for population in populations:\n",
    "    population.invade(np.random.uniform(-1, 1, (10, 3)))\n",
    "    \n",
    "    print(population, end=\"\\n\\n\")"
   ]
  },
  {
   "cell_type": "markdown",
   "metadata": {},
   "source": [
    "### Mehanike elitizma"
   ]
  },
  {
   "cell_type": "markdown",
   "metadata": {},
   "source": [
    "Moguće je implementirati i elitizam, no tada populacija ima nešto drukčije ponašanje, koje može biti neželjeno. Podrazumijevana vrijednost elitizma u populaciji je `0`, a ona ne bi trebala biti negativan broj (u slučaju da je željeno ponašanje micanje najboljih jedinki to se treba implementirati na neki drugi, jasniji način)."
   ]
  },
  {
   "cell_type": "code",
   "execution_count": 19,
   "metadata": {},
   "outputs": [],
   "source": [
    "elite_capacity = 5\n",
    "elite_elitism = 1"
   ]
  },
  {
   "cell_type": "code",
   "execution_count": 20,
   "metadata": {},
   "outputs": [],
   "source": [
    "elite_population = Population(\n",
    "    wellness_function=wellness_function,\n",
    "    capacity=elite_capacity,\n",
    "    elitism=elite_elitism\n",
    ")\n",
    "elite_population.assimilate(np.random.uniform(-1, 1, (5, 3)))"
   ]
  },
  {
   "cell_type": "code",
   "execution_count": 21,
   "metadata": {
    "scrolled": true
   },
   "outputs": [
    {
     "name": "stdout",
     "output_type": "stream",
     "text": [
      "Population (5 / 5), elite: 1\n",
      "\t[0.5080701673617466] [ 0.86 -0.88  0.07]\n",
      "\t[0.34897078584204216] [ 0.86  0.52 -0.18]\n",
      "\t[0.27835349623182387] [0.26 0.64 0.6 ]\n",
      "\t[0.13509128390281058] [ 0.33 -0.38  0.39]\n",
      "\t[0.11060165125162276] [ 0.51  0.12 -0.24]\n"
     ]
    }
   ],
   "source": [
    "print(elite_population)"
   ]
  },
  {
   "cell_type": "markdown",
   "metadata": {},
   "source": [
    "Kad bi htjeli maknuti sve elemente, najboljih `elitism` će ostati."
   ]
  },
  {
   "cell_type": "code",
   "execution_count": 22,
   "metadata": {},
   "outputs": [
    {
     "name": "stdout",
     "output_type": "stream",
     "text": [
      "Population (1 / 5), elite: 1\n",
      "\t[0.5080701673617466] [ 0.86 -0.88  0.07]\n"
     ]
    }
   ],
   "source": [
    "elite_population.cull(elite_population.capacity)\n",
    "print(elite_population)"
   ]
  },
  {
   "cell_type": "markdown",
   "metadata": {},
   "source": [
    "Ako pokušamo iskoristiti `pop` u ovom slučaju, vratit će element koji tražimo, ali ga neće maknuti iz populacije."
   ]
  },
  {
   "cell_type": "code",
   "execution_count": 23,
   "metadata": {},
   "outputs": [
    {
     "name": "stdout",
     "output_type": "stream",
     "text": [
      "Traženi element: [0.5080701673617466] [ 0.86 -0.88  0.07]\n",
      "\n",
      "Population (1 / 5), elite: 1\n",
      "\t[0.5080701673617466] [ 0.86 -0.88  0.07]\n"
     ]
    }
   ],
   "source": [
    "print(f\"Traženi element: {elite_population.pop()}\\n\")\n",
    "print(elite_population)"
   ]
  },
  {
   "cell_type": "markdown",
   "metadata": {},
   "source": [
    "Međutim, postoji posebni slučaj koji nije reguliran elitizmom, a to je `ban`. U slučaju pozivanju `ban` nad elitom, moguće je čak prekršiti i ograničenje minimalnog broja jedinki."
   ]
  },
  {
   "cell_type": "code",
   "execution_count": 24,
   "metadata": {},
   "outputs": [
    {
     "name": "stdout",
     "output_type": "stream",
     "text": [
      "Population (0 / 5), elite: 1\n"
     ]
    }
   ],
   "source": [
    "elite_population.ban(elite_population[0])\n",
    "print(elite_population)"
   ]
  },
  {
   "cell_type": "markdown",
   "metadata": {},
   "source": [
    "**Komentar**: Ovakvo ponašanje je namjerno kako bi postojao način pražnjenja populacije s elitizmom."
   ]
  }
 ],
 "metadata": {
  "kernelspec": {
   "display_name": "aipr_dz04",
   "language": "python",
   "name": "aipr_dz04"
  },
  "language_info": {
   "codemirror_mode": {
    "name": "ipython",
    "version": 3
   },
   "file_extension": ".py",
   "mimetype": "text/x-python",
   "name": "python",
   "nbconvert_exporter": "python",
   "pygments_lexer": "ipython3",
   "version": "3.8.5"
  }
 },
 "nbformat": 4,
 "nbformat_minor": 4
}
