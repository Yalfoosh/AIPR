{
 "cells": [
  {
   "cell_type": "markdown",
   "metadata": {},
   "source": [
    "# Analiza i projektiranje računalom - 4. laboratorijska vježba: demo encoding.py"
   ]
  },
  {
   "cell_type": "markdown",
   "metadata": {},
   "source": [
    "## Priprema za izvođenje"
   ]
  },
  {
   "cell_type": "code",
   "execution_count": 1,
   "metadata": {},
   "outputs": [],
   "source": [
    "import os\n",
    "\n",
    "CD_KEY = \"--HW04_D01_IN_ROOT\""
   ]
  },
  {
   "cell_type": "code",
   "execution_count": 2,
   "metadata": {},
   "outputs": [
    {
     "name": "stdout",
     "output_type": "stream",
     "text": [
      "/mnt/data/projekti/faks/AIPR/dz/dz-04\n"
     ]
    }
   ],
   "source": [
    "if (\n",
    "    CD_KEY not in os.environ\n",
    "    or os.environ[CD_KEY] is None\n",
    "    or len(os.environ[CD_KEY]) == 0\n",
    "    or os.environ[CD_KEY] == \"false\"\n",
    "):\n",
    "    %cd ..\n",
    "else:\n",
    "    print(os.getcwd())\n",
    "    \n",
    "os.environ[CD_KEY] = \"true\""
   ]
  },
  {
   "cell_type": "markdown",
   "metadata": {},
   "source": [
    "## Učitavanje paketa"
   ]
  },
  {
   "cell_type": "code",
   "execution_count": 3,
   "metadata": {},
   "outputs": [],
   "source": [
    "import numpy as np\n",
    "\n",
    "from src.evolution.encoding import BinaryDecoder, BinaryEncoder"
   ]
  },
  {
   "cell_type": "markdown",
   "metadata": {},
   "source": [
    "## Inicijalizacija"
   ]
  },
  {
   "cell_type": "markdown",
   "metadata": {},
   "source": [
    "### Formatiranje"
   ]
  },
  {
   "cell_type": "code",
   "execution_count": 4,
   "metadata": {},
   "outputs": [],
   "source": [
    "np.set_printoptions(precision=2, suppress=True)"
   ]
  },
  {
   "cell_type": "markdown",
   "metadata": {},
   "source": [
    "### Konstante"
   ]
  },
  {
   "cell_type": "code",
   "execution_count": 5,
   "metadata": {},
   "outputs": [],
   "source": [
    "bits = (2, 4, 8, 11)\n",
    "ranges = (\n",
    "    (-1, 1),\n",
    "    (-50, 50),\n",
    "    (0, 15),\n",
    "    (0, 16)\n",
    ")\n",
    "test_inputs = (0, 1, -1, 15, [3.14])"
   ]
  },
  {
   "cell_type": "markdown",
   "metadata": {},
   "source": [
    "### Enkoderi"
   ]
  },
  {
   "cell_type": "code",
   "execution_count": 6,
   "metadata": {},
   "outputs": [],
   "source": [
    "encoders = [BinaryEncoder(b, r) for b in bits for r in ranges]"
   ]
  },
  {
   "cell_type": "markdown",
   "metadata": {},
   "source": [
    "### Dekoderi"
   ]
  },
  {
   "cell_type": "code",
   "execution_count": 7,
   "metadata": {},
   "outputs": [],
   "source": [
    "decoders = [BinaryDecoder(b, r) for b in bits for r in ranges]"
   ]
  },
  {
   "cell_type": "markdown",
   "metadata": {},
   "source": [
    "## Demonstracija"
   ]
  },
  {
   "cell_type": "code",
   "execution_count": 8,
   "metadata": {
    "scrolled": false
   },
   "outputs": [
    {
     "name": "stdout",
     "output_type": "stream",
     "text": [
      "x -> BinaryEncoder(2 bit, [-1.  1.]) -> BinaryDecoder(2 bit, [-1.  1.]):\n",
      "\t0 -> [0 1] -> -0.33333333333333337\n",
      "\t1 -> [1 1] -> 1.0\n",
      "\t-1 -> [0 0] -> -1.0\n",
      "\t15 -> [1 1] -> 1.0\n",
      "\t[3.14] -> [[1 1]] -> [1.]\n",
      "\n",
      "x -> BinaryEncoder(2 bit, [-50.  50.]) -> BinaryDecoder(2 bit, [-50.  50.]):\n",
      "\t0 -> [0 1] -> -16.666666666666664\n",
      "\t1 -> [0 1] -> -16.666666666666664\n",
      "\t-1 -> [0 1] -> -16.666666666666664\n",
      "\t15 -> [0 1] -> -16.666666666666664\n",
      "\t[3.14] -> [[0 1]] -> [-16.67]\n",
      "\n",
      "x -> BinaryEncoder(2 bit, [ 0. 15.]) -> BinaryDecoder(2 bit, [ 0. 15.]):\n",
      "\t0 -> [0 0] -> 0.0\n",
      "\t1 -> [0 0] -> 0.0\n",
      "\t-1 -> [0 0] -> 0.0\n",
      "\t15 -> [1 1] -> 15.0\n",
      "\t[3.14] -> [[0 0]] -> [0.]\n",
      "\n",
      "x -> BinaryEncoder(2 bit, [ 0. 16.]) -> BinaryDecoder(2 bit, [ 0. 16.]):\n",
      "\t0 -> [0 0] -> 0.0\n",
      "\t1 -> [0 0] -> 0.0\n",
      "\t-1 -> [0 0] -> 0.0\n",
      "\t15 -> [1 0] -> 10.666666666666666\n",
      "\t[3.14] -> [[0 0]] -> [0.]\n",
      "\n",
      "x -> BinaryEncoder(4 bit, [-1.  1.]) -> BinaryDecoder(4 bit, [-1.  1.]):\n",
      "\t0 -> [0 1 1 1] -> -0.06666666666666665\n",
      "\t1 -> [1 1 1 1] -> 1.0\n",
      "\t-1 -> [0 0 0 0] -> -1.0\n",
      "\t15 -> [1 1 1 1] -> 1.0\n",
      "\t[3.14] -> [[1 1 1 1]] -> [1.]\n",
      "\n",
      "x -> BinaryEncoder(4 bit, [-50.  50.]) -> BinaryDecoder(4 bit, [-50.  50.]):\n",
      "\t0 -> [0 1 1 1] -> -3.3333333333333286\n",
      "\t1 -> [0 1 1 1] -> -3.3333333333333286\n",
      "\t-1 -> [0 1 1 1] -> -3.3333333333333286\n",
      "\t15 -> [1 0 0 1] -> 10.0\n",
      "\t[3.14] -> [[0 1 1 1]] -> [-3.33]\n",
      "\n",
      "x -> BinaryEncoder(4 bit, [ 0. 15.]) -> BinaryDecoder(4 bit, [ 0. 15.]):\n",
      "\t0 -> [0 0 0 0] -> 0.0\n",
      "\t1 -> [0 0 0 1] -> 1.0\n",
      "\t-1 -> [0 0 0 0] -> 0.0\n",
      "\t15 -> [1 1 1 1] -> 15.0\n",
      "\t[3.14] -> [[0 0 1 1]] -> [3.]\n",
      "\n",
      "x -> BinaryEncoder(4 bit, [ 0. 16.]) -> BinaryDecoder(4 bit, [ 0. 16.]):\n",
      "\t0 -> [0 0 0 0] -> 0.0\n",
      "\t1 -> [0 0 0 0] -> 0.0\n",
      "\t-1 -> [0 0 0 0] -> 0.0\n",
      "\t15 -> [1 1 1 0] -> 14.933333333333334\n",
      "\t[3.14] -> [[0 0 1 0]] -> [2.13]\n",
      "\n",
      "x -> BinaryEncoder(8 bit, [-1.  1.]) -> BinaryDecoder(8 bit, [-1.  1.]):\n",
      "\t0 -> [0 1 1 1 1 1 1 1] -> -0.0039215686274509665\n",
      "\t1 -> [1 1 1 1 1 1 1 1] -> 1.0\n",
      "\t-1 -> [0 0 0 0 0 0 0 0] -> -1.0\n",
      "\t15 -> [1 1 1 1 1 1 1 1] -> 1.0\n",
      "\t[3.14] -> [[1 1 1 1 1 1 1 1]] -> [1.]\n",
      "\n",
      "x -> BinaryEncoder(8 bit, [-50.  50.]) -> BinaryDecoder(8 bit, [-50.  50.]):\n",
      "\t0 -> [0 1 1 1 1 1 1 1] -> -0.19607843137254832\n",
      "\t1 -> [1 0 0 0 0 0 1 0] -> 0.9803921568627416\n",
      "\t-1 -> [0 1 1 1 1 1 0 0] -> -1.3725490196078454\n",
      "\t15 -> [1 0 1 0 0 1 0 1] -> 14.705882352941174\n",
      "\t[3.14] -> [[1 0 0 0 0 1 1 1]] -> [2.94]\n",
      "\n",
      "x -> BinaryEncoder(8 bit, [ 0. 15.]) -> BinaryDecoder(8 bit, [ 0. 15.]):\n",
      "\t0 -> [0 0 0 0 0 0 0 0] -> 0.0\n",
      "\t1 -> [0 0 0 1 0 0 0 1] -> 1.0\n",
      "\t-1 -> [0 0 0 0 0 0 0 0] -> 0.0\n",
      "\t15 -> [1 1 1 1 1 1 1 1] -> 15.0\n",
      "\t[3.14] -> [[0 0 1 1 0 1 0 1]] -> [3.12]\n",
      "\n",
      "x -> BinaryEncoder(8 bit, [ 0. 16.]) -> BinaryDecoder(8 bit, [ 0. 16.]):\n",
      "\t0 -> [0 0 0 0 0 0 0 0] -> 0.0\n",
      "\t1 -> [0 0 0 0 1 1 1 1] -> 0.9411764705882353\n",
      "\t-1 -> [0 0 0 0 0 0 0 0] -> 0.0\n",
      "\t15 -> [1 1 1 0 1 1 1 1] -> 14.996078431372549\n",
      "\t[3.14] -> [[0 0 1 1 0 0 1 0]] -> [3.14]\n",
      "\n",
      "x -> BinaryEncoder(11 bit, [-1.  1.]) -> BinaryDecoder(11 bit, [-1.  1.]):\n",
      "\t0 -> [0 1 1 1 1 1 1 1 1 1 1] -> -0.0004885197850512668\n",
      "\t1 -> [1 1 1 1 1 1 1 1 1 1 1] -> 1.0\n",
      "\t-1 -> [0 0 0 0 0 0 0 0 0 0 0] -> -1.0\n",
      "\t15 -> [1 1 1 1 1 1 1 1 1 1 1] -> 1.0\n",
      "\t[3.14] -> [[1 1 1 1 1 1 1 1 1 1 1]] -> [1.]\n",
      "\n",
      "x -> BinaryEncoder(11 bit, [-50.  50.]) -> BinaryDecoder(11 bit, [-50.  50.]):\n",
      "\t0 -> [0 1 1 1 1 1 1 1 1 1 1] -> -0.02442598925256334\n",
      "\t1 -> [1 0 0 0 0 0 1 0 0 1 1] -> 0.95261358085002\n",
      "\t-1 -> [0 1 1 1 1 1 0 1 0 1 1] -> -1.0014655593551538\n",
      "\t15 -> [1 0 1 0 0 1 1 0 0 1 0] -> 14.97313141182218\n",
      "\t[3.14] -> [[1 0 0 0 0 1 1 1 1 1 1]] -> [3.1]\n",
      "\n",
      "x -> BinaryEncoder(11 bit, [ 0. 15.]) -> BinaryDecoder(11 bit, [ 0. 15.]):\n",
      "\t0 -> [0 0 0 0 0 0 0 0 0 0 0] -> 0.0\n",
      "\t1 -> [0 0 0 1 0 0 0 1 0 0 0] -> 0.9965803615046409\n",
      "\t-1 -> [0 0 0 0 0 0 0 0 0 0 0] -> 0.0\n",
      "\t15 -> [1 1 1 1 1 1 1 1 1 1 1] -> 15.0\n",
      "\t[3.14] -> [[0 0 1 1 0 1 0 1 1 0 0]] -> [3.14]\n",
      "\n",
      "x -> BinaryEncoder(11 bit, [ 0. 16.]) -> BinaryDecoder(11 bit, [ 0. 16.]):\n",
      "\t0 -> [0 0 0 0 0 0 0 0 0 0 0] -> 0.0\n",
      "\t1 -> [0 0 0 0 1 1 1 1 1 1 1] -> 0.9926722032242306\n",
      "\t-1 -> [0 0 0 0 0 0 0 0 0 0 0] -> 0.0\n",
      "\t15 -> [1 1 1 0 1 1 1 1 1 1 1] -> 14.999511480214949\n",
      "\t[3.14] -> [[0 0 1 1 0 0 1 0 0 0 1]] -> [3.13]\n",
      "\n"
     ]
    }
   ],
   "source": [
    "for encoder, decoder in zip(encoders, decoders):\n",
    "    print(f\"x -> {encoder} -> {decoder}:\")\n",
    "    \n",
    "    for x in test_inputs:\n",
    "        y = encoder(x)\n",
    "        z = decoder(y)\n",
    "        \n",
    "        print(f\"\\t{x} -> {y} -> {z}\")\n",
    "    print()"
   ]
  }
 ],
 "metadata": {
  "kernelspec": {
   "display_name": "aipr_dz04",
   "language": "python",
   "name": "aipr_dz04"
  },
  "language_info": {
   "codemirror_mode": {
    "name": "ipython",
    "version": 3
   },
   "file_extension": ".py",
   "mimetype": "text/x-python",
   "name": "python",
   "nbconvert_exporter": "python",
   "pygments_lexer": "ipython3",
   "version": "3.8.5"
  }
 },
 "nbformat": 4,
 "nbformat_minor": 4
}
