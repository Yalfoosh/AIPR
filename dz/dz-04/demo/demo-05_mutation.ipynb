{
 "cells": [
  {
   "cell_type": "markdown",
   "metadata": {},
   "source": [
    "# Analiza i projektiranje računalom - 4. laboratorijska vježba: demo mutation.py"
   ]
  },
  {
   "cell_type": "markdown",
   "metadata": {},
   "source": [
    "## Priprema za izvođenje"
   ]
  },
  {
   "cell_type": "code",
   "execution_count": 1,
   "metadata": {},
   "outputs": [],
   "source": [
    "import os\n",
    "\n",
    "CD_KEY = \"--HW04_D05_IN_ROOT\""
   ]
  },
  {
   "cell_type": "code",
   "execution_count": 2,
   "metadata": {},
   "outputs": [
    {
     "name": "stdout",
     "output_type": "stream",
     "text": [
      "/mnt/data/projekti/faks/AIPR/dz/dz-04\n"
     ]
    }
   ],
   "source": [
    "if (\n",
    "    CD_KEY not in os.environ\n",
    "    or os.environ[CD_KEY] is None\n",
    "    or len(os.environ[CD_KEY]) == 0\n",
    "    or os.environ[CD_KEY] == \"false\"\n",
    "):\n",
    "    %cd ..\n",
    "else:\n",
    "    print(os.getcwd())\n",
    "    \n",
    "os.environ[CD_KEY] = \"true\""
   ]
  },
  {
   "cell_type": "markdown",
   "metadata": {},
   "source": [
    "## Učitavanje paketa"
   ]
  },
  {
   "cell_type": "code",
   "execution_count": 3,
   "metadata": {},
   "outputs": [],
   "source": [
    "import numpy as np\n",
    "\n",
    "from src.evolution.encoding import BinaryEncoder\n",
    "from src.evolution.mutation import (\n",
    "    GaussianMutation,\n",
    "    StochasticCorruptionMutation,\n",
    ")"
   ]
  },
  {
   "cell_type": "markdown",
   "metadata": {},
   "source": [
    "## Inicijalizacija"
   ]
  },
  {
   "cell_type": "markdown",
   "metadata": {},
   "source": [
    "### Formatiranje"
   ]
  },
  {
   "cell_type": "code",
   "execution_count": 4,
   "metadata": {},
   "outputs": [],
   "source": [
    "np.set_printoptions(precision=2, suppress=True)"
   ]
  },
  {
   "cell_type": "markdown",
   "metadata": {},
   "source": [
    "### Konstante"
   ]
  },
  {
   "cell_type": "code",
   "execution_count": 5,
   "metadata": {},
   "outputs": [],
   "source": [
    "specimen_shape = (5,)\n",
    "\n",
    "bits = 8\n",
    "interval = (-1, 1)\n",
    "\n",
    "n_repeats = 3"
   ]
  },
  {
   "cell_type": "markdown",
   "metadata": {},
   "source": [
    "### Jedinke"
   ]
  },
  {
   "cell_type": "code",
   "execution_count": 6,
   "metadata": {},
   "outputs": [],
   "source": [
    "specimen = np.random.uniform(*interval, specimen_shape)"
   ]
  },
  {
   "cell_type": "markdown",
   "metadata": {},
   "source": [
    "### Koderi"
   ]
  },
  {
   "cell_type": "code",
   "execution_count": 7,
   "metadata": {},
   "outputs": [],
   "source": [
    "be = BinaryEncoder(dim=8, interval=interval)"
   ]
  },
  {
   "cell_type": "markdown",
   "metadata": {},
   "source": [
    "### Operatori"
   ]
  },
  {
   "cell_type": "code",
   "execution_count": 8,
   "metadata": {},
   "outputs": [],
   "source": [
    "float_operators = [\n",
    "    GaussianMutation(mutation_probability=0.5)\n",
    "]\n",
    "binary_operators = [\n",
    "    StochasticCorruptionMutation(mutation_probability=0.5)\n",
    "]"
   ]
  },
  {
   "cell_type": "markdown",
   "metadata": {},
   "source": [
    "## Demonstracija"
   ]
  },
  {
   "cell_type": "markdown",
   "metadata": {},
   "source": [
    "### Prikaz s pomičnom točkom"
   ]
  },
  {
   "cell_type": "code",
   "execution_count": 9,
   "metadata": {},
   "outputs": [
    {
     "name": "stdout",
     "output_type": "stream",
     "text": [
      "Koristeći GaussianMutation operator\n",
      "[-0.48  0.24  0.89  0.55  0.15] ->\n",
      "[-0.48  0.18  0.89  0.55 -0.3 ]\n",
      "\n",
      "[-0.48  0.24  0.89  0.55  0.15] ->\n",
      "[0.56 0.91 0.89 0.55 0.15]\n",
      "\n",
      "[-0.48  0.24  0.89  0.55  0.15] ->\n",
      "[-0.48  0.24  1.89  1.56  1.34]\n",
      "\n"
     ]
    }
   ],
   "source": [
    "for float_operator in float_operators:\n",
    "    print(f\"Koristeći {float_operator}\")\n",
    "    \n",
    "    for _ in range(n_repeats):\n",
    "        print(f\"{specimen} ->\\n{float_operator(specimen)}\")\n",
    "        print()"
   ]
  },
  {
   "cell_type": "markdown",
   "metadata": {},
   "source": [
    "### Prikaz u binarnom obliku"
   ]
  },
  {
   "cell_type": "code",
   "execution_count": 10,
   "metadata": {
    "scrolled": false
   },
   "outputs": [
    {
     "name": "stdout",
     "output_type": "stream",
     "text": [
      "Koristeći StochasticCorruptionMutation operator\n",
      "[[0 1 0 0 0 0 1 0]\n",
      " [1 0 0 1 1 1 0 1]\n",
      " [1 1 1 1 0 0 0 0]\n",
      " [1 1 0 0 0 1 0 1]\n",
      " [1 0 0 1 0 0 1 1]] ->\n",
      "[[0 0 1 1 1 0 0 1]\n",
      " [1 0 1 1 1 1 1 0]\n",
      " [0 1 0 0 1 1 0 0]\n",
      " [0 0 0 0 1 1 0 1]\n",
      " [1 0 0 1 0 1 1 0]]\n",
      "\n",
      "[[0 1 0 0 0 0 1 0]\n",
      " [1 0 0 1 1 1 0 1]\n",
      " [1 1 1 1 0 0 0 0]\n",
      " [1 1 0 0 0 1 0 1]\n",
      " [1 0 0 1 0 0 1 1]] ->\n",
      "[[1 1 0 1 0 1 1 1]\n",
      " [0 1 1 0 0 1 1 1]\n",
      " [1 1 1 0 1 1 1 1]\n",
      " [0 0 0 0 1 0 1 1]\n",
      " [0 1 1 0 1 1 0 0]]\n",
      "\n",
      "[[0 1 0 0 0 0 1 0]\n",
      " [1 0 0 1 1 1 0 1]\n",
      " [1 1 1 1 0 0 0 0]\n",
      " [1 1 0 0 0 1 0 1]\n",
      " [1 0 0 1 0 0 1 1]] ->\n",
      "[[0 0 1 1 1 0 0 0]\n",
      " [1 1 0 1 0 0 0 0]\n",
      " [0 0 0 0 1 0 0 1]\n",
      " [0 1 0 0 0 0 0 1]\n",
      " [1 0 1 0 0 1 0 0]]\n",
      "\n"
     ]
    }
   ],
   "source": [
    "for binary_operator in binary_operators:\n",
    "    print(f\"Koristeći {binary_operator}\")\n",
    "    \n",
    "    for _ in range(n_repeats):\n",
    "        print(f\"{be(specimen)} ->\\n{binary_operator(be(specimen))}\")\n",
    "        print()"
   ]
  }
 ],
 "metadata": {
  "kernelspec": {
   "display_name": "aipr_dz04",
   "language": "python",
   "name": "aipr_dz04"
  },
  "language_info": {
   "codemirror_mode": {
    "name": "ipython",
    "version": 3
   },
   "file_extension": ".py",
   "mimetype": "text/x-python",
   "name": "python",
   "nbconvert_exporter": "python",
   "pygments_lexer": "ipython3",
   "version": "3.8.5"
  }
 },
 "nbformat": 4,
 "nbformat_minor": 4
}
