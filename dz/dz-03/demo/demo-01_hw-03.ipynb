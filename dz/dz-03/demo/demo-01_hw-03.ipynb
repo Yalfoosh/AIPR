{
 "cells": [
  {
   "cell_type": "markdown",
   "metadata": {},
   "source": [
    "# Analiza i projektiranje računalom - 3. domaća zadaća"
   ]
  },
  {
   "cell_type": "markdown",
   "metadata": {},
   "source": [
    "U okviru ove domaće zadaće potrebno je implementirati sljedeće metode optimiranja:"
   ]
  },
  {
   "cell_type": "markdown",
   "metadata": {},
   "source": [
    "---"
   ]
  },
  {
   "cell_type": "markdown",
   "metadata": {},
   "source": [
    "## Funkcije cilja"
   ]
  },
  {
   "cell_type": "markdown",
   "metadata": {},
   "source": [
    "### Funkcija 1 - Rosenbrockova \"banana\" funkcija"
   ]
  },
  {
   "cell_type": "markdown",
   "metadata": {},
   "source": [
    "$$\n",
    "\\begin{equation}\n",
    "    f_1 \\left( \\vec{x} \\right) = 100 \\left( x_1 - {x_0}^2 \\right)^2 + \\left( 1 - x_0 \\right)^2\n",
    "\\end{equation}\n",
    "$$"
   ]
  },
  {
   "cell_type": "markdown",
   "metadata": {},
   "source": [
    "$$\n",
    "\\begin{equation}\n",
    "    \\vec{x_0} = \n",
    "    \\begin{bmatrix}\n",
    "        -1.9 & 2\n",
    "    \\end{bmatrix}\n",
    "\\end{equation}\n",
    "$$"
   ]
  },
  {
   "cell_type": "markdown",
   "metadata": {},
   "source": [
    "$$\n",
    "\\begin{equation}\n",
    "    \\vec{x_{min}} =\n",
    "    \\begin{bmatrix}\n",
    "        1 & 1\n",
    "    \\end{bmatrix}\n",
    "\\end{equation}\n",
    "$$"
   ]
  },
  {
   "cell_type": "markdown",
   "metadata": {},
   "source": [
    "$$\n",
    "\\begin{equation}\n",
    "    f_1 \\left( \\vec{x_{min}} \\right) = 0\n",
    "\\end{equation}\n",
    "$$"
   ]
  },
  {
   "cell_type": "markdown",
   "metadata": {},
   "source": [
    "### Funkcija 2"
   ]
  },
  {
   "cell_type": "markdown",
   "metadata": {},
   "source": [
    "$$\n",
    "\\begin{equation}\n",
    "    f_2 \\left( \\vec{x} \\right) = \\left( x_0 - 4 \\right)^2 + 4 \\left( x_1 - 2 \\right)^2\n",
    "\\end{equation}\n",
    "$$"
   ]
  },
  {
   "cell_type": "markdown",
   "metadata": {},
   "source": [
    "$$\n",
    "\\begin{equation}\n",
    "    \\vec{x_0} = \n",
    "    \\begin{bmatrix}\n",
    "        0.1 & 0.3\n",
    "    \\end{bmatrix}\n",
    "\\end{equation}\n",
    "$$"
   ]
  },
  {
   "cell_type": "markdown",
   "metadata": {},
   "source": [
    "$$\n",
    "\\begin{equation}\n",
    "    \\vec{x_{min}} =\n",
    "    \\begin{bmatrix}\n",
    "        4 & 2\n",
    "    \\end{bmatrix}\n",
    "\\end{equation}\n",
    "$$"
   ]
  },
  {
   "cell_type": "markdown",
   "metadata": {},
   "source": [
    "$$\n",
    "\\begin{equation}\n",
    "    f_2 \\left( \\vec{x_{min}} \\right) = 0\n",
    "\\end{equation}\n",
    "$$"
   ]
  },
  {
   "cell_type": "markdown",
   "metadata": {},
   "source": [
    "### Funkcija 3"
   ]
  },
  {
   "cell_type": "markdown",
   "metadata": {},
   "source": [
    "$$\n",
    "\\begin{equation}\n",
    "    f_3 \\left( \\vec{x} \\right) = \\left( x_0 - 2 \\right)^2 + \\left( x_1 + 3 \\right)^2\n",
    "\\end{equation}\n",
    "$$"
   ]
  },
  {
   "cell_type": "markdown",
   "metadata": {},
   "source": [
    "$$\n",
    "\\begin{equation}\n",
    "    \\vec{x_0} = \n",
    "    \\begin{bmatrix}\n",
    "        0 & 0\n",
    "    \\end{bmatrix}\n",
    "\\end{equation}\n",
    "$$"
   ]
  },
  {
   "cell_type": "markdown",
   "metadata": {},
   "source": [
    "$$\n",
    "\\begin{equation}\n",
    "    \\vec{x_{min}} =\n",
    "    \\begin{bmatrix}\n",
    "        2 & -3\n",
    "    \\end{bmatrix}\n",
    "\\end{equation}\n",
    "$$"
   ]
  },
  {
   "cell_type": "markdown",
   "metadata": {},
   "source": [
    "$$\n",
    "\\begin{equation}\n",
    "    f_3 \\left( \\vec{x_{min}} \\right) = 0\n",
    "\\end{equation}\n",
    "$$"
   ]
  },
  {
   "cell_type": "markdown",
   "metadata": {},
   "source": [
    "### Funkcija 4"
   ]
  },
  {
   "cell_type": "markdown",
   "metadata": {},
   "source": [
    "$$\n",
    "\\begin{equation}\n",
    "    f_4 \\left( \\vec{x} \\right) = \\left( x_0 - 3 \\right)^2 + {x_1}^2\n",
    "\\end{equation}\n",
    "$$"
   ]
  },
  {
   "cell_type": "markdown",
   "metadata": {},
   "source": [
    "$$\n",
    "\\begin{equation}\n",
    "    \\vec{x_0} = \n",
    "    \\begin{bmatrix}\n",
    "        0 & 0\n",
    "    \\end{bmatrix}\n",
    "\\end{equation}\n",
    "$$"
   ]
  },
  {
   "cell_type": "markdown",
   "metadata": {},
   "source": [
    "$$\n",
    "\\begin{equation}\n",
    "    \\vec{x_{min}} =\n",
    "    \\begin{bmatrix}\n",
    "        3 & 0\n",
    "    \\end{bmatrix}\n",
    "\\end{equation}\n",
    "$$"
   ]
  },
  {
   "cell_type": "markdown",
   "metadata": {},
   "source": [
    "$$\n",
    "\\begin{equation}\n",
    "    f_4 \\left( \\vec{x_{min}} \\right) = 0\n",
    "\\end{equation}\n",
    "$$"
   ]
  },
  {
   "cell_type": "markdown",
   "metadata": {},
   "source": [
    "## Priprema za izvođenje"
   ]
  },
  {
   "cell_type": "code",
   "execution_count": 1,
   "metadata": {},
   "outputs": [],
   "source": [
    "import os\n",
    "\n",
    "CD_KEY = \"--HW03_IN_ROOT\""
   ]
  },
  {
   "cell_type": "code",
   "execution_count": 2,
   "metadata": {},
   "outputs": [],
   "source": [
    "if (\n",
    "    CD_KEY not in os.environ\n",
    "    or os.environ[CD_KEY] is None\n",
    "    or len(os.environ[CD_KEY]) == 0\n",
    "    or os.environ[CD_KEY] == \"false\"\n",
    "):\n",
    "    %cd ..\n",
    "else:\n",
    "    print(os.getcwd())\n",
    "    \n",
    "os.environ[CD_KEY] = \"true\""
   ]
  },
  {
   "cell_type": "markdown",
   "metadata": {},
   "source": [
    "## Učitavanje paketa"
   ]
  },
  {
   "cell_type": "code",
   "execution_count": 3,
   "metadata": {},
   "outputs": [],
   "source": [
    "import copy\n",
    "import sys\n",
    "import warnings\n",
    "\n",
    "import array_to_latex as a2l\n",
    "from IPython.display import display, Markdown\n",
    "from matplotlib import pyplot as plt\n",
    "import numpy as np\n",
    "\n",
    "from src.searches.box import box_search\n",
    "from src.searches.constraint import (\n",
    "    Constraint,\n",
    "    constraints_to_function,\n",
    "    find_inner_point\n",
    ")\n",
    "from src.searches.function import Function\n",
    "from src.searches.gradient_descent import gradient_descent_search\n",
    "from src.searches.hooke_jeeves import hooke_jeeves_search\n",
    "from src.searches.nelder_mead import nelder_mead_simplex_search\n",
    "from src.searches.newton_raphson import newton_raphson_search"
   ]
  },
  {
   "cell_type": "code",
   "execution_count": 4,
   "metadata": {},
   "outputs": [],
   "source": [
    "np.random.seed(21051208)\n",
    "warnings.filterwarnings('ignore')"
   ]
  },
  {
   "cell_type": "markdown",
   "metadata": {},
   "source": [
    "## Definicija pomoćnih funkcija"
   ]
  },
  {
   "cell_type": "code",
   "execution_count": 5,
   "metadata": {},
   "outputs": [],
   "source": [
    "def array_to_latex(array):\n",
    "    return a2l.to_ltx(\n",
    "        array,\n",
    "        frmt=\"{:g}\",\n",
    "        arraytype=\"bmatrix\",\n",
    "        print_out=False\n",
    "    )"
   ]
  },
  {
   "cell_type": "markdown",
   "metadata": {},
   "source": [
    "## Definicija funkcija i početnih točaka"
   ]
  },
  {
   "cell_type": "code",
   "execution_count": 6,
   "metadata": {},
   "outputs": [],
   "source": [
    "f1 = Function(lambda x: 100 * (x[1] - x[0] ** 2) ** 2 + (1 - x[0]) ** 2)\n",
    "f1_derivative = Function(\n",
    "    lambda x: np.array(\n",
    "        [\n",
    "            2 * (200 * x[0] ** 3 - 200 * x[0] * x[1] + x[0] - 1),\n",
    "            200 * (x[1] - x[0] ** 2)\n",
    "        ]\n",
    "    )\n",
    ")\n",
    "f1_hesse = Function(\n",
    "    lambda x: np.array(\n",
    "        [\n",
    "            [2 * (600 * x[0] ** 2 - 200 * x[1] + 1), -400 * x[0]],\n",
    "            [-400 * x[0], 200]\n",
    "        ]\n",
    "    )\n",
    ")\n",
    "f1_derivative.derivative = f1_hesse\n",
    "f1.derivative = f1_derivative\n",
    "\n",
    "f1_start = np.array([-1.9, 2])"
   ]
  },
  {
   "cell_type": "code",
   "execution_count": 7,
   "metadata": {},
   "outputs": [],
   "source": [
    "f2 = Function(lambda x: (x[0] - 4) ** 2 + 4 * (x[1] - 2) ** 2)\n",
    "f2_derivative = Function(\n",
    "    lambda x: np.array([2 * x[0] - 8, 8 * x[1] - 16])\n",
    ")\n",
    "f2_hesse = Function(\n",
    "    lambda x: np.array(\n",
    "        [\n",
    "            [2, 0],\n",
    "            [0, 8]\n",
    "        ]\n",
    "    )\n",
    ")\n",
    "f2_derivative.derivative = f2_hesse\n",
    "f2.derivative = f2_derivative\n",
    "\n",
    "f2_start = np.array([0.1, 0.3])"
   ]
  },
  {
   "cell_type": "code",
   "execution_count": 8,
   "metadata": {},
   "outputs": [],
   "source": [
    "f3 = Function(lambda x: (x[0] - 2) ** 2 + (x[1] + 3) ** 2)\n",
    "f3_derivative = Function(\n",
    "    lambda x: np.array([2 * x[0] - 4, 2 * x[1] + 6])\n",
    ")\n",
    "f3_hesse = Function(\n",
    "    lambda x: np.array(\n",
    "        [\n",
    "            [2, 0],\n",
    "            [0, 2]\n",
    "        ]\n",
    "    )\n",
    ")\n",
    "f3_derivative.derivative = f3_hesse\n",
    "f3.derivative = f3_derivative\n",
    "\n",
    "f3_start = np.array([0, 0])"
   ]
  },
  {
   "cell_type": "code",
   "execution_count": 9,
   "metadata": {},
   "outputs": [],
   "source": [
    "f4 = Function(lambda x: (x[0] - 3) ** 2 + x[1] ** 2)\n",
    "f4_derivative = Function(\n",
    "    lambda x: np.array([2 * x[0] - 6, 2 * x[1]])\n",
    ")\n",
    "f4_hesse = Function(\n",
    "    lambda x: np.array(\n",
    "        [\n",
    "            [2, 0],\n",
    "            [0, 2]\n",
    "        ]\n",
    "    )\n",
    ")\n",
    "f4_derivative.derivative = f4_hesse\n",
    "f4.derivative = f4_derivative\n",
    "\n",
    "f4_start = np.array([0, 0])"
   ]
  },
  {
   "cell_type": "markdown",
   "metadata": {},
   "source": [
    "## Zadatci"
   ]
  },
  {
   "cell_type": "markdown",
   "metadata": {},
   "source": [
    "### Zadatak 1"
   ]
  },
  {
   "cell_type": "markdown",
   "metadata": {},
   "source": [
    "Primijenite postupak gradijentnog spusta na funkciju 3, uz i bez određivanje optimalnog iznosa koraka. Što možete zaključiti iz rezultata?"
   ]
  },
  {
   "cell_type": "code",
   "execution_count": 10,
   "metadata": {},
   "outputs": [],
   "source": [
    "t1_start = copy.deepcopy(f1_start)"
   ]
  },
  {
   "cell_type": "markdown",
   "metadata": {},
   "source": [
    "#### Uz određivanje optimalnog iznosa"
   ]
  },
  {
   "cell_type": "code",
   "execution_count": 11,
   "metadata": {},
   "outputs": [],
   "source": [
    "t1_function_with_optimal_step = f3.get_new()\n",
    "\n",
    "t1_result_with_optimal_step = gradient_descent_search(\n",
    "    function=t1_function_with_optimal_step,\n",
    "    start=t1_start,\n",
    "    gradient_scaling=\"find optimal\",\n",
    ")\n",
    "t1_value_with_optimal_step = t1_function_with_optimal_step(\n",
    "    t1_result_with_optimal_step, dont_count=True\n",
    ")"
   ]
  },
  {
   "cell_type": "code",
   "execution_count": 12,
   "metadata": {},
   "outputs": [
    {
     "data": {
      "text/markdown": [
       "**Postupak gradijentnog spusta** pronašao je minimum u točki $\\begin{bmatrix}\n",
       "  2  & -3 \n",
       "\\end{bmatrix}$ vrijednosti $1.04097e-26$ (uz $75$ poziva funkcije i $3$ poziva gradijenta)."
      ],
      "text/plain": [
       "<IPython.core.display.Markdown object>"
      ]
     },
     "metadata": {},
     "output_type": "display_data"
    }
   ],
   "source": [
    "display(\n",
    "    Markdown(\n",
    "        \"**Postupak gradijentnog spusta** pronašao je minimum \"\n",
    "        f\"u točki ${array_to_latex(t1_result_with_optimal_step)}$ \"\n",
    "        f\"vrijednosti ${t1_value_with_optimal_step:g}$ \"\n",
    "        f\"(uz ${t1_function_with_optimal_step.call_count}$ poziva funkcije \"\n",
    "        f\"i ${t1_function_with_optimal_step.derivative.call_count}$ \"\n",
    "        \"poziva gradijenta).\"\n",
    "    )\n",
    ")"
   ]
  },
  {
   "cell_type": "markdown",
   "metadata": {},
   "source": [
    "#### Uz normalizaciju gradijenta"
   ]
  },
  {
   "cell_type": "code",
   "execution_count": 13,
   "metadata": {},
   "outputs": [
    {
     "name": "stderr",
     "output_type": "stream",
     "text": [
      "WARNING: Gradient descent timed out after 100 iterations passed with no improvement - result might not be a minimum.\n"
     ]
    }
   ],
   "source": [
    "t1_function_with_normalize = f3.get_new()\n",
    "\n",
    "t1_result_with_normalize = gradient_descent_search(\n",
    "    function=t1_function_with_normalize,\n",
    "    start=t1_start,\n",
    "    gradient_scaling=\"normalize\",\n",
    ")\n",
    "t1_value_with_normalize = t1_function_with_normalize(\n",
    "    t1_result_with_normalize, dont_count=True\n",
    ")"
   ]
  },
  {
   "cell_type": "code",
   "execution_count": 14,
   "metadata": {},
   "outputs": [
    {
     "data": {
      "text/markdown": [
       "**Postupak gradijentnog spusta** pronašao je minimum u točki $\\begin{bmatrix}\n",
       "  1.79019 & -2.73101\n",
       "\\end{bmatrix}$ vrijednosti $0.116373$ (uz $107$ poziva funkcije i $106$ poziva gradijenta)."
      ],
      "text/plain": [
       "<IPython.core.display.Markdown object>"
      ]
     },
     "metadata": {},
     "output_type": "display_data"
    }
   ],
   "source": [
    "display(\n",
    "    Markdown(\n",
    "        \"**Postupak gradijentnog spusta** pronašao je minimum \"\n",
    "        f\"u točki ${array_to_latex(t1_result_with_normalize)}$ \"\n",
    "        f\"vrijednosti ${t1_value_with_normalize:g}$ \"\n",
    "        f\"(uz ${t1_function_with_normalize.call_count}$ poziva funkcije \"\n",
    "        f\"i ${t1_function_with_normalize.derivative.call_count}$ \"\n",
    "        \"poziva gradijenta).\"\n",
    "    )\n",
    ")"
   ]
  },
  {
   "cell_type": "markdown",
   "metadata": {},
   "source": [
    "#### Bez modifikacija gradijenta"
   ]
  },
  {
   "cell_type": "code",
   "execution_count": 15,
   "metadata": {},
   "outputs": [
    {
     "name": "stderr",
     "output_type": "stream",
     "text": [
      "WARNING: Gradient descent timed out after 100 iterations passed with no improvement - result might not be a minimum.\n"
     ]
    }
   ],
   "source": [
    "t1_function_vanilla = f3.get_new()\n",
    "\n",
    "t1_result_vanilla = gradient_descent_search(\n",
    "    function=t1_function_vanilla,\n",
    "    start=t1_start,\n",
    "    gradient_scaling=\"none\"\n",
    ")\n",
    "t1_value_vanilla = t1_function_vanilla(\n",
    "    t1_result_vanilla, dont_count=True\n",
    ")"
   ]
  },
  {
   "cell_type": "code",
   "execution_count": 16,
   "metadata": {},
   "outputs": [
    {
     "data": {
      "text/markdown": [
       "**Postupak gradijentnog spusta** pronašao je minimum u točki $\\begin{bmatrix}\n",
       " -1.9 &  2 \n",
       "\\end{bmatrix}$ vrijednosti $40.21$ (uz $101$ poziva funkcije i $100$ poziva gradijenta)."
      ],
      "text/plain": [
       "<IPython.core.display.Markdown object>"
      ]
     },
     "metadata": {},
     "output_type": "display_data"
    }
   ],
   "source": [
    "display(\n",
    "    Markdown(\n",
    "        \"**Postupak gradijentnog spusta** pronašao je minimum \"\n",
    "        f\"u točki ${array_to_latex(t1_result_vanilla)}$ \"\n",
    "        f\"vrijednosti ${t1_value_vanilla:g}$ \"\n",
    "        f\"(uz ${t1_function_vanilla.call_count}$ poziva funkcije \"\n",
    "        f\"i ${t1_function_vanilla.derivative.call_count}$ \"\n",
    "        \"poziva gradijenta).\"\n",
    "    )\n",
    ")"
   ]
  },
  {
   "cell_type": "markdown",
   "metadata": {},
   "source": [
    "**Odgovor**: Iz rezultata je jednostavno zaključiti da algoritam ne konvergira naivnim pristupom određivanja gradijenta. Konvergencija se događa samo kada odaberemo optimalan korak. U slučaju gdje ga normaliziramo, pretraga zapne. U slučaju kada ostavimo gradijent takav kakav je, vrtimo se u krug između 2 točke koje daju gradijente suprotnog smjera."
   ]
  },
  {
   "cell_type": "markdown",
   "metadata": {},
   "source": [
    "### Zadatak 2"
   ]
  },
  {
   "cell_type": "markdown",
   "metadata": {},
   "source": [
    "Primijenite postupak gradijentnog spusta i Newton-Raphsonov postupak na funkcije 1 i 2 s određivanjem optimalnog iznosa koraka. Ispišite broj izračuna funkcije, gradijenta i Hesseove matrice."
   ]
  },
  {
   "cell_type": "code",
   "execution_count": 17,
   "metadata": {},
   "outputs": [],
   "source": [
    "t2_f1_start = copy.deepcopy(f1_start)\n",
    "t2_f2_start = copy.deepcopy(f2_start)"
   ]
  },
  {
   "cell_type": "markdown",
   "metadata": {},
   "source": [
    "#### Funkcija 1"
   ]
  },
  {
   "cell_type": "code",
   "execution_count": 18,
   "metadata": {},
   "outputs": [],
   "source": [
    "t2_f1_gd = f1.get_new()\n",
    "t2_f1_nr = f1.get_new()"
   ]
  },
  {
   "cell_type": "markdown",
   "metadata": {},
   "source": [
    "##### Gradijentni spust"
   ]
  },
  {
   "cell_type": "code",
   "execution_count": 19,
   "metadata": {},
   "outputs": [],
   "source": [
    "t2_f1_gd_result = gradient_descent_search(\n",
    "    function=t2_f1_gd,\n",
    "    start=t2_f1_start,\n",
    "    gradient_scaling=\"find optimal\",\n",
    ")\n",
    "t2_f1_gd_value = t2_f1_gd(t2_f1_gd_result, dont_count=True)"
   ]
  },
  {
   "cell_type": "code",
   "execution_count": 20,
   "metadata": {},
   "outputs": [
    {
     "data": {
      "text/markdown": [
       "**Postupak gradijentnog spusta** pronašao je minimum u točki $\\begin{bmatrix}\n",
       "  1  &  1 \n",
       "\\end{bmatrix}$ vrijednosti $1.06955e-12$ (uz $150961$ poziva funkcije i $4081$ poziva gradijenta)."
      ],
      "text/plain": [
       "<IPython.core.display.Markdown object>"
      ]
     },
     "metadata": {},
     "output_type": "display_data"
    }
   ],
   "source": [
    "display(\n",
    "    Markdown(\n",
    "        \"**Postupak gradijentnog spusta** pronašao je minimum \"\n",
    "        f\"u točki ${array_to_latex(t2_f1_gd_result)}$ \"\n",
    "        f\"vrijednosti ${t2_f1_gd_value:g}$ \"\n",
    "        f\"(uz ${t2_f1_gd.call_count}$ poziva funkcije \"\n",
    "        f\"i ${t2_f1_gd.derivative.call_count}$ \"\n",
    "        \"poziva gradijenta).\"\n",
    "    )\n",
    ")"
   ]
  },
  {
   "cell_type": "markdown",
   "metadata": {},
   "source": [
    "##### Newton-Raphson"
   ]
  },
  {
   "cell_type": "code",
   "execution_count": 21,
   "metadata": {},
   "outputs": [],
   "source": [
    "t2_f1_nr_result = newton_raphson_search(\n",
    "    function=t2_f1_nr,\n",
    "    start=t2_f1_start,\n",
    "    stride_scaling=\"find optimal\",\n",
    ")\n",
    "t2_f1_nr_value = t2_f1_nr(t2_f1_nr_result, dont_count=True)"
   ]
  },
  {
   "cell_type": "code",
   "execution_count": 22,
   "metadata": {},
   "outputs": [
    {
     "data": {
      "text/markdown": [
       "**Newton-Raphsonov postupak** pronašao je minimum u točki $\\begin{bmatrix}\n",
       "  1  &  1 \n",
       "\\end{bmatrix}$ vrijednosti $3.62541e-13$ (uz $541$ poziva funkcije, $15$ poziva gradijenta i $15$ poziva Hesseove matrice)."
      ],
      "text/plain": [
       "<IPython.core.display.Markdown object>"
      ]
     },
     "metadata": {},
     "output_type": "display_data"
    }
   ],
   "source": [
    "display(\n",
    "    Markdown(\n",
    "        \"**Newton-Raphsonov postupak** pronašao je minimum \"\n",
    "        f\"u točki ${array_to_latex(t2_f1_nr_result)}$ \"\n",
    "        f\"vrijednosti ${t2_f1_nr_value:g}$ \"\n",
    "        f\"(uz ${t2_f1_nr.call_count}$ poziva funkcije, \"\n",
    "        f\"${t2_f1_nr.derivative.call_count}$ poziva gradijenta \"\n",
    "        f\"i ${t2_f1_nr.derivative.derivative.call_count}$ \"\n",
    "        \"poziva Hesseove matrice).\"\n",
    "    )\n",
    ")"
   ]
  },
  {
   "cell_type": "markdown",
   "metadata": {},
   "source": [
    "#### Funkcija 2"
   ]
  },
  {
   "cell_type": "code",
   "execution_count": 23,
   "metadata": {},
   "outputs": [],
   "source": [
    "t2_f2_gd = f2.get_new()\n",
    "t2_f2_nr = f2.get_new()"
   ]
  },
  {
   "cell_type": "markdown",
   "metadata": {},
   "source": [
    "##### Gradijentni spust"
   ]
  },
  {
   "cell_type": "code",
   "execution_count": 24,
   "metadata": {},
   "outputs": [],
   "source": [
    "t2_f2_gd_result = gradient_descent_search(\n",
    "    function=t2_f2_gd,\n",
    "    start=t2_f2_start,\n",
    "    gradient_scaling=\"find optimal\",\n",
    ")\n",
    "t2_f2_gd_value = t2_f2_gd(t2_f2_gd_result, dont_count=True)"
   ]
  },
  {
   "cell_type": "code",
   "execution_count": 25,
   "metadata": {},
   "outputs": [
    {
     "data": {
      "text/markdown": [
       "**Postupak gradijentnog spusta** pronašao je minimum u točki $\\begin{bmatrix}\n",
       "  4  &  2 \n",
       "\\end{bmatrix}$ vrijednosti $1.33413e-13$ (uz $1000$ poziva funkcije i $28$ poziva gradijenta)."
      ],
      "text/plain": [
       "<IPython.core.display.Markdown object>"
      ]
     },
     "metadata": {},
     "output_type": "display_data"
    }
   ],
   "source": [
    "display(\n",
    "    Markdown(\n",
    "        \"**Postupak gradijentnog spusta** pronašao je minimum \"\n",
    "        f\"u točki ${array_to_latex(t2_f2_gd_result)}$ \"\n",
    "        f\"vrijednosti ${t2_f2_gd_value:g}$ \"\n",
    "        f\"(uz ${t2_f2_gd.call_count}$ poziva funkcije \"\n",
    "        f\"i ${t2_f2_gd.derivative.call_count}$ \"\n",
    "        \"poziva gradijenta).\"\n",
    "    )\n",
    ")"
   ]
  },
  {
   "cell_type": "markdown",
   "metadata": {},
   "source": [
    "##### Newton-Raphson"
   ]
  },
  {
   "cell_type": "code",
   "execution_count": 26,
   "metadata": {},
   "outputs": [],
   "source": [
    "t2_f2_nr_result = newton_raphson_search(\n",
    "    function=t2_f2_nr,\n",
    "    start=t2_f2_start,\n",
    "    stride_scaling=\"find optimal\",\n",
    ")\n",
    "t2_f2_nr_value = t2_f2_nr(t2_f2_nr_result, dont_count=True)"
   ]
  },
  {
   "cell_type": "code",
   "execution_count": 27,
   "metadata": {},
   "outputs": [
    {
     "data": {
      "text/markdown": [
       "**Newton-Raphsonov postupak** pronašao je minimum u točki $\\begin{bmatrix}\n",
       "  4  &  2 \n",
       "\\end{bmatrix}$ vrijednosti $1.12834e-12$ (uz $39$ poziva funkcije, $2$ poziva gradijenta i $2$ poziva Hesseove matrice)."
      ],
      "text/plain": [
       "<IPython.core.display.Markdown object>"
      ]
     },
     "metadata": {},
     "output_type": "display_data"
    }
   ],
   "source": [
    "display(\n",
    "    Markdown(\n",
    "        \"**Newton-Raphsonov postupak** pronašao je minimum \"\n",
    "        f\"u točki ${array_to_latex(t2_f2_nr_result)}$ \"\n",
    "        f\"vrijednosti ${t2_f2_nr_value:g}$ \"\n",
    "        f\"(uz ${t2_f2_nr.call_count}$ poziva funkcije, \"\n",
    "        f\"${t2_f2_nr.derivative.call_count}$ poziva gradijenta \"\n",
    "        f\"i ${t2_f2_nr.derivative.derivative.call_count}$ \"\n",
    "        \"poziva Hesseove matrice).\"\n",
    "    )\n",
    ")"
   ]
  },
  {
   "cell_type": "markdown",
   "metadata": {},
   "source": [
    "Kako se Newton-Raphsonov postupak ponaša na ovim funkcijama?"
   ]
  },
  {
   "cell_type": "markdown",
   "metadata": {},
   "source": [
    "**Odgovor**: Vidimo da oba algoritma pronalaze minimume. U slučaju **Newton-Raphsonovog postupka** nalaze se nešto precizniji minimumi (vjerojatno radi malo drukčkije formulacije kriterija zaustavljanja), ali je veća razlika znatno manji broj poziva funkcija, gradijenata i Hesseove matrice."
   ]
  },
  {
   "cell_type": "markdown",
   "metadata": {},
   "source": [
    "### Zadatak 3"
   ]
  },
  {
   "cell_type": "markdown",
   "metadata": {},
   "source": [
    "Primijenite postupak po Boxu na funkcije 1 i 2 uz implicitna ograničenja: "
   ]
  },
  {
   "cell_type": "markdown",
   "metadata": {},
   "source": [
    "$$\n",
    "\\begin{equation}\n",
    "x_1 - x_0 \\geq 0 \\\\\n",
    "2 - x_0 \\geq 0 \\\\\n",
    "\\end{equation}\n",
    "$$"
   ]
  },
  {
   "cell_type": "markdown",
   "metadata": {},
   "source": [
    "i eksplicitna ograničenja prema kojima su sve varijable u intervalu $\\left[ -100, 100 \\right]$."
   ]
  },
  {
   "cell_type": "code",
   "execution_count": 28,
   "metadata": {},
   "outputs": [],
   "source": [
    "t3_f1 = f1.get_new()\n",
    "t3_f2 = f2.get_new()\n",
    "\n",
    "t3_f1_start = copy.deepcopy(f1_start)\n",
    "t3_f2_start = copy.deepcopy(f2_start)\n",
    "\n",
    "t3_value_range = (-100, 100)\n",
    "t3_constraints = [\n",
    "    Constraint(lambda x: x[1] - x[0] >= 0),\n",
    "    Constraint(lambda x: 2 - x[0] >= 0),\n",
    "]"
   ]
  },
  {
   "cell_type": "markdown",
   "metadata": {},
   "source": [
    "#### Funkcija 1"
   ]
  },
  {
   "cell_type": "code",
   "execution_count": 29,
   "metadata": {},
   "outputs": [],
   "source": [
    "t3_f1_result = box_search(\n",
    "    function=t3_f1,\n",
    "    start=t3_f1_start,\n",
    "    value_range=t3_value_range,\n",
    "    constraints=t3_constraints\n",
    ")\n",
    "t3_f1_value = t3_f1(t3_f1_result, dont_count=True)"
   ]
  },
  {
   "cell_type": "code",
   "execution_count": 30,
   "metadata": {},
   "outputs": [
    {
     "data": {
      "text/markdown": [
       "**Postupak po Boxu** pronašao je minimum u točki $\\begin{bmatrix}\n",
       "  0.0102172 &  0.0102182\n",
       "\\end{bmatrix}$ vrijednosti $0.989899$ (uz $1066$ poziva funkcije)."
      ],
      "text/plain": [
       "<IPython.core.display.Markdown object>"
      ]
     },
     "metadata": {},
     "output_type": "display_data"
    }
   ],
   "source": [
    "display(\n",
    "    Markdown(\n",
    "        \"**Postupak po Boxu** pronašao je minimum \"\n",
    "        f\"u točki ${array_to_latex(t3_f1_result)}$ \"\n",
    "        f\"vrijednosti ${t3_f1_value:g}$ \"\n",
    "        f\"(uz ${t3_f1.call_count}$ poziva funkcije).\"\n",
    "    )\n",
    ")"
   ]
  },
  {
   "cell_type": "markdown",
   "metadata": {},
   "source": [
    "#### Funkcija 2"
   ]
  },
  {
   "cell_type": "code",
   "execution_count": 31,
   "metadata": {},
   "outputs": [],
   "source": [
    "t3_f2_result = box_search(\n",
    "    function=t3_f2,\n",
    "    start=t3_f2_start,\n",
    "    value_range=t3_value_range,\n",
    "    constraints=t3_constraints\n",
    ")\n",
    "t3_f2_value = t3_f2(t3_f2_result, dont_count=True)"
   ]
  },
  {
   "cell_type": "code",
   "execution_count": 32,
   "metadata": {},
   "outputs": [
    {
     "data": {
      "text/markdown": [
       "**Postupak po Boxu** pronašao je minimum u točki $\\begin{bmatrix}\n",
       "  2  &  2.00044\n",
       "\\end{bmatrix}$ vrijednosti $4$ (uz $203$ poziva funkcije)."
      ],
      "text/plain": [
       "<IPython.core.display.Markdown object>"
      ]
     },
     "metadata": {},
     "output_type": "display_data"
    }
   ],
   "source": [
    "display(\n",
    "    Markdown(\n",
    "        \"**Postupak po Boxu** pronašao je minimum \"\n",
    "        f\"u točki ${array_to_latex(t3_f2_result)}$ \"\n",
    "        f\"vrijednosti ${t3_f2_value:g}$ \"\n",
    "        f\"(uz ${t3_f2.call_count}$ poziva funkcije).\"\n",
    "    )\n",
    ")"
   ]
  },
  {
   "cell_type": "markdown",
   "metadata": {},
   "source": [
    "Mijenja li se položaj optimuma uz nametnuta ograničenja?"
   ]
  },
  {
   "cell_type": "markdown",
   "metadata": {},
   "source": [
    "**Odgovor**: Kod funkcije 1 ne jer"
   ]
  },
  {
   "cell_type": "markdown",
   "metadata": {},
   "source": [
    "$$\n",
    "\\begin{equation}\n",
    "x_{min} = \\begin{bmatrix}1 & 1\\end{bmatrix} \\\\\\\\\n",
    "%\n",
    "(1 - 1 = 0) \\geq 0 \\\\\n",
    "(2 - 1 = 1) \\geq 0 \\\\\n",
    "\\left( x_0 = 1 \\right) \\in \\left[-100, 100\\right] \\\\\n",
    "\\left( x_1 = 1 \\right) \\in \\left[-100, 100\\right]\n",
    "\\end{equation}\n",
    "$$"
   ]
  },
  {
   "cell_type": "markdown",
   "metadata": {},
   "source": [
    "Kod funkcije 2 se ipak mijenja optimum jer"
   ]
  },
  {
   "cell_type": "markdown",
   "metadata": {},
   "source": [
    "$$\n",
    "\\begin{equation}\n",
    "x_{min} = \\begin{bmatrix}4 & 2\\end{bmatrix} \\\\\\\\\n",
    "%\n",
    "(2 - 4 = -2) \\not\\geq 0 \\\\\n",
    "(2 - 4 = -2) \\not\\geq 0 \\\\\n",
    "\\left( x_0 = 4 \\right) \\in \\left[-100, 100\\right] \\\\\n",
    "\\left( x_1 = 2 \\right) \\in \\left[-100, 100\\right]\n",
    "\\end{equation}\n",
    "$$"
   ]
  },
  {
   "cell_type": "markdown",
   "metadata": {},
   "source": [
    "Međutim, čak i za funkciju 1 ćemo imati problema ovisno o inicijalno odabranim točkama. Ponekad će minimum koji pronađemo biti $\\begin{bmatrix}0.01 & 0.01\\end{bmatrix}$, a ponekad $\\begin{bmatrix}1 & 1\\end{bmatrix}$ (pravi minimum)."
   ]
  },
  {
   "cell_type": "markdown",
   "metadata": {},
   "source": [
    "### Zadatak 4"
   ]
  },
  {
   "cell_type": "markdown",
   "metadata": {},
   "source": [
    "Primijenite postupak transformacije u problem bez ograničenja na funkcije 1 i 2 s ograničenjima iz prethodnog zadatka (zanemarite eksplicitna ograničenja)."
   ]
  },
  {
   "cell_type": "code",
   "execution_count": 33,
   "metadata": {},
   "outputs": [],
   "source": [
    "t4_epsilon = 1e-6\n",
    "\n",
    "t4_eq_constraints = []\n",
    "t4_geq_constraints = [\n",
    "    lambda x: x[1] - x[0],\n",
    "    lambda x: 2 - x[0]\n",
    "]\n",
    "t4_constraint_function = constraints_to_function(\n",
    "    eq_constraints=t4_eq_constraints,\n",
    "    geq_constraints=t4_geq_constraints\n",
    ")\n",
    "\n",
    "t4_f1 = f1.get_new()\n",
    "t4_f2 = f2.get_new()\n",
    "\n",
    "t4_f1_start = copy.deepcopy(f1_start)\n",
    "t4_f2_start = copy.deepcopy(f2_start)"
   ]
  },
  {
   "cell_type": "markdown",
   "metadata": {},
   "source": [
    "Novodobiveni problem optimizacije bez ograničenja minimizirajte koristeći postupak Hooke-Jeeves ili postupak simpleksa po Nelderu i Meadu."
   ]
  },
  {
   "cell_type": "markdown",
   "metadata": {},
   "source": [
    "#### Funkcija 1"
   ]
  },
  {
   "cell_type": "code",
   "execution_count": 34,
   "metadata": {},
   "outputs": [],
   "source": [
    "t4_f1_r = 1.\n",
    "\n",
    "t4_f1_start_nms = copy.deepcopy(t4_f1_start)\n",
    "t4_f1_last_point = copy.deepcopy(t4_f1_start_nms)\n",
    "t4_f1_best_value = None\n",
    "t4_f1_iterations_without_improvement = 0\n",
    "\n",
    "while True:\n",
    "    _t4_f1 = Function(\n",
    "        lambda x: t4_f1(x) + t4_constraint_function(x, t4_f1_r)\n",
    "    )\n",
    "    \n",
    "    t4_f1_start_nms = nelder_mead_simplex_search(\n",
    "        function=_t4_f1,\n",
    "        start=t4_f1_start_nms,\n",
    "    )\n",
    "    t4_f1_value = _t4_f1(t4_f1_start_nms)\n",
    "    \n",
    "    if t4_f1_best_value is None or t4_f1_value < t4_f1_best_value:\n",
    "        t4_f1_best_value = t4_f1_value\n",
    "        t4_f1_iterations_without_improvement = 0\n",
    "    else:\n",
    "        t4_f1_iterations_without_improvement += 1\n",
    "    \n",
    "    if (\n",
    "        np.linalg.norm(t4_f1_last_point - t4_f1_start_nms) < t4_epsilon\n",
    "        or t4_f1_iterations_without_improvement > 10\n",
    "    ):\n",
    "        break\n",
    "\n",
    "    t4_f1_last_point = copy.deepcopy(t4_f1_start_nms)\n",
    "        \n",
    "    # Isto kao i t *= 10\n",
    "    t4_f1_r /= 10\n",
    "\n",
    "t4_f1_result_nms = copy.deepcopy(t4_f1_start_nms)\n",
    "t4_f1_value_nms = t4_f1(t4_f1_result_nms, dont_count=True)"
   ]
  },
  {
   "cell_type": "code",
   "execution_count": 35,
   "metadata": {},
   "outputs": [
    {
     "data": {
      "text/markdown": [
       "**Nelder Mead simpleks** pronašao je minimum u točki $\\begin{bmatrix}\n",
       "  0.0101644 &  0.0101649\n",
       "\\end{bmatrix}$ vrijednosti $0.989898$ (uz $1175$ poziva funkcije)."
      ],
      "text/plain": [
       "<IPython.core.display.Markdown object>"
      ]
     },
     "metadata": {},
     "output_type": "display_data"
    }
   ],
   "source": [
    "display(\n",
    "    Markdown(\n",
    "        \"**Nelder Mead simpleks** pronašao je minimum \"\n",
    "        f\"u točki ${array_to_latex(t4_f1_result_nms)}$ \"\n",
    "        f\"vrijednosti ${t4_f1_value_nms:g}$ \"\n",
    "        f\"(uz ${t4_f1.call_count}$ poziva funkcije).\"\n",
    "    )\n",
    ")"
   ]
  },
  {
   "cell_type": "markdown",
   "metadata": {},
   "source": [
    "#### Funkcija 2"
   ]
  },
  {
   "cell_type": "code",
   "execution_count": 36,
   "metadata": {},
   "outputs": [],
   "source": [
    "t4_f2_r = 1.\n",
    "\n",
    "t4_f2_start_nms = copy.deepcopy(t4_f2_start)\n",
    "t4_f2_last_point = copy.deepcopy(t4_f2_start_nms)\n",
    "t4_f2_best_value = None\n",
    "t4_f2_iterations_without_improvement = 0\n",
    "\n",
    "while True:\n",
    "    _t4_f2 = Function(\n",
    "        lambda x: t4_f2(x) + t4_constraint_function(x, t4_f2_r)\n",
    "    )\n",
    "    \n",
    "    t4_f2_start_nms = nelder_mead_simplex_search(\n",
    "        function=_t4_f2,\n",
    "        start=t4_f2_start_nms\n",
    "    )\n",
    "    t4_f2_value = _t4_f2(t4_f2_start_nms)\n",
    "    \n",
    "    if t4_f2_best_value is None or t4_f2_value < t4_f2_best_value:\n",
    "        t4_f2_best_value = t4_f2_value\n",
    "        t4_f2_iterations_without_improvement = 0\n",
    "    else:\n",
    "        t4_f2_iterations_without_improvement += 1\n",
    "    \n",
    "    if (\n",
    "        np.linalg.norm(t4_f2_last_point - t4_f2_start_nms) < t4_epsilon\n",
    "        or t4_f2_iterations_without_improvement > 10\n",
    "    ):\n",
    "        break\n",
    "\n",
    "    t4_f2_last_point = copy.deepcopy(t4_f2_start_nms)\n",
    "        \n",
    "    # Isto kao i t *= 10\n",
    "    t4_f2_r /= 10\n",
    "\n",
    "t4_f2_result_nms = copy.deepcopy(t4_f2_start_nms)\n",
    "t4_f2_value_nms = t4_f2(t4_f2_result_nms, dont_count=True)"
   ]
  },
  {
   "cell_type": "code",
   "execution_count": 37,
   "metadata": {},
   "outputs": [
    {
     "data": {
      "text/markdown": [
       "**Nelder Mead simpleks** pronašao je minimum u točki $\\begin{bmatrix}\n",
       "  2  &  2.00974\n",
       "\\end{bmatrix}$ vrijednosti $4.00038$ (uz $1156$ poziva funkcije)."
      ],
      "text/plain": [
       "<IPython.core.display.Markdown object>"
      ]
     },
     "metadata": {},
     "output_type": "display_data"
    }
   ],
   "source": [
    "display(\n",
    "    Markdown(\n",
    "        \"**Nelder Mead simpleks** pronašao je minimum \"\n",
    "        f\"u točki ${array_to_latex(t4_f2_result_nms)}$ \"\n",
    "        f\"vrijednosti ${t4_f2_value_nms:g}$ \"\n",
    "        f\"(uz ${t4_f2.call_count}$ poziva funkcije).\"\n",
    "    )\n",
    ")"
   ]
  },
  {
   "cell_type": "markdown",
   "metadata": {},
   "source": [
    "Može li se uz zadanu početnu točku pronaći optimalno rješenje problema s ograničenjima?"
   ]
  },
  {
   "cell_type": "markdown",
   "metadata": {},
   "source": [
    "**Odgovor**: Za funkciju 2 da, no za funkciju 1 bi trebali mali izmijeniti početnu točku."
   ]
  },
  {
   "cell_type": "markdown",
   "metadata": {},
   "source": [
    "Ako ne, probajte odabrati početnu točku iz koje je moguće pronaći rješenje."
   ]
  },
  {
   "cell_type": "code",
   "execution_count": 38,
   "metadata": {},
   "outputs": [],
   "source": [
    "t4_f1_2 = t4_f1.get_new()\n",
    "\n",
    "t4_f1_r_2 = 1.\n",
    "\n",
    "t4_f1_start_nms_2 = np.array([1.9, 2])\n",
    "t4_f1_last_point_2 = copy.deepcopy(t4_f1_start_nms_2)\n",
    "t4_f1_best_value_2 = None\n",
    "t4_f1_iterations_without_improvement_2 = 0\n",
    "\n",
    "while True:\n",
    "    _t4_f1_2 = Function(\n",
    "        lambda x: t4_f1_2(x) + t4_constraint_function(x, t4_f1_r_2)\n",
    "    )\n",
    "    \n",
    "    t4_f1_start_nms_2 = nelder_mead_simplex_search(\n",
    "        function=_t4_f1_2,\n",
    "        start=t4_f1_start_nms_2,\n",
    "    )\n",
    "    t4_f1_value_2 = _t4_f1_2(t4_f1_start_nms_2)\n",
    "    \n",
    "    if t4_f1_best_value_2 is None or t4_f1_value_2 < t4_f1_best_value_2:\n",
    "        t4_f1_best_value_2 = t4_f1_value_2\n",
    "        t4_f1_iterations_without_improvement_2 = 0\n",
    "    else:\n",
    "        t4_f1_iterations_without_improvement_2 += 1\n",
    "    \n",
    "    if (\n",
    "        np.linalg.norm(t4_f1_last_point_2 - t4_f1_start_nms_2) < t4_epsilon\n",
    "        or t4_f1_iterations_without_improvement_2 > 10\n",
    "    ):\n",
    "        break\n",
    "\n",
    "    t4_f1_last_point_2 = copy.deepcopy(t4_f1_start_nms_2)\n",
    "        \n",
    "    # Isto kao i t *= 10\n",
    "    t4_f1_r_2 /= 10\n",
    "\n",
    "t4_f1_result_nms_2 = copy.deepcopy(t4_f1_start_nms_2)\n",
    "t4_f1_value_nms_2 = t4_f1_2(t4_f1_result_nms_2, dont_count=True)"
   ]
  },
  {
   "cell_type": "code",
   "execution_count": 39,
   "metadata": {},
   "outputs": [
    {
     "data": {
      "text/markdown": [
       "**Nelder Mead simpleks** pronašao je minimum u točki $\\begin{bmatrix}\n",
       "  1.00072 &  1.0015\n",
       "\\end{bmatrix}$ vrijednosti $7.46346e-07$ (uz $3955$ poziva funkcije)."
      ],
      "text/plain": [
       "<IPython.core.display.Markdown object>"
      ]
     },
     "metadata": {},
     "output_type": "display_data"
    }
   ],
   "source": [
    "display(\n",
    "    Markdown(\n",
    "        \"**Nelder Mead simpleks** pronašao je minimum \"\n",
    "        f\"u točki ${array_to_latex(t4_f1_result_nms_2)}$ \"\n",
    "        f\"vrijednosti ${t4_f1_value_nms_2:g}$ \"\n",
    "        f\"(uz ${t4_f1_2.call_count}$ poziva funkcije).\"\n",
    "    )\n",
    ")"
   ]
  },
  {
   "cell_type": "markdown",
   "metadata": {},
   "source": [
    "### Zadatak 5"
   ]
  },
  {
   "cell_type": "markdown",
   "metadata": {},
   "source": [
    "Za funkciju 4 s ograničenjima"
   ]
  },
  {
   "cell_type": "markdown",
   "metadata": {},
   "source": [
    "$$\n",
    "\\begin{equation}\n",
    "    3 - x_0 - x_1 \\geq 0 \\\\\n",
    "    3 + 1.5x_0 - x_1 \\geq 0 \\\\\n",
    "    x_1 - 1 = 0\n",
    "\\end{equation}\n",
    "$$"
   ]
  },
  {
   "cell_type": "markdown",
   "metadata": {},
   "source": [
    "probajte pronaći minimum koristeći postupak transformacije u problem bez ograničenja (također koristite Hooke-Jeeves ili postupak simpleksa po Nelderu i Meadu za minimizaciju). Probajte kao početnu točku postaviti neku točku koja ne zadovoljava ograničenja nejednakosti (primjerice točku (5,5)) te pomoću postupka pronalaženja unutarnje točke odredite drugu točku koja zadovoljava ograničenja nejednakosti te ju iskoristite kao početnu točku za postupak minimizacije."
   ]
  },
  {
   "cell_type": "code",
   "execution_count": 40,
   "metadata": {},
   "outputs": [],
   "source": [
    "t5_epsilon = 1e-6\n",
    "\n",
    "t5_eq_constraints = [\n",
    "    lambda x: x[1] - 1\n",
    "]\n",
    "t5_geq_constraints = [\n",
    "    lambda x: 3 - x[0] - x[1],\n",
    "    lambda x: 3 + 1.5 * x[0] - x[1]\n",
    "]\n",
    "t5_constraint_function = constraints_to_function(\n",
    "    eq_constraints=t5_eq_constraints,\n",
    "    geq_constraints=t5_geq_constraints\n",
    ")\n",
    "\n",
    "t5_f4_1 = f4.get_new()\n",
    "t5_f4_2 = f4.get_new()\n",
    "\n",
    "t5_start_1 = np.array([5, 5])\n",
    "t5_start_2 = find_inner_point(t5_start_1, geq_constraints=t5_geq_constraints)"
   ]
  },
  {
   "cell_type": "markdown",
   "metadata": {},
   "source": [
    "##### Točka koja ne zadovoljava ograničenja"
   ]
  },
  {
   "cell_type": "code",
   "execution_count": 41,
   "metadata": {},
   "outputs": [],
   "source": [
    "t5_r_1 = 1.\n",
    "\n",
    "t5_current_point_1 = copy.deepcopy(t5_start_1)\n",
    "t5_last_point_1 = copy.deepcopy(t5_current_point_1)\n",
    "t5_best_value_1 = None\n",
    "t5_iterations_without_improvement_1 = 0\n",
    "\n",
    "while True:\n",
    "    _t5_f4_1 = Function(\n",
    "        lambda x: t5_f4_1(x) + t5_constraint_function(x, t5_r_1)\n",
    "    )\n",
    "    t5_current_point_1 = hooke_jeeves_search(\n",
    "        function=_t5_f4_1,\n",
    "        start=t5_current_point_1,\n",
    "        max_iterations=10\n",
    "    )\n",
    "    t5_value_1 = _t5_f4_1(t5_current_point_1)\n",
    "    \n",
    "    if t5_best_value_1 is None or t5_value_1 < t5_best_value_1:\n",
    "        t5_best_value_1 = t5_value_1\n",
    "        t5_iterations_without_improvement_1 = 0\n",
    "    else:\n",
    "        t5_iterations_without_improvement_1 += 1\n",
    "    \n",
    "    if (\n",
    "        np.linalg.norm(t5_last_point_1 - t5_current_point_1) < t5_epsilon\n",
    "        or t5_iterations_without_improvement_1 > 10\n",
    "    ):\n",
    "        break\n",
    "\n",
    "    t5_last_point_1 = copy.deepcopy(t5_current_point_1)\n",
    "        \n",
    "    # Isto kao i t *= 10\n",
    "    t5_r_1 /= 10\n",
    "\n",
    "t5_result_1 = copy.deepcopy(t5_current_point_1)\n",
    "t5_value_1 = t5_f4_1(t5_result_1, dont_count=True)"
   ]
  },
  {
   "cell_type": "code",
   "execution_count": 42,
   "metadata": {},
   "outputs": [
    {
     "data": {
      "text/markdown": [
       "**Hooke-Jeeves postupak** pronašao je minimum u točki $\\begin{bmatrix}\n",
       "  5  &  5 \n",
       "\\end{bmatrix}$ vrijednosti $29$ (uz $61$ poziva funkcije)."
      ],
      "text/plain": [
       "<IPython.core.display.Markdown object>"
      ]
     },
     "metadata": {},
     "output_type": "display_data"
    }
   ],
   "source": [
    "display(\n",
    "    Markdown(\n",
    "        \"**Hooke-Jeeves postupak** pronašao je minimum \"\n",
    "        f\"u točki ${array_to_latex(t5_result_1)}$ \"\n",
    "        f\"vrijednosti ${t5_value_1:g}$ \"\n",
    "        f\"(uz ${t5_f4_1.call_count}$ poziva funkcije).\"\n",
    "    )\n",
    ")"
   ]
  },
  {
   "cell_type": "markdown",
   "metadata": {},
   "source": [
    "##### Točka koja zadovoljava ograničenja"
   ]
  },
  {
   "cell_type": "code",
   "execution_count": 43,
   "metadata": {},
   "outputs": [
    {
     "data": {
      "text/markdown": [
       "Novodobivena točka koja zadovoljava uvjete je $\\begin{bmatrix}\n",
       " -0.000191118 &  2.99937\n",
       "\\end{bmatrix}$."
      ],
      "text/plain": [
       "<IPython.core.display.Markdown object>"
      ]
     },
     "metadata": {},
     "output_type": "display_data"
    }
   ],
   "source": [
    "display(\n",
    "    Markdown(\n",
    "        \"Novodobivena točka koja zadovoljava uvjete je \"\n",
    "        f\"${array_to_latex(t5_start_2)}$.\"\n",
    "    )\n",
    ")"
   ]
  },
  {
   "cell_type": "code",
   "execution_count": 44,
   "metadata": {},
   "outputs": [],
   "source": [
    "t5_r_2 = 1.\n",
    "\n",
    "t5_current_point_2 = copy.deepcopy(t5_start_2)\n",
    "t5_last_point_2 = copy.deepcopy(t5_current_point_2)\n",
    "t5_best_value_2 = None\n",
    "t5_iterations_without_improvement_2 = 0\n",
    "\n",
    "while True:\n",
    "    _t5_f4_2 = Function(\n",
    "        lambda x: t5_f4_2(x) + t5_constraint_function(x, t5_r_1)\n",
    "    )\n",
    "    t5_current_point_2 = hooke_jeeves_search(\n",
    "        function=_t5_f4_2,\n",
    "        start=t5_current_point_2,\n",
    "    )\n",
    "    t5_value_2 = _t5_f4_2(t5_current_point_2)\n",
    "    \n",
    "    if t5_best_value_2 is None or t5_value_2 < t5_best_value_2:\n",
    "        t5_best_value_2 = t5_value_2\n",
    "        t5_iterations_without_improvement_2 = 0\n",
    "    else:\n",
    "        t5_iterations_without_improvement_2 += 1\n",
    "    \n",
    "    if (\n",
    "        np.linalg.norm(t5_last_point_2 - t5_current_point_2) < t5_epsilon\n",
    "        or t5_iterations_without_improvement_2 > 100\n",
    "    ):\n",
    "        break\n",
    "\n",
    "    t5_last_point_2 = copy.deepcopy(t5_current_point_2)\n",
    "        \n",
    "    # Isto kao i t *= 10\n",
    "    t5_r_2 /= 10\n",
    "\n",
    "t5_result_2 = copy.deepcopy(t5_current_point_2)\n",
    "t5_value_2 = t5_f4_2(t5_result_2, dont_count=True)"
   ]
  },
  {
   "cell_type": "code",
   "execution_count": 45,
   "metadata": {},
   "outputs": [
    {
     "data": {
      "text/markdown": [
       "**Hooke-Jeeves postupak** pronašao je minimum u točki $\\begin{bmatrix}\n",
       "  2.59204 & -0.575437\n",
       "\\end{bmatrix}$ vrijednosti $0.497556$ (uz $455$ poziva funkcije)."
      ],
      "text/plain": [
       "<IPython.core.display.Markdown object>"
      ]
     },
     "metadata": {},
     "output_type": "display_data"
    }
   ],
   "source": [
    "display(\n",
    "    Markdown(\n",
    "        \"**Hooke-Jeeves postupak** pronašao je minimum \"\n",
    "        f\"u točki ${array_to_latex(t5_result_2)}$ \"\n",
    "        f\"vrijednosti ${t5_value_2:g}$ \"\n",
    "        f\"(uz ${t5_f4_2.call_count}$ poziva funkcije).\"\n",
    "    )\n",
    ")"
   ]
  },
  {
   "cell_type": "markdown",
   "metadata": {},
   "source": [
    "**Komentar**: Vidimo da bez sređivanja ograničenja algoritam ni približno ne konvergira, tj. ne može se ni pomaknuti iz početne točke. Kada uredimo početnu točku u neku koja poštuje ograničenja, dođemo puno bliže minimuma."
   ]
  }
 ],
 "metadata": {
  "kernelspec": {
   "display_name": "aipr_dz03",
   "language": "python",
   "name": "aipr_dz03"
  },
  "language_info": {
   "codemirror_mode": {
    "name": "ipython",
    "version": 3
   },
   "file_extension": ".py",
   "mimetype": "text/x-python",
   "name": "python",
   "nbconvert_exporter": "python",
   "pygments_lexer": "ipython3",
   "version": "3.8.5"
  }
 },
 "nbformat": 4,
 "nbformat_minor": 4
}
