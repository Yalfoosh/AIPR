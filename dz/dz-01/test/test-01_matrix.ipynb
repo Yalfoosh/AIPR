{
 "cells": [
  {
   "cell_type": "markdown",
   "metadata": {},
   "source": [
    "# Analiza i projektiranje računalom: 1. laboratorijska vježba"
   ]
  },
  {
   "cell_type": "markdown",
   "metadata": {},
   "source": [
    "## Test klase Matrix"
   ]
  },
  {
   "cell_type": "markdown",
   "metadata": {},
   "source": [
    "### Priprema"
   ]
  },
  {
   "cell_type": "code",
   "execution_count": 1,
   "metadata": {},
   "outputs": [],
   "source": [
    "import os\n",
    "\n",
    "CD_KEY = \"--MATRIX_TEST_IN_ROOT\""
   ]
  },
  {
   "cell_type": "code",
   "execution_count": 2,
   "metadata": {},
   "outputs": [
    {
     "name": "stdout",
     "output_type": "stream",
     "text": [
      "/mnt/data/projekti/faks/AIPR/dz/dz-01\n"
     ]
    }
   ],
   "source": [
    "if (\n",
    "    CD_KEY not in os.environ\n",
    "    or os.environ[CD_KEY] is None\n",
    "    or len(os.environ[CD_KEY]) == 0\n",
    "    or os.environ[CD_KEY] == \"false\"\n",
    "):\n",
    "    %cd ..\n",
    "else:\n",
    "    print(os.getcwd())\n",
    "    \n",
    "os.environ[CD_KEY] = \"true\""
   ]
  },
  {
   "cell_type": "markdown",
   "metadata": {},
   "source": [
    "### Učitavanje paketa"
   ]
  },
  {
   "cell_type": "code",
   "execution_count": 3,
   "metadata": {},
   "outputs": [],
   "source": [
    "from math import log10\n",
    "from textwrap import dedent\n",
    "\n",
    "import numpy as np\n",
    "\n",
    "from src.matrices.matrix import Matrix\n",
    "from src.matrices.exceptions import MatrixIsSingular, NotSolvable"
   ]
  },
  {
   "cell_type": "markdown",
   "metadata": {},
   "source": [
    "### Provjere pristupa"
   ]
  },
  {
   "cell_type": "code",
   "execution_count": 4,
   "metadata": {},
   "outputs": [],
   "source": [
    "SHAPE = (5, 5)\n",
    "DTYPE = float\n",
    "FILL_VALUE = 17.29"
   ]
  },
  {
   "cell_type": "code",
   "execution_count": 5,
   "metadata": {},
   "outputs": [
    {
     "name": "stdout",
     "output_type": "stream",
     "text": [
      "[\n",
      "  [17.290 17.290 17.290 17.290 17.290]\n",
      "  [17.290 17.290 17.290 17.290 17.290]\n",
      "  [17.290 17.290 17.290 17.290 17.290]\n",
      "  [17.290 17.290 17.290 17.290 17.290]\n",
      "  [17.290 17.290 17.290 17.290 17.290]\n",
      "]\n"
     ]
    }
   ],
   "source": [
    "our_matrix = Matrix.full(5, 5, fill_value=FILL_VALUE, dtype=DTYPE)\n",
    "print(our_matrix)"
   ]
  },
  {
   "cell_type": "markdown",
   "metadata": {},
   "source": [
    "#### Provjera manipulacije elemenata"
   ]
  },
  {
   "cell_type": "code",
   "execution_count": 6,
   "metadata": {},
   "outputs": [
    {
     "name": "stdout",
     "output_type": "stream",
     "text": [
      "Oblik: (5, 5)\n",
      "Matrica: [\n",
      "  [ 17.290  17.290  17.290  17.290  17.290]\n",
      "  [ 17.290  17.290  17.290 941.000  17.290]\n",
      "  [ 17.290  17.290  17.290  17.290  17.290]\n",
      "  [ 17.290  17.290  17.290  17.290  17.290]\n",
      "  [ 17.290  17.290  17.290  17.290  17.290]\n",
      "]\n"
     ]
    }
   ],
   "source": [
    "our_matrix[1][3] = 941\n",
    "\n",
    "print(f\"Oblik: {our_matrix.shape}\")\n",
    "print(f\"Matrica: {our_matrix}\")"
   ]
  },
  {
   "cell_type": "code",
   "execution_count": 7,
   "metadata": {},
   "outputs": [
    {
     "name": "stdout",
     "output_type": "stream",
     "text": [
      "Matrica pretvorena u cijele brojeve: [\n",
      "  [ 17  17  17  17  17]\n",
      "  [ 17  17  17 941  17]\n",
      "  [ 17  17  17  17  17]\n",
      "  [ 17  17  17  17  17]\n",
      "  [ 17  17  17  17  17]\n",
      "]\n"
     ]
    }
   ],
   "source": [
    "our_matrix.int()\n",
    "print(f\"Matrica pretvorena u cijele brojeve: {our_matrix}\")"
   ]
  },
  {
   "cell_type": "code",
   "execution_count": 8,
   "metadata": {},
   "outputs": [
    {
     "name": "stdout",
     "output_type": "stream",
     "text": [
      "Matrica pretvorena natrag u float: [\n",
      "  [ 17.000  17.000  17.000  17.000  17.000]\n",
      "  [ 17.000  17.000  17.000 941.000  17.000]\n",
      "  [ 17.000  17.000  17.000  17.000  17.000]\n",
      "  [ 17.000  17.000  17.000  17.000  17.000]\n",
      "  [ 17.000  17.000  17.000  17.000  17.000]\n",
      "]\n"
     ]
    }
   ],
   "source": [
    "our_matrix.float()\n",
    "print(f\"Matrica pretvorena natrag u float: {our_matrix}\")"
   ]
  },
  {
   "cell_type": "code",
   "execution_count": 9,
   "metadata": {},
   "outputs": [
    {
     "name": "stdout",
     "output_type": "stream",
     "text": [
      "Matrica nula: [\n",
      "  [0.000 0.000 0.000]\n",
      "  [0.000 0.000 0.000]\n",
      "  [0.000 0.000 0.000]\n",
      "]\n"
     ]
    }
   ],
   "source": [
    "print(f\"Matrica nula: {Matrix.zeros(3, 3)}\")"
   ]
  },
  {
   "cell_type": "code",
   "execution_count": 10,
   "metadata": {},
   "outputs": [
    {
     "name": "stdout",
     "output_type": "stream",
     "text": [
      "Jedinična matrica: [\n",
      "  [1 0 0 0 0 0]\n",
      "  [0 1 0 0 0 0]\n",
      "  [0 0 1 0 0 0]\n",
      "  [0 0 0 1 0 0]\n",
      "  [0 0 0 0 1 0]\n",
      "]\n"
     ]
    }
   ],
   "source": [
    "print(f\"Jedinična matrica: {Matrix.eye(5, 6, int)}\")"
   ]
  },
  {
   "cell_type": "markdown",
   "metadata": {},
   "source": [
    "#### Provjera podmatrica"
   ]
  },
  {
   "cell_type": "code",
   "execution_count": 11,
   "metadata": {},
   "outputs": [],
   "source": [
    "MATRIX_TO_USE = [\n",
    "    [1, 2, 3],\n",
    "    [4, 5, 6],\n",
    "    [7, 8, 9]\n",
    "]\n",
    "\n",
    "numpy_matrix_2 = np.array(MATRIX_TO_USE, dtype=float)\n",
    "our_matrix_2 = Matrix.from_array(MATRIX_TO_USE)"
   ]
  },
  {
   "cell_type": "code",
   "execution_count": 12,
   "metadata": {},
   "outputs": [
    {
     "name": "stdout",
     "output_type": "stream",
     "text": [
      "[[1 5 9]]\n"
     ]
    }
   ],
   "source": [
    "print(our_matrix_2.diagonal)"
   ]
  },
  {
   "cell_type": "code",
   "execution_count": 13,
   "metadata": {},
   "outputs": [
    {
     "name": "stdout",
     "output_type": "stream",
     "text": [
      "[[3 5 7]]\n"
     ]
    }
   ],
   "source": [
    "print(our_matrix_2.reverse_diagonal)"
   ]
  },
  {
   "cell_type": "code",
   "execution_count": 14,
   "metadata": {},
   "outputs": [
    {
     "name": "stdout",
     "output_type": "stream",
     "text": [
      "[[4 5 6]]\n"
     ]
    }
   ],
   "source": [
    "print(our_matrix_2.row(1))"
   ]
  },
  {
   "cell_type": "code",
   "execution_count": 15,
   "metadata": {},
   "outputs": [
    {
     "name": "stdout",
     "output_type": "stream",
     "text": [
      "[\n",
      "  [2]\n",
      "  [5]\n",
      "  [8]\n",
      "]\n"
     ]
    }
   ],
   "source": [
    "print(our_matrix_2.column(1))"
   ]
  },
  {
   "cell_type": "markdown",
   "metadata": {},
   "source": [
    "<br><br>\n",
    "\n",
    "---"
   ]
  },
  {
   "cell_type": "markdown",
   "metadata": {},
   "source": [
    "### Provjera aritmetike"
   ]
  },
  {
   "cell_type": "markdown",
   "metadata": {},
   "source": [
    "#### Zbrajanje"
   ]
  },
  {
   "cell_type": "code",
   "execution_count": 16,
   "metadata": {},
   "outputs": [],
   "source": [
    "base_arithmetic_matrix = Matrix.from_array(\n",
    "    [\n",
    "        [1, 2, 3],\n",
    "        [4, 5, 6],\n",
    "        [7, 8, 9]\n",
    "    ]\n",
    ")"
   ]
  },
  {
   "cell_type": "code",
   "execution_count": 17,
   "metadata": {},
   "outputs": [
    {
     "name": "stdout",
     "output_type": "stream",
     "text": [
      "[\n",
      "  [ 2  3  4]\n",
      "  [ 5  6  7]\n",
      "  [ 8  9 10]\n",
      "]\n"
     ]
    }
   ],
   "source": [
    "print(base_arithmetic_matrix + 1)"
   ]
  },
  {
   "cell_type": "code",
   "execution_count": 18,
   "metadata": {},
   "outputs": [
    {
     "name": "stdout",
     "output_type": "stream",
     "text": [
      "[\n",
      "  [ 4.140  5.140  6.140]\n",
      "  [ 7.140  8.140  9.140]\n",
      "  [10.140 11.140 12.140]\n",
      "]\n"
     ]
    }
   ],
   "source": [
    "print(base_arithmetic_matrix + 3.14)"
   ]
  },
  {
   "cell_type": "code",
   "execution_count": 19,
   "metadata": {},
   "outputs": [
    {
     "name": "stdout",
     "output_type": "stream",
     "text": [
      "[\n",
      "  [ 2  2  3]\n",
      "  [ 4  6  6]\n",
      "  [ 7  8 10]\n",
      "]\n"
     ]
    }
   ],
   "source": [
    "print(base_arithmetic_matrix + Matrix.eye(3, 3, int))"
   ]
  },
  {
   "cell_type": "markdown",
   "metadata": {},
   "source": [
    "#### Oduzimanje"
   ]
  },
  {
   "cell_type": "code",
   "execution_count": 20,
   "metadata": {},
   "outputs": [
    {
     "name": "stdout",
     "output_type": "stream",
     "text": [
      "[\n",
      "  [0 1 2]\n",
      "  [3 4 5]\n",
      "  [6 7 8]\n",
      "]\n"
     ]
    }
   ],
   "source": [
    "print(base_arithmetic_matrix - 1)"
   ]
  },
  {
   "cell_type": "code",
   "execution_count": 21,
   "metadata": {},
   "outputs": [
    {
     "name": "stdout",
     "output_type": "stream",
     "text": [
      "[\n",
      "  [-2.140 -1.140 -0.140]\n",
      "  [ 0.860  1.860  2.860]\n",
      "  [ 3.860  4.860  5.860]\n",
      "]\n"
     ]
    }
   ],
   "source": [
    "print(base_arithmetic_matrix - 3.14)"
   ]
  },
  {
   "cell_type": "code",
   "execution_count": 22,
   "metadata": {},
   "outputs": [
    {
     "name": "stdout",
     "output_type": "stream",
     "text": [
      "[\n",
      "  [0 2 3]\n",
      "  [4 4 6]\n",
      "  [7 8 8]\n",
      "]\n"
     ]
    }
   ],
   "source": [
    "print(base_arithmetic_matrix - Matrix.eye(3, 3, int))"
   ]
  },
  {
   "cell_type": "markdown",
   "metadata": {},
   "source": [
    "#### Množenje"
   ]
  },
  {
   "cell_type": "code",
   "execution_count": 23,
   "metadata": {},
   "outputs": [
    {
     "name": "stdout",
     "output_type": "stream",
     "text": [
      "[\n",
      "  [ 3  6  9]\n",
      "  [12 15 18]\n",
      "  [21 24 27]\n",
      "]\n"
     ]
    }
   ],
   "source": [
    "print(base_arithmetic_matrix * 3)"
   ]
  },
  {
   "cell_type": "code",
   "execution_count": 24,
   "metadata": {},
   "outputs": [
    {
     "name": "stdout",
     "output_type": "stream",
     "text": [
      "[\n",
      "  [ 3.140  6.280  9.420]\n",
      "  [12.560 15.700 18.840]\n",
      "  [21.980 25.120 28.260]\n",
      "]\n"
     ]
    }
   ],
   "source": [
    "print(base_arithmetic_matrix * 3.14)"
   ]
  },
  {
   "cell_type": "code",
   "execution_count": 25,
   "metadata": {},
   "outputs": [
    {
     "name": "stdout",
     "output_type": "stream",
     "text": [
      "[\n",
      "  [1 0 0]\n",
      "  [0 5 0]\n",
      "  [0 0 9]\n",
      "]\n"
     ]
    }
   ],
   "source": [
    "print(base_arithmetic_matrix * Matrix.eye(3, 3, int))"
   ]
  },
  {
   "cell_type": "markdown",
   "metadata": {},
   "source": [
    "#### Matrično množenje"
   ]
  },
  {
   "cell_type": "code",
   "execution_count": 26,
   "metadata": {},
   "outputs": [
    {
     "name": "stdout",
     "output_type": "stream",
     "text": [
      "[\n",
      "  [ 30  36  42]\n",
      "  [ 66  81  96]\n",
      "  [102 126 150]\n",
      "]\n"
     ]
    }
   ],
   "source": [
    "print(base_arithmetic_matrix @ base_arithmetic_matrix)"
   ]
  },
  {
   "cell_type": "code",
   "execution_count": 27,
   "metadata": {},
   "outputs": [
    {
     "name": "stdout",
     "output_type": "stream",
     "text": [
      "[\n",
      "  [1 2 3]\n",
      "  [4 5 6]\n",
      "  [7 8 9]\n",
      "]\n"
     ]
    }
   ],
   "source": [
    "print(base_arithmetic_matrix @ Matrix.eye(3, 3, int))"
   ]
  },
  {
   "cell_type": "code",
   "execution_count": 28,
   "metadata": {},
   "outputs": [
    {
     "name": "stdout",
     "output_type": "stream",
     "text": [
      "[\n",
      "  [ 6]\n",
      "  [15]\n",
      "  [24]\n",
      "]\n"
     ]
    }
   ],
   "source": [
    "print(base_arithmetic_matrix @ Matrix.from_array(\n",
    "    [\n",
    "        [1],\n",
    "        [1],\n",
    "        [1]\n",
    "    ]\n",
    "))"
   ]
  },
  {
   "cell_type": "code",
   "execution_count": 29,
   "metadata": {},
   "outputs": [
    {
     "name": "stdout",
     "output_type": "stream",
     "text": [
      "20\n"
     ]
    }
   ],
   "source": [
    "row_matrix = Matrix.from_array(\n",
    "    [\n",
    "        [1, 2, 3]\n",
    "    ]\n",
    ")\n",
    "\n",
    "column_matrix = Matrix.from_array(\n",
    "    [\n",
    "        [2],\n",
    "        [3],\n",
    "        [4]\n",
    "    ]\n",
    ")\n",
    "\n",
    "print(int(row_matrix @ column_matrix))"
   ]
  },
  {
   "cell_type": "markdown",
   "metadata": {},
   "source": [
    "#### Dijeljenje"
   ]
  },
  {
   "cell_type": "code",
   "execution_count": 30,
   "metadata": {},
   "outputs": [
    {
     "name": "stdout",
     "output_type": "stream",
     "text": [
      "[\n",
      "  [0.333 0.667 1.000]\n",
      "  [1.333 1.667 2.000]\n",
      "  [2.333 2.667 3.000]\n",
      "]\n"
     ]
    }
   ],
   "source": [
    "print(base_arithmetic_matrix / 3)"
   ]
  },
  {
   "cell_type": "code",
   "execution_count": 31,
   "metadata": {},
   "outputs": [
    {
     "name": "stdout",
     "output_type": "stream",
     "text": [
      "[\n",
      "  [0.318 0.637 0.955]\n",
      "  [1.274 1.592 1.911]\n",
      "  [2.229 2.548 2.866]\n",
      "]\n"
     ]
    }
   ],
   "source": [
    "print(base_arithmetic_matrix / 3.14)"
   ]
  },
  {
   "cell_type": "code",
   "execution_count": 32,
   "metadata": {},
   "outputs": [
    {
     "name": "stdout",
     "output_type": "stream",
     "text": [
      "[\n",
      "  [1.000 1.000 1.000]\n",
      "  [1.000 1.000 1.000]\n",
      "  [1.000 1.000 1.000]\n",
      "]\n"
     ]
    }
   ],
   "source": [
    "print(base_arithmetic_matrix / base_arithmetic_matrix)"
   ]
  },
  {
   "cell_type": "markdown",
   "metadata": {},
   "source": [
    "#### Cjelobrojno dijeljenje"
   ]
  },
  {
   "cell_type": "code",
   "execution_count": 33,
   "metadata": {},
   "outputs": [
    {
     "name": "stdout",
     "output_type": "stream",
     "text": [
      "[\n",
      "  [0 0 1]\n",
      "  [1 1 2]\n",
      "  [2 2 3]\n",
      "]\n"
     ]
    }
   ],
   "source": [
    "print(base_arithmetic_matrix // 3)"
   ]
  },
  {
   "cell_type": "code",
   "execution_count": 34,
   "metadata": {},
   "outputs": [
    {
     "name": "stdout",
     "output_type": "stream",
     "text": [
      "[\n",
      "  [0 0 0]\n",
      "  [1 1 1]\n",
      "  [2 2 2]\n",
      "]\n"
     ]
    }
   ],
   "source": [
    "print(base_arithmetic_matrix // 3.14)"
   ]
  },
  {
   "cell_type": "code",
   "execution_count": 35,
   "metadata": {},
   "outputs": [
    {
     "name": "stdout",
     "output_type": "stream",
     "text": [
      "[\n",
      "  [0 1 1]\n",
      "  [2 2 3]\n",
      "  [3 4 4]\n",
      "]\n"
     ]
    }
   ],
   "source": [
    "print(base_arithmetic_matrix // Matrix.full(3, 3, 2))"
   ]
  },
  {
   "cell_type": "markdown",
   "metadata": {},
   "source": [
    "#### Transponiranje"
   ]
  },
  {
   "cell_type": "code",
   "execution_count": 36,
   "metadata": {},
   "outputs": [
    {
     "name": "stdout",
     "output_type": "stream",
     "text": [
      "[\n",
      "  [1 4 7]\n",
      "  [2 5 8]\n",
      "  [3 6 9]\n",
      "]\n"
     ]
    }
   ],
   "source": [
    "base_arithmetic_matrix.transpose()\n",
    "print(base_arithmetic_matrix)"
   ]
  },
  {
   "cell_type": "code",
   "execution_count": 37,
   "metadata": {},
   "outputs": [
    {
     "name": "stdout",
     "output_type": "stream",
     "text": [
      "[\n",
      "  [1 2 3]\n",
      "  [4 5 6]\n",
      "  [7 8 9]\n",
      "]\n",
      "[\n",
      "  [1 4 7]\n",
      "  [2 5 8]\n",
      "  [3 6 9]\n",
      "]\n"
     ]
    }
   ],
   "source": [
    "print(base_arithmetic_matrix.transposed())\n",
    "print(base_arithmetic_matrix)"
   ]
  },
  {
   "cell_type": "code",
   "execution_count": 38,
   "metadata": {},
   "outputs": [
    {
     "name": "stdout",
     "output_type": "stream",
     "text": [
      "[\n",
      "  [1 2 3]\n",
      "  [4 5 6]\n",
      "  [7 8 9]\n",
      "]\n"
     ]
    }
   ],
   "source": [
    "base_arithmetic_matrix = base_arithmetic_matrix.T\n",
    "print(base_arithmetic_matrix)"
   ]
  },
  {
   "cell_type": "markdown",
   "metadata": {},
   "source": [
    "#### Modul"
   ]
  },
  {
   "cell_type": "code",
   "execution_count": 39,
   "metadata": {},
   "outputs": [
    {
     "name": "stdout",
     "output_type": "stream",
     "text": [
      "[\n",
      "  [1 2 0]\n",
      "  [1 2 0]\n",
      "  [1 2 0]\n",
      "]\n"
     ]
    }
   ],
   "source": [
    "print(base_arithmetic_matrix % 3)"
   ]
  },
  {
   "cell_type": "code",
   "execution_count": 40,
   "metadata": {},
   "outputs": [
    {
     "name": "stdout",
     "output_type": "stream",
     "text": [
      "[\n",
      "  [1.000 2.000 3.000]\n",
      "  [0.860 1.860 2.860]\n",
      "  [0.720 1.720 2.720]\n",
      "]\n"
     ]
    }
   ],
   "source": [
    "print(base_arithmetic_matrix % 3.14)"
   ]
  },
  {
   "cell_type": "code",
   "execution_count": 41,
   "metadata": {},
   "outputs": [
    {
     "name": "stdout",
     "output_type": "stream",
     "text": [
      "[\n",
      "  [0 2 3]\n",
      "  [0 0 6]\n",
      "  [1 2 0]\n",
      "]\n"
     ]
    }
   ],
   "source": [
    "print(base_arithmetic_matrix % base_arithmetic_matrix.T)"
   ]
  },
  {
   "cell_type": "markdown",
   "metadata": {},
   "source": [
    "#### Eksponencijacija"
   ]
  },
  {
   "cell_type": "code",
   "execution_count": 42,
   "metadata": {},
   "outputs": [
    {
     "name": "stdout",
     "output_type": "stream",
     "text": [
      "[\n",
      "  [  1   8  27]\n",
      "  [ 64 125 216]\n",
      "  [343 512 729]\n",
      "]\n"
     ]
    }
   ],
   "source": [
    "print(base_arithmetic_matrix ** 3)"
   ]
  },
  {
   "cell_type": "code",
   "execution_count": 43,
   "metadata": {},
   "outputs": [
    {
     "name": "stdout",
     "output_type": "stream",
     "text": [
      "[\n",
      "  [  1.000   8.815  31.489]\n",
      "  [ 77.708 156.591 277.584]\n",
      "  [450.410 685.019 991.566]\n",
      "]\n"
     ]
    }
   ],
   "source": [
    "print(base_arithmetic_matrix ** 3.14)"
   ]
  },
  {
   "cell_type": "code",
   "execution_count": 44,
   "metadata": {},
   "outputs": [
    {
     "name": "stdout",
     "output_type": "stream",
     "text": [
      "[\n",
      "  [        1        16      2187]\n",
      "  [       16      3125   1679616]\n",
      "  [      343    262144 387420489]\n",
      "]\n"
     ]
    }
   ],
   "source": [
    "print(base_arithmetic_matrix ** base_arithmetic_matrix.T)"
   ]
  },
  {
   "cell_type": "markdown",
   "metadata": {},
   "source": [
    "#### Negacija"
   ]
  },
  {
   "cell_type": "code",
   "execution_count": 45,
   "metadata": {},
   "outputs": [
    {
     "name": "stdout",
     "output_type": "stream",
     "text": [
      "[\n",
      "  [-1 -2 -3]\n",
      "  [-4 -5 -6]\n",
      "  [-7 -8 -9]\n",
      "]\n"
     ]
    }
   ],
   "source": [
    "print(-base_arithmetic_matrix)"
   ]
  },
  {
   "cell_type": "markdown",
   "metadata": {},
   "source": [
    "#### Apsolucija"
   ]
  },
  {
   "cell_type": "code",
   "execution_count": 46,
   "metadata": {},
   "outputs": [
    {
     "name": "stdout",
     "output_type": "stream",
     "text": [
      "[\n",
      "  [ 0 -2 -4]\n",
      "  [ 2  0 -2]\n",
      "  [ 4  2  0]\n",
      "]\n",
      "[\n",
      "  [0 2 4]\n",
      "  [2 0 2]\n",
      "  [4 2 0]\n",
      "]\n"
     ]
    }
   ],
   "source": [
    "interesting_matrix = base_arithmetic_matrix - base_arithmetic_matrix.T\n",
    "\n",
    "print(interesting_matrix)\n",
    "print(abs(interesting_matrix))"
   ]
  },
  {
   "cell_type": "markdown",
   "metadata": {},
   "source": [
    "<br><br>\n",
    "\n",
    "---"
   ]
  },
  {
   "cell_type": "markdown",
   "metadata": {},
   "source": [
    "### Provjera proširene aritmetike"
   ]
  },
  {
   "cell_type": "code",
   "execution_count": 47,
   "metadata": {},
   "outputs": [],
   "source": [
    "base_extended_arithmetic_matrix = Matrix.from_array(\n",
    "    [\n",
    "        [1, 2, 3],\n",
    "        [4, 5, 6],\n",
    "        [7, 8, 9]\n",
    "    ]\n",
    ")"
   ]
  },
  {
   "cell_type": "markdown",
   "metadata": {},
   "source": [
    "#### Zbrajanje u mjestu"
   ]
  },
  {
   "cell_type": "code",
   "execution_count": 48,
   "metadata": {},
   "outputs": [
    {
     "name": "stdout",
     "output_type": "stream",
     "text": [
      "[\n",
      "  [ 2  3  4]\n",
      "  [ 5  6  7]\n",
      "  [ 8  9 10]\n",
      "]\n"
     ]
    }
   ],
   "source": [
    "base_extended_arithmetic_matrix += 1\n",
    "print(base_extended_arithmetic_matrix)"
   ]
  },
  {
   "cell_type": "code",
   "execution_count": 49,
   "metadata": {},
   "outputs": [
    {
     "name": "stdout",
     "output_type": "stream",
     "text": [
      "[\n",
      "  [ 3.100  4.100  5.100]\n",
      "  [ 6.100  7.100  8.100]\n",
      "  [ 9.100 10.100 11.100]\n",
      "]\n"
     ]
    }
   ],
   "source": [
    "base_extended_arithmetic_matrix += 1.1\n",
    "print(base_extended_arithmetic_matrix)"
   ]
  },
  {
   "cell_type": "markdown",
   "metadata": {},
   "source": [
    "#### Oduzimanje u mjestu"
   ]
  },
  {
   "cell_type": "code",
   "execution_count": 50,
   "metadata": {},
   "outputs": [
    {
     "name": "stdout",
     "output_type": "stream",
     "text": [
      "[\n",
      "  [ 2.100  3.100  4.100]\n",
      "  [ 5.100  6.100  7.100]\n",
      "  [ 8.100  9.100 10.100]\n",
      "]\n"
     ]
    }
   ],
   "source": [
    "base_extended_arithmetic_matrix -= 1\n",
    "print(base_extended_arithmetic_matrix)"
   ]
  },
  {
   "cell_type": "code",
   "execution_count": 51,
   "metadata": {},
   "outputs": [
    {
     "name": "stdout",
     "output_type": "stream",
     "text": [
      "[\n",
      "  [1.000 2.000 3.000]\n",
      "  [4.000 5.000 6.000]\n",
      "  [7.000 8.000 9.000]\n",
      "]\n"
     ]
    }
   ],
   "source": [
    "base_extended_arithmetic_matrix -= 1.1\n",
    "print(base_extended_arithmetic_matrix)"
   ]
  },
  {
   "cell_type": "code",
   "execution_count": 52,
   "metadata": {},
   "outputs": [],
   "source": [
    "base_extended_arithmetic_matrix.int();"
   ]
  },
  {
   "cell_type": "markdown",
   "metadata": {},
   "source": [
    "#### Množenje u mjestu"
   ]
  },
  {
   "cell_type": "code",
   "execution_count": 53,
   "metadata": {},
   "outputs": [
    {
     "name": "stdout",
     "output_type": "stream",
     "text": [
      "[\n",
      "  [ 2  4  6]\n",
      "  [ 8 10 12]\n",
      "  [14 16 18]\n",
      "]\n"
     ]
    }
   ],
   "source": [
    "base_extended_arithmetic_matrix *= 2\n",
    "print(base_extended_arithmetic_matrix)"
   ]
  },
  {
   "cell_type": "code",
   "execution_count": 54,
   "metadata": {},
   "outputs": [
    {
     "name": "stdout",
     "output_type": "stream",
     "text": [
      "[\n",
      "  [ 2.200  4.400  6.600]\n",
      "  [ 8.800 11.000 13.200]\n",
      "  [15.400 17.600 19.800]\n",
      "]\n"
     ]
    }
   ],
   "source": [
    "base_extended_arithmetic_matrix *= 1.1\n",
    "print(base_extended_arithmetic_matrix)"
   ]
  },
  {
   "cell_type": "markdown",
   "metadata": {},
   "source": [
    "#### Matrično množenje u mjestu"
   ]
  },
  {
   "cell_type": "code",
   "execution_count": 55,
   "metadata": {},
   "outputs": [
    {
     "name": "stdout",
     "output_type": "stream",
     "text": [
      "[\n",
      "  [145.200 174.240 203.280]\n",
      "  [319.440 392.040 464.640]\n",
      "  [493.680 609.840 726.000]\n",
      "]\n"
     ]
    }
   ],
   "source": [
    "base_extended_arithmetic_matrix @= base_extended_arithmetic_matrix\n",
    "print(base_extended_arithmetic_matrix)"
   ]
  },
  {
   "cell_type": "markdown",
   "metadata": {},
   "source": [
    "#### Dijeljenje u mjestu"
   ]
  },
  {
   "cell_type": "code",
   "execution_count": 56,
   "metadata": {},
   "outputs": [
    {
     "name": "stdout",
     "output_type": "stream",
     "text": [
      "[\n",
      "  [ 72.600  87.120 101.640]\n",
      "  [159.720 196.020 232.320]\n",
      "  [246.840 304.920 363.000]\n",
      "]\n"
     ]
    }
   ],
   "source": [
    "base_extended_arithmetic_matrix /= 2\n",
    "print(base_extended_arithmetic_matrix)"
   ]
  },
  {
   "cell_type": "code",
   "execution_count": 57,
   "metadata": {},
   "outputs": [
    {
     "name": "stdout",
     "output_type": "stream",
     "text": [
      "[\n",
      "  [ 66.000  79.200  92.400]\n",
      "  [145.200 178.200 211.200]\n",
      "  [224.400 277.200 330.000]\n",
      "]\n"
     ]
    }
   ],
   "source": [
    "base_extended_arithmetic_matrix /= 1.1\n",
    "print(base_extended_arithmetic_matrix)"
   ]
  },
  {
   "cell_type": "markdown",
   "metadata": {},
   "source": [
    "#### Cjelobrojno dijeljenje u mjestu"
   ]
  },
  {
   "cell_type": "code",
   "execution_count": 58,
   "metadata": {},
   "outputs": [
    {
     "name": "stdout",
     "output_type": "stream",
     "text": [
      "[\n",
      "  [ 33.000  39.000  46.000]\n",
      "  [ 72.000  89.000 105.000]\n",
      "  [112.000 138.000 165.000]\n",
      "]\n"
     ]
    }
   ],
   "source": [
    "base_extended_arithmetic_matrix //= 2\n",
    "print(base_extended_arithmetic_matrix)"
   ]
  },
  {
   "cell_type": "code",
   "execution_count": 59,
   "metadata": {},
   "outputs": [
    {
     "name": "stdout",
     "output_type": "stream",
     "text": [
      "[\n",
      "  [ 29.000  35.000  41.000]\n",
      "  [ 65.000  80.000  95.000]\n",
      "  [101.000 125.000 149.000]\n",
      "]\n"
     ]
    }
   ],
   "source": [
    "base_extended_arithmetic_matrix //= 1.1\n",
    "print(base_extended_arithmetic_matrix)"
   ]
  },
  {
   "cell_type": "code",
   "execution_count": 60,
   "metadata": {},
   "outputs": [
    {
     "name": "stdout",
     "output_type": "stream",
     "text": [
      "[\n",
      "  [ 30  37  44]\n",
      "  [ 66  82  98]\n",
      "  [102 127 152]\n",
      "]\n"
     ]
    }
   ],
   "source": [
    "base_extended_arithmetic_matrix += Matrix.from_array(\n",
    "    [\n",
    "        [1, 2, 3],\n",
    "        [1, 2, 3],\n",
    "        [1, 2, 3]\n",
    "    ]\n",
    ")\n",
    "base_extended_arithmetic_matrix.int()\n",
    "\n",
    "print(base_extended_arithmetic_matrix)"
   ]
  },
  {
   "cell_type": "markdown",
   "metadata": {},
   "source": [
    "#### Modul u mjestu"
   ]
  },
  {
   "cell_type": "code",
   "execution_count": 61,
   "metadata": {},
   "outputs": [
    {
     "name": "stdout",
     "output_type": "stream",
     "text": [
      "[\n",
      "  [2 1 0]\n",
      "  [2 2 2]\n",
      "  [2 3 0]\n",
      "]\n"
     ]
    }
   ],
   "source": [
    "base_extended_arithmetic_matrix %= 4\n",
    "print(base_extended_arithmetic_matrix)"
   ]
  },
  {
   "cell_type": "code",
   "execution_count": 62,
   "metadata": {},
   "outputs": [
    {
     "name": "stdout",
     "output_type": "stream",
     "text": [
      "[\n",
      "  [2.000 1.000 0.000]\n",
      "  [2.000 2.000 2.000]\n",
      "  [2.000 0.500 0.000]\n",
      "]\n"
     ]
    }
   ],
   "source": [
    "base_extended_arithmetic_matrix %= 2.5\n",
    "print(base_extended_arithmetic_matrix)"
   ]
  },
  {
   "cell_type": "markdown",
   "metadata": {},
   "source": [
    "#### Eksponencijacija u mjestu"
   ]
  },
  {
   "cell_type": "code",
   "execution_count": 63,
   "metadata": {},
   "outputs": [
    {
     "name": "stdout",
     "output_type": "stream",
     "text": [
      "[\n",
      "  [5.657 1.000 0.000]\n",
      "  [5.657 5.657 5.657]\n",
      "  [5.657 0.177 0.000]\n",
      "]\n"
     ]
    }
   ],
   "source": [
    "base_extended_arithmetic_matrix **= 2.5\n",
    "print(base_extended_arithmetic_matrix)"
   ]
  },
  {
   "cell_type": "code",
   "execution_count": 64,
   "metadata": {},
   "outputs": [
    {
     "name": "stdout",
     "output_type": "stream",
     "text": [
      "[\n",
      "  [6 1 0]\n",
      "  [6 6 6]\n",
      "  [6 0 0]\n",
      "]\n"
     ]
    }
   ],
   "source": [
    "base_extended_arithmetic_matrix.int()\n",
    "print(base_extended_arithmetic_matrix)"
   ]
  },
  {
   "cell_type": "code",
   "execution_count": 65,
   "metadata": {},
   "outputs": [
    {
     "name": "stdout",
     "output_type": "stream",
     "text": [
      "[\n",
      "  [36  1  0]\n",
      "  [36 36 36]\n",
      "  [36  0  0]\n",
      "]\n"
     ]
    }
   ],
   "source": [
    "base_extended_arithmetic_matrix **= 2\n",
    "print(base_extended_arithmetic_matrix)"
   ]
  },
  {
   "cell_type": "markdown",
   "metadata": {},
   "source": [
    "<br><br>\n",
    "\n",
    "---"
   ]
  },
  {
   "cell_type": "markdown",
   "metadata": {},
   "source": [
    "### Provjera usporedbe"
   ]
  },
  {
   "cell_type": "code",
   "execution_count": 66,
   "metadata": {},
   "outputs": [],
   "source": [
    "base_comparison_matrix = Matrix.full(3, 3, 1, int)"
   ]
  },
  {
   "cell_type": "markdown",
   "metadata": {},
   "source": [
    "#### Jednakost"
   ]
  },
  {
   "cell_type": "code",
   "execution_count": 67,
   "metadata": {},
   "outputs": [
    {
     "name": "stdout",
     "output_type": "stream",
     "text": [
      "False\n"
     ]
    }
   ],
   "source": [
    "print(base_comparison_matrix == 1)"
   ]
  },
  {
   "cell_type": "code",
   "execution_count": 68,
   "metadata": {},
   "outputs": [
    {
     "name": "stdout",
     "output_type": "stream",
     "text": [
      "False\n"
     ]
    }
   ],
   "source": [
    "print(base_comparison_matrix == 1.0)"
   ]
  },
  {
   "cell_type": "code",
   "execution_count": 69,
   "metadata": {},
   "outputs": [],
   "source": [
    "equals_matrix_1 = Matrix.full(3, 3, 1, float)\n",
    "equals_matrix_2 = Matrix.full(3, 3, 1, int)\n",
    "equals_matrix_3 = Matrix.full(3, 3, 1, float) + 1e-6\n",
    "equals_matrix_4 = Matrix.full(3, 3, 1, float) + (base_comparison_matrix.epsilon / 10)"
   ]
  },
  {
   "cell_type": "code",
   "execution_count": 70,
   "metadata": {},
   "outputs": [
    {
     "name": "stdout",
     "output_type": "stream",
     "text": [
      "[\n",
      "  [1 1 1]\n",
      "  [1 1 1]\n",
      "  [1 1 1]\n",
      "] == [\n",
      "  [1.000 1.000 1.000]\n",
      "  [1.000 1.000 1.000]\n",
      "  [1.000 1.000 1.000]\n",
      "]\n",
      "        \n",
      "True\n"
     ]
    }
   ],
   "source": [
    "print(\n",
    "f\"\"\"\\\n",
    "{base_comparison_matrix} == {equals_matrix_1}\n",
    "        \n",
    "{base_comparison_matrix == equals_matrix_1}\\\n",
    "\"\"\"\n",
    ")"
   ]
  },
  {
   "cell_type": "code",
   "execution_count": 71,
   "metadata": {},
   "outputs": [
    {
     "name": "stdout",
     "output_type": "stream",
     "text": [
      "[\n",
      "  [1 1 1]\n",
      "  [1 1 1]\n",
      "  [1 1 1]\n",
      "] == [\n",
      "  [1 1 1]\n",
      "  [1 1 1]\n",
      "  [1 1 1]\n",
      "]\n",
      "        \n",
      "True\n"
     ]
    }
   ],
   "source": [
    "print(\n",
    "f\"\"\"\\\n",
    "{base_comparison_matrix} == {equals_matrix_2}\n",
    "        \n",
    "{base_comparison_matrix == equals_matrix_2}\\\n",
    "\"\"\"\n",
    ")"
   ]
  },
  {
   "cell_type": "markdown",
   "metadata": {},
   "source": [
    "Sada ćemo istestirati koje su granice usporedbe. Prvo krenimo s malom, ali dovoljno velikom devijacijom."
   ]
  },
  {
   "cell_type": "code",
   "execution_count": 72,
   "metadata": {},
   "outputs": [
    {
     "name": "stdout",
     "output_type": "stream",
     "text": [
      "[\n",
      "  [1 1 1]\n",
      "  [1 1 1]\n",
      "  [1 1 1]\n",
      "] == [\n",
      "  [1.000001 1.000001 1.000001]\n",
      "  [1.000001 1.000001 1.000001]\n",
      "  [1.000001 1.000001 1.000001]\n",
      "]\n",
      "        \n",
      "False\n"
     ]
    }
   ],
   "source": [
    "print(\n",
    "f\"\"\"\\\n",
    "{base_comparison_matrix} == \\\n",
    "{equals_matrix_3.pretty_print(decimal_precision=6)}\n",
    "        \n",
    "{base_comparison_matrix == equals_matrix_3}\\\n",
    "\"\"\"\n",
    ")"
   ]
  },
  {
   "cell_type": "markdown",
   "metadata": {},
   "source": [
    "Sada ćemo istestirati što se događa ako je devijacija premala (u ovom slučaju 10 puta manjoj od dozvoljene)."
   ]
  },
  {
   "cell_type": "code",
   "execution_count": 73,
   "metadata": {},
   "outputs": [
    {
     "name": "stdout",
     "output_type": "stream",
     "text": [
      "[\n",
      "  [1 1 1]\n",
      "  [1 1 1]\n",
      "  [1 1 1]\n",
      "] == [\n",
      "  [1.00000000000001 1.00000000000001 1.00000000000001]\n",
      "  [1.00000000000001 1.00000000000001 1.00000000000001]\n",
      "  [1.00000000000001 1.00000000000001 1.00000000000001]\n",
      "]\n",
      "        \n",
      "True\n"
     ]
    }
   ],
   "source": [
    "needed_precision = int(0.5 - log10(base_comparison_matrix.epsilon) + 1)\n",
    "\n",
    "print(\n",
    "f\"\"\"\\\n",
    "{base_comparison_matrix} == \\\n",
    "{equals_matrix_4.pretty_print(decimal_precision=needed_precision)}\n",
    "        \n",
    "{base_comparison_matrix == equals_matrix_4}\\\n",
    "\"\"\"\n",
    ")"
   ]
  },
  {
   "cell_type": "markdown",
   "metadata": {},
   "source": [
    "Ovu granicu možemo i mijenjati, iako nije preporučljivo. Npr., ako želimo da nam 3. matrica bude jednaka, onda možemo napraviti sljedeće"
   ]
  },
  {
   "cell_type": "code",
   "execution_count": 74,
   "metadata": {},
   "outputs": [],
   "source": [
    "base_comparison_matrix.epsilon = 1e-5"
   ]
  },
  {
   "cell_type": "code",
   "execution_count": 75,
   "metadata": {},
   "outputs": [
    {
     "name": "stdout",
     "output_type": "stream",
     "text": [
      "[\n",
      "  [1 1 1]\n",
      "  [1 1 1]\n",
      "  [1 1 1]\n",
      "] == [\n",
      "  [1.000001 1.000001 1.000001]\n",
      "  [1.000001 1.000001 1.000001]\n",
      "  [1.000001 1.000001 1.000001]\n",
      "]\n",
      "        \n",
      "True\n"
     ]
    }
   ],
   "source": [
    "print(\n",
    "f\"\"\"\\\n",
    "{base_comparison_matrix} == \\\n",
    "{equals_matrix_3.pretty_print(decimal_precision=6)}\n",
    "        \n",
    "{base_comparison_matrix == equals_matrix_3}\\\n",
    "\"\"\"\n",
    ")"
   ]
  },
  {
   "cell_type": "markdown",
   "metadata": {},
   "source": [
    "Epsilon koji se gleda je uvijek onaj lijevog argumenta, pa tako imamo i ovakav rezultat"
   ]
  },
  {
   "cell_type": "code",
   "execution_count": 76,
   "metadata": {},
   "outputs": [],
   "source": [
    "base_comparison_matrix.epsilon = 1e-13\n",
    "equals_matrix_3.epsilon = 1e-5"
   ]
  },
  {
   "cell_type": "code",
   "execution_count": 77,
   "metadata": {},
   "outputs": [
    {
     "name": "stdout",
     "output_type": "stream",
     "text": [
      "[\n",
      "  [1 1 1]\n",
      "  [1 1 1]\n",
      "  [1 1 1]\n",
      "] == [\n",
      "  [1.000001 1.000001 1.000001]\n",
      "  [1.000001 1.000001 1.000001]\n",
      "  [1.000001 1.000001 1.000001]\n",
      "]\n",
      "        \n",
      "False\n"
     ]
    }
   ],
   "source": [
    "print(\n",
    "f\"\"\"\\\n",
    "{base_comparison_matrix} == \\\n",
    "{equals_matrix_3.pretty_print(decimal_precision=6)}\n",
    "        \n",
    "{base_comparison_matrix == equals_matrix_3}\\\n",
    "\"\"\"\n",
    ")"
   ]
  },
  {
   "cell_type": "markdown",
   "metadata": {},
   "source": [
    "#### Manje (jednako) od"
   ]
  },
  {
   "cell_type": "code",
   "execution_count": 78,
   "metadata": {},
   "outputs": [],
   "source": [
    "lt_matrix_1 = Matrix.full(3, 3, 2, int)\n",
    "lt_matrix_2 = Matrix.full(3, 3, 2, float)\n",
    "le_matrix_1 = Matrix.full(3, 3, 1, float)\n",
    "le_matrix_2 = Matrix.full(3, 3, 1, float) - (base_comparison_matrix.epsilon / 10)"
   ]
  },
  {
   "cell_type": "code",
   "execution_count": 79,
   "metadata": {},
   "outputs": [
    {
     "name": "stdout",
     "output_type": "stream",
     "text": [
      "[\n",
      "  [1 1 1]\n",
      "  [1 1 1]\n",
      "  [1 1 1]\n",
      "] < [\n",
      "  [2 2 2]\n",
      "  [2 2 2]\n",
      "  [2 2 2]\n",
      "]\n",
      "        \n",
      "True\n"
     ]
    }
   ],
   "source": [
    "print(\n",
    "f\"\"\"\\\n",
    "{base_comparison_matrix} < {lt_matrix_1}\n",
    "        \n",
    "{base_comparison_matrix < lt_matrix_1}\\\n",
    "\"\"\"\n",
    ")"
   ]
  },
  {
   "cell_type": "code",
   "execution_count": 80,
   "metadata": {},
   "outputs": [
    {
     "name": "stdout",
     "output_type": "stream",
     "text": [
      "[\n",
      "  [1 1 1]\n",
      "  [1 1 1]\n",
      "  [1 1 1]\n",
      "] < [\n",
      "  [2.000 2.000 2.000]\n",
      "  [2.000 2.000 2.000]\n",
      "  [2.000 2.000 2.000]\n",
      "]\n",
      "        \n",
      "True\n"
     ]
    }
   ],
   "source": [
    "print(\n",
    "f\"\"\"\\\n",
    "{base_comparison_matrix} < {lt_matrix_2}\n",
    "        \n",
    "{base_comparison_matrix < lt_matrix_2}\\\n",
    "\"\"\"\n",
    ")"
   ]
  },
  {
   "cell_type": "markdown",
   "metadata": {},
   "source": [
    "Slično radi i operacija $\\leq$, pa ćemo samo provjeriti rubne slučajeve"
   ]
  },
  {
   "cell_type": "code",
   "execution_count": 81,
   "metadata": {},
   "outputs": [
    {
     "name": "stdout",
     "output_type": "stream",
     "text": [
      "[\n",
      "  [1 1 1]\n",
      "  [1 1 1]\n",
      "  [1 1 1]\n",
      "] <= [\n",
      "  [1.000 1.000 1.000]\n",
      "  [1.000 1.000 1.000]\n",
      "  [1.000 1.000 1.000]\n",
      "]\n",
      "        \n",
      "True\n"
     ]
    }
   ],
   "source": [
    "print(\n",
    "f\"\"\"\\\n",
    "{base_comparison_matrix} <= {le_matrix_1}\n",
    "        \n",
    "{base_comparison_matrix <= le_matrix_1}\\\n",
    "\"\"\"\n",
    ")"
   ]
  },
  {
   "cell_type": "code",
   "execution_count": 82,
   "metadata": {},
   "outputs": [
    {
     "name": "stdout",
     "output_type": "stream",
     "text": [
      "[\n",
      "  [1 1 1]\n",
      "  [1 1 1]\n",
      "  [1 1 1]\n",
      "] <= [\n",
      "  [0.99999999999999 0.99999999999999 0.99999999999999]\n",
      "  [0.99999999999999 0.99999999999999 0.99999999999999]\n",
      "  [0.99999999999999 0.99999999999999 0.99999999999999]\n",
      "]\n",
      "        \n",
      "False\n"
     ]
    }
   ],
   "source": [
    "needed_precision = int(0.5 - log10(base_comparison_matrix.epsilon) + 1)\n",
    "\n",
    "print(\n",
    "f\"\"\"\\\n",
    "{base_comparison_matrix} <= \\\n",
    "{le_matrix_2.pretty_print(decimal_precision=needed_precision)}\n",
    "        \n",
    "{base_comparison_matrix <= le_matrix_2}\\\n",
    "\"\"\"\n",
    ")"
   ]
  },
  {
   "cell_type": "markdown",
   "metadata": {},
   "source": [
    "Vidimo da ovog puta ne toleriramo ni devijaciju manju od epsilona."
   ]
  },
  {
   "cell_type": "markdown",
   "metadata": {},
   "source": [
    "#### Veće (jednako) od"
   ]
  },
  {
   "cell_type": "code",
   "execution_count": 83,
   "metadata": {},
   "outputs": [],
   "source": [
    "gt_matrix_1 = Matrix.full(3, 3, 2, int)\n",
    "gt_matrix_2 = Matrix.full(3, 3, 2, float)\n",
    "ge_matrix_1 = Matrix.full(3, 3, 1, float)\n",
    "ge_matrix_2 = Matrix.full(3, 3, 1, float) + (base_comparison_matrix.epsilon / 10)"
   ]
  },
  {
   "cell_type": "code",
   "execution_count": 84,
   "metadata": {},
   "outputs": [
    {
     "name": "stdout",
     "output_type": "stream",
     "text": [
      "[\n",
      "  [1 1 1]\n",
      "  [1 1 1]\n",
      "  [1 1 1]\n",
      "] > [\n",
      "  [2 2 2]\n",
      "  [2 2 2]\n",
      "  [2 2 2]\n",
      "]\n",
      "        \n",
      "False\n"
     ]
    }
   ],
   "source": [
    "print(\n",
    "f\"\"\"\\\n",
    "{base_comparison_matrix} > {gt_matrix_1}\n",
    "        \n",
    "{base_comparison_matrix > gt_matrix_1}\\\n",
    "\"\"\"\n",
    ")"
   ]
  },
  {
   "cell_type": "code",
   "execution_count": 85,
   "metadata": {},
   "outputs": [
    {
     "name": "stdout",
     "output_type": "stream",
     "text": [
      "[\n",
      "  [1 1 1]\n",
      "  [1 1 1]\n",
      "  [1 1 1]\n",
      "] > [\n",
      "  [2.000 2.000 2.000]\n",
      "  [2.000 2.000 2.000]\n",
      "  [2.000 2.000 2.000]\n",
      "]\n",
      "        \n",
      "False\n"
     ]
    }
   ],
   "source": [
    "print(\n",
    "f\"\"\"\\\n",
    "{base_comparison_matrix} > {gt_matrix_2}\n",
    "        \n",
    "{base_comparison_matrix > gt_matrix_2}\\\n",
    "\"\"\"\n",
    ")"
   ]
  },
  {
   "cell_type": "markdown",
   "metadata": {},
   "source": [
    "Slično kao i prije, testiramo samo rubne slučajeve na veće ili jednako"
   ]
  },
  {
   "cell_type": "code",
   "execution_count": 86,
   "metadata": {},
   "outputs": [
    {
     "name": "stdout",
     "output_type": "stream",
     "text": [
      "[\n",
      "  [1 1 1]\n",
      "  [1 1 1]\n",
      "  [1 1 1]\n",
      "] >= [\n",
      "  [1.000 1.000 1.000]\n",
      "  [1.000 1.000 1.000]\n",
      "  [1.000 1.000 1.000]\n",
      "]\n",
      "        \n",
      "True\n"
     ]
    }
   ],
   "source": [
    "print(\n",
    "f\"\"\"\\\n",
    "{base_comparison_matrix} >= {ge_matrix_1}\n",
    "        \n",
    "{base_comparison_matrix >= ge_matrix_1}\\\n",
    "\"\"\"\n",
    ")"
   ]
  },
  {
   "cell_type": "code",
   "execution_count": 87,
   "metadata": {},
   "outputs": [
    {
     "name": "stdout",
     "output_type": "stream",
     "text": [
      "[\n",
      "  [1 1 1]\n",
      "  [1 1 1]\n",
      "  [1 1 1]\n",
      "] >= [\n",
      "  [1.00000000000001 1.00000000000001 1.00000000000001]\n",
      "  [1.00000000000001 1.00000000000001 1.00000000000001]\n",
      "  [1.00000000000001 1.00000000000001 1.00000000000001]\n",
      "]\n",
      "        \n",
      "False\n"
     ]
    }
   ],
   "source": [
    "needed_precision = int(0.5 - log10(base_comparison_matrix.epsilon) + 1)\n",
    "\n",
    "print(\n",
    "f\"\"\"\\\n",
    "{base_comparison_matrix} >= \\\n",
    "{ge_matrix_2.pretty_print(decimal_precision=needed_precision)}\n",
    "        \n",
    "{base_comparison_matrix >= ge_matrix_2}\\\n",
    "\"\"\"\n",
    ")"
   ]
  },
  {
   "cell_type": "markdown",
   "metadata": {},
   "source": [
    "Ni tu ne prihvaćamo devijaciju manju od epsilona."
   ]
  },
  {
   "cell_type": "markdown",
   "metadata": {},
   "source": [
    "<br><br>\n",
    "\n",
    "---"
   ]
  },
  {
   "cell_type": "markdown",
   "metadata": {},
   "source": [
    "### Rješavanje matrica"
   ]
  },
  {
   "cell_type": "markdown",
   "metadata": {},
   "source": [
    "U ove metode spadaju:\n",
    "\n",
    "- supstitucija unaprijed\n",
    "- supstitucija unatrag\n",
    "- LU dekompozicija\n",
    "- LUP dekompozicija\n",
    "- izračun determinante matrice\n",
    "- izračun inverza matrice"
   ]
  },
  {
   "cell_type": "code",
   "execution_count": 88,
   "metadata": {},
   "outputs": [
    {
     "name": "stdout",
     "output_type": "stream",
     "text": [
      "[[ 1 -1  0]]\n"
     ]
    }
   ],
   "source": [
    "base_matrix = Matrix.from_array(\n",
    "    [\n",
    "        [2, -1, 3],\n",
    "        [1, 5, -1],\n",
    "        [-1, -1, 1]\n",
    "    ]\n",
    ")\n",
    "eye = Matrix.eye(3, 3, int)\n",
    "\n",
    "print(base_matrix.forward_substitute(eye.row(0)))"
   ]
  },
  {
   "cell_type": "code",
   "execution_count": 89,
   "metadata": {},
   "outputs": [],
   "source": [
    "base_row = Matrix.from_array(\n",
    "    [\n",
    "        [1, 2, 3]\n",
    "    ]\n",
    ")\n",
    "base_invertible_matrix = Matrix.from_array(\n",
    "    [\n",
    "        [1, 2, 0],\n",
    "        [3, 5, 4],\n",
    "        [5, 6, 3]\n",
    "    ]\n",
    ")\n",
    "base_singular_matrix = Matrix.from_array(\n",
    "    [\n",
    "        [1, 2, 3],\n",
    "        [4, 5, 6],\n",
    "        [7, 8, 9]\n",
    "    ]\n",
    ")"
   ]
  },
  {
   "cell_type": "markdown",
   "metadata": {},
   "source": [
    "#### Supstitucija unaprijed"
   ]
  },
  {
   "cell_type": "code",
   "execution_count": 90,
   "metadata": {},
   "outputs": [
    {
     "name": "stdout",
     "output_type": "stream",
     "text": [
      "[[ 1 -1  4]]\n"
     ]
    }
   ],
   "source": [
    "forward_row = base_invertible_matrix.forward_substitute(base_row)\n",
    "print(forward_row)"
   ]
  },
  {
   "cell_type": "markdown",
   "metadata": {},
   "source": [
    "Supstitucija unaprijed radi i za singularne matrice"
   ]
  },
  {
   "cell_type": "code",
   "execution_count": 91,
   "metadata": {},
   "outputs": [
    {
     "name": "stdout",
     "output_type": "stream",
     "text": [
      "[[ 1 -2 12]]\n"
     ]
    }
   ],
   "source": [
    "forward_row_2 = base_singular_matrix.forward_substitute(base_row)\n",
    "print(forward_row_2)"
   ]
  },
  {
   "cell_type": "markdown",
   "metadata": {},
   "source": [
    "#### Supstitucija unatrag"
   ]
  },
  {
   "cell_type": "markdown",
   "metadata": {},
   "source": [
    "Ovu supstituciju radimo nad prethodno dobivenim retcima"
   ]
  },
  {
   "cell_type": "code",
   "execution_count": 92,
   "metadata": {},
   "outputs": [
    {
     "name": "stdout",
     "output_type": "stream",
     "text": [
      "[[ 3.533 -1.267  1.333]]\n"
     ]
    }
   ],
   "source": [
    "backward_row = base_invertible_matrix.backward_substitute(forward_row)\n",
    "print(backward_row)"
   ]
  },
  {
   "cell_type": "code",
   "execution_count": 93,
   "metadata": {},
   "outputs": [
    {
     "name": "stdout",
     "output_type": "stream",
     "text": [
      "[[ 1.000 -2.000  1.333]]\n"
     ]
    }
   ],
   "source": [
    "try:\n",
    "    backward_row_2 = base_singular_matrix.backward_substitute(forward_row_2)\n",
    "    print(backward_row_2)\n",
    "except NotSolvable as ns:\n",
    "    print(ns)"
   ]
  },
  {
   "cell_type": "markdown",
   "metadata": {},
   "source": [
    "#### LU dekompozicija"
   ]
  },
  {
   "cell_type": "code",
   "execution_count": 94,
   "metadata": {},
   "outputs": [
    {
     "name": "stdout",
     "output_type": "stream",
     "text": [
      "[\n",
      "  [  1   2   0]\n",
      "  [  3  -1   4]\n",
      "  [  5   4 -13]\n",
      "]\n"
     ]
    }
   ],
   "source": [
    "lu_matrix = base_invertible_matrix.lu()\n",
    "print(lu_matrix)"
   ]
  },
  {
   "cell_type": "markdown",
   "metadata": {},
   "source": [
    "Ovu matricu možemo i razdvojiti na L i U matricu:"
   ]
  },
  {
   "cell_type": "code",
   "execution_count": 95,
   "metadata": {},
   "outputs": [
    {
     "name": "stdout",
     "output_type": "stream",
     "text": [
      "[\n",
      "  [1 0 0]\n",
      "  [3 1 0]\n",
      "  [5 4 1]\n",
      "]\n",
      "[\n",
      "  [  1   2   0]\n",
      "  [  0  -1   4]\n",
      "  [  0   0 -13]\n",
      "]\n"
     ]
    }
   ],
   "source": [
    "l_matrix, u_matrix = Matrix.split_lu_matrix(lu_matrix)\n",
    "print(l_matrix)\n",
    "print(u_matrix)"
   ]
  },
  {
   "cell_type": "markdown",
   "metadata": {},
   "source": [
    "Ako pokušamo izvršiti LU dekompoziciju na singularnoj matrici, metoda treba vratiti iznimku **NotSolvable**"
   ]
  },
  {
   "cell_type": "code",
   "execution_count": 96,
   "metadata": {},
   "outputs": [
    {
     "name": "stdout",
     "output_type": "stream",
     "text": [
      "Encountered a zero pivot in method Matrix.lu: Matrix[2][2] is the culprit (in [\n",
      "  [ 1  2  3]\n",
      "  [ 4 -3 -6]\n",
      "  [ 7  2  0]\n",
      "]).\n"
     ]
    }
   ],
   "source": [
    "try:\n",
    "    lu_matrix_2 = base_singular_matrix.lu()\n",
    "except NotSolvable as ns:\n",
    "    print(ns)"
   ]
  },
  {
   "cell_type": "markdown",
   "metadata": {},
   "source": [
    "#### LUP dekompozicija"
   ]
  },
  {
   "cell_type": "code",
   "execution_count": 97,
   "metadata": {},
   "outputs": [
    {
     "name": "stdout",
     "output_type": "stream",
     "text": [
      "[\n",
      "  [ 5.000  6.000  3.000]\n",
      "  [ 0.600  1.400  2.200]\n",
      "  [ 0.200  0.571 -1.857]\n",
      "]\n",
      "[\n",
      "  [0 0 1]\n",
      "  [0 1 0]\n",
      "  [1 0 0]\n",
      "]\n"
     ]
    }
   ],
   "source": [
    "lu_matrix_3, p_matrix_3 = base_invertible_matrix.lup()\n",
    "print(lu_matrix_3)\n",
    "print(p_matrix_3)"
   ]
  },
  {
   "cell_type": "markdown",
   "metadata": {},
   "source": [
    "Slično kao i prije, ni LUP dekompozicija ne bi trebala biti otporna na singularne matrice"
   ]
  },
  {
   "cell_type": "code",
   "execution_count": 98,
   "metadata": {},
   "outputs": [
    {
     "name": "stdout",
     "output_type": "stream",
     "text": [
      "Encountered a zero pivot in method Matrix.lup: Matrix[2][2] is the culprit (in [\n",
      "  [7.000 8.000 9.000]\n",
      "  [0.143 0.857 1.714]\n",
      "  [0.571 0.500 0.000]\n",
      "]).\n"
     ]
    }
   ],
   "source": [
    "try:\n",
    "    lu_matrix_4, p_matrix_4 = base_singular_matrix.lup()\n",
    "    print(lu_matrix_4)\n",
    "    print(p_matrix_4)\n",
    "except NotSolvable as ns:\n",
    "    print(ns)"
   ]
  },
  {
   "cell_type": "markdown",
   "metadata": {},
   "source": [
    "#### Izračun determinante matrice"
   ]
  },
  {
   "cell_type": "code",
   "execution_count": 99,
   "metadata": {},
   "outputs": [
    {
     "name": "stdout",
     "output_type": "stream",
     "text": [
      "Determinanta [\n",
      "  [1 2 0]\n",
      "  [3 5 4]\n",
      "  [5 6 3]\n",
      "] = 13\n"
     ]
    }
   ],
   "source": [
    "print(\n",
    "    f\"Determinanta {base_invertible_matrix} = \"\n",
    "    f\"{base_invertible_matrix.determinant}\"\n",
    ")"
   ]
  },
  {
   "cell_type": "code",
   "execution_count": 100,
   "metadata": {},
   "outputs": [
    {
     "name": "stdout",
     "output_type": "stream",
     "text": [
      "Determinanta [\n",
      "  [1 2 3]\n",
      "  [4 5 6]\n",
      "  [7 8 9]\n",
      "] = 0\n"
     ]
    }
   ],
   "source": [
    "print(\n",
    "    f\"Determinanta {base_singular_matrix} = \"\n",
    "    f\"{base_singular_matrix.determinant}\"\n",
    ")"
   ]
  },
  {
   "cell_type": "markdown",
   "metadata": {},
   "source": [
    "#### Izračun inverza matrice"
   ]
  },
  {
   "cell_type": "code",
   "execution_count": 101,
   "metadata": {},
   "outputs": [
    {
     "name": "stdout",
     "output_type": "stream",
     "text": [
      "Inverz [\n",
      "  [1.000 2.000 0.000]\n",
      "  [3.000 5.000 4.000]\n",
      "  [5.000 6.000 3.000]\n",
      "] = [\n",
      "  [-0.692 -0.462  0.615]\n",
      "  [ 0.846  0.231 -0.308]\n",
      "  [-0.538  0.308 -0.077]\n",
      "]\n"
     ]
    }
   ],
   "source": [
    "base_invertible_matrix_inverse = base_invertible_matrix.float().inverse\n",
    "print(\n",
    "    f\"Inverz {base_invertible_matrix} = \"\n",
    "    f\"{base_invertible_matrix_inverse}\"\n",
    ")"
   ]
  },
  {
   "cell_type": "markdown",
   "metadata": {},
   "source": [
    "Možemo provjeriti da je matrica stvarno inverz jednim matričnim množenjem"
   ]
  },
  {
   "cell_type": "code",
   "execution_count": 102,
   "metadata": {},
   "outputs": [
    {
     "name": "stdout",
     "output_type": "stream",
     "text": [
      "[\n",
      "  [1.000 0.000 0.000]\n",
      "  [0.000 1.000 0.000]\n",
      "  [0.000 0.000 1.000]\n",
      "]\n"
     ]
    }
   ],
   "source": [
    "print((base_invertible_matrix @ base_invertible_matrix_inverse).float())"
   ]
  },
  {
   "cell_type": "markdown",
   "metadata": {},
   "source": [
    "Ako pokušamo invertirati singularnu matricu, dignut će nam se **MatrixIsSingular** iznimka"
   ]
  },
  {
   "cell_type": "code",
   "execution_count": 103,
   "metadata": {},
   "outputs": [
    {
     "name": "stdout",
     "output_type": "stream",
     "text": [
      "Matrix [\n",
      "  [1 2 3]\n",
      "  [4 5 6]\n",
      "  [7 8 9]\n",
      "] is singular.\n"
     ]
    }
   ],
   "source": [
    "try:\n",
    "    print(\n",
    "        f\"Inverz {base_singular_matrix} = \"\n",
    "        f\"{base_singular_matrix.inverse}\"\n",
    "    )\n",
    "except MatrixIsSingular as mis:\n",
    "    print(mis)"
   ]
  }
 ],
 "metadata": {
  "kernelspec": {
   "display_name": "aipr_dz01",
   "language": "python",
   "name": "aipr_dz01"
  },
  "language_info": {
   "codemirror_mode": {
    "name": "ipython",
    "version": 3
   },
   "file_extension": ".py",
   "mimetype": "text/x-python",
   "name": "python",
   "nbconvert_exporter": "python",
   "pygments_lexer": "ipython3",
   "version": "3.8.5"
  }
 },
 "nbformat": 4,
 "nbformat_minor": 4
}
