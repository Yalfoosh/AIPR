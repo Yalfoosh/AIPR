{
 "cells": [
  {
   "cell_type": "markdown",
   "metadata": {},
   "source": [
    "# Analiza i projektiranje računalom: 1. laboratorijska vježba"
   ]
  },
  {
   "cell_type": "markdown",
   "metadata": {},
   "source": [
    "## Test klase Matrix"
   ]
  },
  {
   "cell_type": "markdown",
   "metadata": {},
   "source": [
    "### Priprema"
   ]
  },
  {
   "cell_type": "code",
   "execution_count": 1,
   "metadata": {},
   "outputs": [],
   "source": [
    "import os\n",
    "\n",
    "CD_KEY = \"--MATRIX_TEST_IN_ROOT\""
   ]
  },
  {
   "cell_type": "code",
   "execution_count": 2,
   "metadata": {},
   "outputs": [
    {
     "name": "stdout",
     "output_type": "stream",
     "text": [
      "/mnt/data/projekti/faks/AIPR/dz/dz-01\n"
     ]
    }
   ],
   "source": [
    "if (\n",
    "    CD_KEY not in os.environ\n",
    "    or os.environ[CD_KEY] is None\n",
    "    or len(os.environ[CD_KEY]) == 0\n",
    "    or os.environ[CD_KEY] == \"false\"\n",
    "):\n",
    "    %cd ..\n",
    "else:\n",
    "    print(os.getcwd())\n",
    "    \n",
    "os.environ[CD_KEY] = \"true\""
   ]
  },
  {
   "cell_type": "markdown",
   "metadata": {},
   "source": [
    "### Učitavanje paketa"
   ]
  },
  {
   "cell_type": "code",
   "execution_count": 3,
   "metadata": {},
   "outputs": [],
   "source": [
    "import numpy as np\n",
    "\n",
    "from src.matrices.matrix import Matrix"
   ]
  },
  {
   "cell_type": "markdown",
   "metadata": {},
   "source": [
    "### Provjere pristupa"
   ]
  },
  {
   "cell_type": "code",
   "execution_count": 4,
   "metadata": {},
   "outputs": [],
   "source": [
    "SHAPE = (5, 5)\n",
    "DTYPE = float\n",
    "FILL_VALUE = 17.29"
   ]
  },
  {
   "cell_type": "code",
   "execution_count": 5,
   "metadata": {},
   "outputs": [
    {
     "name": "stdout",
     "output_type": "stream",
     "text": [
      "[\n",
      "  [17.290, 17.290, 17.290, 17.290, 17.290],\n",
      "  [17.290, 17.290, 17.290, 17.290, 17.290],\n",
      "  [17.290, 17.290, 17.290, 17.290, 17.290],\n",
      "  [17.290, 17.290, 17.290, 17.290, 17.290],\n",
      "  [17.290, 17.290, 17.290, 17.290, 17.290]\n",
      "]\n"
     ]
    }
   ],
   "source": [
    "our_matrix = Matrix.full(5, 5, fill_value=FILL_VALUE, dtype=DTYPE)\n",
    "print(our_matrix)"
   ]
  },
  {
   "cell_type": "markdown",
   "metadata": {},
   "source": [
    "#### Provjera manipulacije elemenata"
   ]
  },
  {
   "cell_type": "code",
   "execution_count": 6,
   "metadata": {},
   "outputs": [
    {
     "name": "stdout",
     "output_type": "stream",
     "text": [
      "Oblik: (5, 5)\n",
      "Matrica: [\n",
      "  [ 17.290,  17.290,  17.290,  17.290,  17.290],\n",
      "  [ 17.290,  17.290,  17.290, 941.000,  17.290],\n",
      "  [ 17.290,  17.290,  17.290,  17.290,  17.290],\n",
      "  [ 17.290,  17.290,  17.290,  17.290,  17.290],\n",
      "  [ 17.290,  17.290,  17.290,  17.290,  17.290]\n",
      "]\n"
     ]
    }
   ],
   "source": [
    "our_matrix[1][3] = 941\n",
    "\n",
    "print(f\"Oblik: {our_matrix.shape}\")\n",
    "print(f\"Matrica: {our_matrix}\")"
   ]
  },
  {
   "cell_type": "code",
   "execution_count": 7,
   "metadata": {},
   "outputs": [
    {
     "name": "stdout",
     "output_type": "stream",
     "text": [
      "Matrica pretvorena u cijele brojeve: [\n",
      "  [ 17,  17,  17,  17,  17],\n",
      "  [ 17,  17,  17, 941,  17],\n",
      "  [ 17,  17,  17,  17,  17],\n",
      "  [ 17,  17,  17,  17,  17],\n",
      "  [ 17,  17,  17,  17,  17]\n",
      "]\n"
     ]
    }
   ],
   "source": [
    "our_matrix.int()\n",
    "print(f\"Matrica pretvorena u cijele brojeve: {our_matrix}\")"
   ]
  },
  {
   "cell_type": "code",
   "execution_count": 8,
   "metadata": {},
   "outputs": [
    {
     "name": "stdout",
     "output_type": "stream",
     "text": [
      "Matrica pretvorena natrag u float: [\n",
      "  [ 17.000,  17.000,  17.000,  17.000,  17.000],\n",
      "  [ 17.000,  17.000,  17.000, 941.000,  17.000],\n",
      "  [ 17.000,  17.000,  17.000,  17.000,  17.000],\n",
      "  [ 17.000,  17.000,  17.000,  17.000,  17.000],\n",
      "  [ 17.000,  17.000,  17.000,  17.000,  17.000]\n",
      "]\n"
     ]
    }
   ],
   "source": [
    "our_matrix.float()\n",
    "print(f\"Matrica pretvorena natrag u float: {our_matrix}\")"
   ]
  },
  {
   "cell_type": "code",
   "execution_count": 9,
   "metadata": {},
   "outputs": [
    {
     "name": "stdout",
     "output_type": "stream",
     "text": [
      "Matrica nula: [\n",
      "  [0.000, 0.000, 0.000],\n",
      "  [0.000, 0.000, 0.000],\n",
      "  [0.000, 0.000, 0.000]\n",
      "]\n"
     ]
    }
   ],
   "source": [
    "print(f\"Matrica nula: {Matrix.zeros(3, 3)}\")"
   ]
  },
  {
   "cell_type": "code",
   "execution_count": 10,
   "metadata": {},
   "outputs": [
    {
     "name": "stdout",
     "output_type": "stream",
     "text": [
      "Jedinična matrica: [\n",
      "  [1, 0, 0, 0, 0, 0],\n",
      "  [0, 1, 0, 0, 0, 0],\n",
      "  [0, 0, 1, 0, 0, 0],\n",
      "  [0, 0, 0, 1, 0, 0],\n",
      "  [0, 0, 0, 0, 1, 0]\n",
      "]\n"
     ]
    }
   ],
   "source": [
    "print(f\"Jedinična matrica: {Matrix.eye(5, 6, int)}\")"
   ]
  },
  {
   "cell_type": "markdown",
   "metadata": {},
   "source": [
    "#### Provjera podmatrica"
   ]
  },
  {
   "cell_type": "code",
   "execution_count": 11,
   "metadata": {},
   "outputs": [],
   "source": [
    "MATRIX_TO_USE = [\n",
    "    [1, 2, 3],\n",
    "    [4, 5, 6],\n",
    "    [7, 8, 9]\n",
    "]\n",
    "\n",
    "numpy_matrix_2 = np.array(MATRIX_TO_USE, dtype=float)\n",
    "our_matrix_2 = Matrix.from_array(MATRIX_TO_USE)"
   ]
  },
  {
   "cell_type": "code",
   "execution_count": 12,
   "metadata": {},
   "outputs": [
    {
     "name": "stdout",
     "output_type": "stream",
     "text": [
      "[[1, 5, 9]]\n"
     ]
    }
   ],
   "source": [
    "print(our_matrix_2.diagonal())"
   ]
  },
  {
   "cell_type": "code",
   "execution_count": 13,
   "metadata": {},
   "outputs": [
    {
     "name": "stdout",
     "output_type": "stream",
     "text": [
      "[[3, 5, 7]]\n"
     ]
    }
   ],
   "source": [
    "print(our_matrix_2.reverse_diagonal())"
   ]
  },
  {
   "cell_type": "code",
   "execution_count": 14,
   "metadata": {},
   "outputs": [
    {
     "name": "stdout",
     "output_type": "stream",
     "text": [
      "[[4, 5, 6]]\n"
     ]
    }
   ],
   "source": [
    "print(our_matrix_2.row(1))"
   ]
  },
  {
   "cell_type": "code",
   "execution_count": 15,
   "metadata": {},
   "outputs": [
    {
     "name": "stdout",
     "output_type": "stream",
     "text": [
      "[\n",
      "  [2],\n",
      "  [5],\n",
      "  [8]\n",
      "]\n"
     ]
    }
   ],
   "source": [
    "print(our_matrix_2.column(1))"
   ]
  },
  {
   "cell_type": "markdown",
   "metadata": {},
   "source": [
    "### Provjera aritmetike"
   ]
  },
  {
   "cell_type": "markdown",
   "metadata": {},
   "source": [
    "#### Zbrajanje"
   ]
  },
  {
   "cell_type": "code",
   "execution_count": 16,
   "metadata": {},
   "outputs": [],
   "source": [
    "base_arithmetic_matrix = Matrix.from_array(\n",
    "    [\n",
    "        [1, 2, 3],\n",
    "        [4, 5, 6],\n",
    "        [7, 8, 9]\n",
    "    ]\n",
    ")"
   ]
  },
  {
   "cell_type": "code",
   "execution_count": 17,
   "metadata": {},
   "outputs": [
    {
     "name": "stdout",
     "output_type": "stream",
     "text": [
      "[\n",
      "  [ 2,  3,  4],\n",
      "  [ 5,  6,  7],\n",
      "  [ 8,  9, 10]\n",
      "]\n"
     ]
    }
   ],
   "source": [
    "print(base_arithmetic_matrix + 1)"
   ]
  },
  {
   "cell_type": "code",
   "execution_count": 18,
   "metadata": {},
   "outputs": [
    {
     "name": "stdout",
     "output_type": "stream",
     "text": [
      "[\n",
      "  [ 4.140,  5.140,  6.140],\n",
      "  [ 7.140,  8.140,  9.140],\n",
      "  [10.140, 11.140, 12.140]\n",
      "]\n"
     ]
    }
   ],
   "source": [
    "print(base_arithmetic_matrix + 3.14)"
   ]
  },
  {
   "cell_type": "code",
   "execution_count": 19,
   "metadata": {},
   "outputs": [
    {
     "name": "stdout",
     "output_type": "stream",
     "text": [
      "[\n",
      "  [ 2,  2,  3],\n",
      "  [ 4,  6,  6],\n",
      "  [ 7,  8, 10]\n",
      "]\n"
     ]
    }
   ],
   "source": [
    "print(base_arithmetic_matrix + Matrix.eye(3, 3, int))"
   ]
  },
  {
   "cell_type": "markdown",
   "metadata": {},
   "source": [
    "#### Oduzimanje"
   ]
  },
  {
   "cell_type": "code",
   "execution_count": 20,
   "metadata": {},
   "outputs": [
    {
     "name": "stdout",
     "output_type": "stream",
     "text": [
      "[\n",
      "  [0, 1, 2],\n",
      "  [3, 4, 5],\n",
      "  [6, 7, 8]\n",
      "]\n"
     ]
    }
   ],
   "source": [
    "print(base_arithmetic_matrix - 1)"
   ]
  },
  {
   "cell_type": "code",
   "execution_count": 21,
   "metadata": {},
   "outputs": [
    {
     "name": "stdout",
     "output_type": "stream",
     "text": [
      "[\n",
      "  [-2.140, -1.140, -0.140],\n",
      "  [ 0.860,  1.860,  2.860],\n",
      "  [ 3.860,  4.860,  5.860]\n",
      "]\n"
     ]
    }
   ],
   "source": [
    "print(base_arithmetic_matrix - 3.14)"
   ]
  },
  {
   "cell_type": "code",
   "execution_count": 22,
   "metadata": {},
   "outputs": [
    {
     "name": "stdout",
     "output_type": "stream",
     "text": [
      "[\n",
      "  [0, 2, 3],\n",
      "  [4, 4, 6],\n",
      "  [7, 8, 8]\n",
      "]\n"
     ]
    }
   ],
   "source": [
    "print(base_arithmetic_matrix - Matrix.eye(3, 3, int))"
   ]
  },
  {
   "cell_type": "markdown",
   "metadata": {},
   "source": [
    "#### Množenje"
   ]
  },
  {
   "cell_type": "code",
   "execution_count": 23,
   "metadata": {},
   "outputs": [
    {
     "name": "stdout",
     "output_type": "stream",
     "text": [
      "[\n",
      "  [ 3,  6,  9],\n",
      "  [12, 15, 18],\n",
      "  [21, 24, 27]\n",
      "]\n"
     ]
    }
   ],
   "source": [
    "print(base_arithmetic_matrix * 3)"
   ]
  },
  {
   "cell_type": "code",
   "execution_count": 24,
   "metadata": {},
   "outputs": [
    {
     "name": "stdout",
     "output_type": "stream",
     "text": [
      "[\n",
      "  [ 3.140,  6.280,  9.420],\n",
      "  [12.560, 15.700, 18.840],\n",
      "  [21.980, 25.120, 28.260]\n",
      "]\n"
     ]
    }
   ],
   "source": [
    "print(base_arithmetic_matrix * 3.14)"
   ]
  },
  {
   "cell_type": "code",
   "execution_count": 25,
   "metadata": {},
   "outputs": [
    {
     "name": "stdout",
     "output_type": "stream",
     "text": [
      "[\n",
      "  [1, 0, 0],\n",
      "  [0, 5, 0],\n",
      "  [0, 0, 9]\n",
      "]\n"
     ]
    }
   ],
   "source": [
    "print(base_arithmetic_matrix * Matrix.eye(3, 3, int))"
   ]
  },
  {
   "cell_type": "markdown",
   "metadata": {},
   "source": [
    "#### Dijeljenje"
   ]
  },
  {
   "cell_type": "code",
   "execution_count": 26,
   "metadata": {},
   "outputs": [
    {
     "name": "stdout",
     "output_type": "stream",
     "text": [
      "[\n",
      "  [0.333, 0.667, 1.000],\n",
      "  [1.333, 1.667, 2.000],\n",
      "  [2.333, 2.667, 3.000]\n",
      "]\n"
     ]
    }
   ],
   "source": [
    "print(base_arithmetic_matrix / 3)"
   ]
  },
  {
   "cell_type": "code",
   "execution_count": 27,
   "metadata": {},
   "outputs": [
    {
     "name": "stdout",
     "output_type": "stream",
     "text": [
      "[\n",
      "  [0.318, 0.637, 0.955],\n",
      "  [1.274, 1.592, 1.911],\n",
      "  [2.229, 2.548, 2.866]\n",
      "]\n"
     ]
    }
   ],
   "source": [
    "print(base_arithmetic_matrix / 3.14)"
   ]
  },
  {
   "cell_type": "code",
   "execution_count": 28,
   "metadata": {},
   "outputs": [
    {
     "name": "stdout",
     "output_type": "stream",
     "text": [
      "[\n",
      "  [1.000, 1.000, 1.000],\n",
      "  [1.000, 1.000, 1.000],\n",
      "  [1.000, 1.000, 1.000]\n",
      "]\n"
     ]
    }
   ],
   "source": [
    "print(base_arithmetic_matrix / base_arithmetic_matrix)"
   ]
  }
 ],
 "metadata": {
  "kernelspec": {
   "display_name": "aipr_dz01",
   "language": "python",
   "name": "aipr_dz01"
  },
  "language_info": {
   "codemirror_mode": {
    "name": "ipython",
    "version": 3
   },
   "file_extension": ".py",
   "mimetype": "text/x-python",
   "name": "python",
   "nbconvert_exporter": "python",
   "pygments_lexer": "ipython3",
   "version": "3.8.5"
  }
 },
 "nbformat": 4,
 "nbformat_minor": 4
}
