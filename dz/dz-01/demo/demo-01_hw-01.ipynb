{
 "cells": [
  {
   "cell_type": "markdown",
   "metadata": {},
   "source": [
    "# Analiza i projektiranje računalom: 1. domaća zadaća"
   ]
  },
  {
   "cell_type": "markdown",
   "metadata": {},
   "source": [
    "<br>"
   ]
  },
  {
   "cell_type": "markdown",
   "metadata": {},
   "source": [
    "Implementirajte  razred  \"Matrica\"  (ili  neku  sličnu  programsku  cjelinu)  koji  omogućava  jednostavnije rukovanje objektima tipa dvodimenzionalne matrice. Za tu namjenu ostvarite osnovne elemente:"
   ]
  },
  {
   "cell_type": "markdown",
   "metadata": {},
   "source": [
    "- podatke o dimenzijama matrice i dinamički zauzete elemente matrice tipa *double*. Smještaj sadržaja matrice u memoriji organizirati po izboru, uz dinamičko zauzimanje memorije.\n",
    "- potrebne konstruktore i destruktore, po potrebi metode za mijenjanje dimenzija matrice.\n",
    "- operator ili metoda pridruživanja (funkcionalnost `A = B`).\n",
    "- metoda koja čita matricu iz tekstne datoteke u kojoj je matrica smještena tako da jedan redak matrice odgovara  jednom  retku  u  datoteci.  Na  osnovu  broja  elemenata  u  prvom  retku  određuje  se  broj stupaca  matrice,  a  redaka  ima  koliko  ima  i  redaka  u  datoteci.  Brojevi  u  jednom  retku  mogu  biti odvojeni razmakom ili tabulatorom. Vidi primjer ulazne datoteke na kraju!\n",
    "- metoda koja ispisuje matricu u datoteku u istom formatu, te metodu koja ispisuje matricu na ekran.\n",
    "- metode  za  postavljanje  i  dohvat  jednog  elementa  matrice.  Može  biti  implementirano  i  istom metodom, uz korištenje funkcije koja vraća referencu i/ili nadgradnjom operatora `[]` (C++) ili nekim drugim postupkom po želji.\n",
    "- metode  za  zbrajanje,  oduzimanje,  množenje  i  transponiranje  matrica,  te  metode  koje  obavljaju  C operatore `+=` i `-=`. Preporuča se da budu implementirane kao nadgrađeni operatori.\n",
    "- metoda za množenje matrice sa skalarom. Može biti ostvarena i kao operator.\n",
    "- operator `==` za usporedbu matrica."
   ]
  },
  {
   "cell_type": "markdown",
   "metadata": {},
   "source": [
    "Primjer uporabe uz nadgrađene operatore:"
   ]
  },
  {
   "cell_type": "markdown",
   "metadata": {},
   "source": [
    "```\n",
    "Matrica A(\"A.txt\"), B(\"B.txt\"), C;\n",
    "C = ~A;\n",
    "C += A * 0.5 * B * (A – 2 * B);\n",
    "double x = C[0][0];\n",
    "C[1][1] = x; \n",
    "```"
   ]
  },
  {
   "cell_type": "markdown",
   "metadata": {},
   "source": [
    "Primjer ulazne datoteke matrice (elementi matrice 4x3 po retcima):"
   ]
  },
  {
   "cell_type": "markdown",
   "metadata": {},
   "source": [
    "```\n",
    "12.5 3.0 9 2\n",
    "4 5 6 7\n",
    "8 9 10 11\n",
    "```"
   ]
  },
  {
   "cell_type": "markdown",
   "metadata": {},
   "source": [
    "Osim gore navedenih, potrebno je ostvariti i sljedeće elemente:"
   ]
  },
  {
   "cell_type": "markdown",
   "metadata": {},
   "source": [
    "- metode koje izvode **supstituciju  unaprijed** i **supstituciju  unatrag**. Metode neka kao ulazni parametar (slobodni vektor s desne strane sustava) primaju vektor čija  je duljina jednaka dimenziji kvadratne matrice, a koji je i sam ostvaren objektom razreda Matrica. Također trebaju vraćati vektor kao objekt tipa Matrica (u kojemu će biti upisano rješenje odgovarajućeg postupka).\n",
    "- metodu (metode) koje izvode **LU** i **LUP dekompoziciju** (kvadratne) matrice koristeći isti memorijski prostor za spremanje rezultantnih matrica L i U. Izbor odgovarajuće metode može se riješiti nekim dodatnim kontrolnim parametrom. Obratiti pažnju na mogućnost pojave nule kao stožernog (pivot) elementa (metode moraju imati neki mehanizam otkrivanja i prijave pogreške korisniku!).\n",
    "- metoda za računanje **inverzije** kvadratne matrice uz pomoć LUP dekompozicije. Inverzna matrica se računa stupac po stupac, s jednom LUP dekompozicijom in supstitucija unaprijed i unatrag, kako je pokazano na predavanjima (*u skripti: str. 3-30*). Metoda se može definirati kao unarni operator nad matricom. Posebnu  pažnju  obratiti  na  slučaj kada je matrica singularna (pojava nule za stožerni element).\n",
    "- metoda za računanje **determinante** matrice. Ako se matrica A rastavi na L, U i P  matrice, onda se determinanta matrice A može izračunati kao umnožak determinanti pojedinih matrica: $det(A) = det(P^{-1})det(L)det(U)$. Pri tome, determinanta permutacijske matrice jednaka je 1 ako nije napravljena niti jedna permutacija redaka ili parni broj permutacija, odnosno -1 ako je napravljen neparan broj permutacija redaka. S druge strane, determinanta trokutastih matrica jednaka je umnošku elemenata na dijagonali. Dakle, determinantu matrice A možemo onda izračunati kao: $A = (-1)^S \\left( \\prod^n_{i=1}{l_{ii}} \\right) \\left( \\prod^n_{i=i}{u_{ii}} \\right)$, pri čemu S predstavlja broj permutacija koji je napravljen, *l* element L matrice i u element U matrice.\n",
    "- nije obvezatno, ali može pomoći: metode koje manipuliraju stupcima matrice (postavljaju i vraćaju određeni stupac matrice pomoću objekta istoga tipa), jer se operacije te vrste često koriste u opisanim postupcima."
   ]
  },
  {
   "cell_type": "markdown",
   "metadata": {},
   "source": [
    "**Važno**: obratite pažnju na situacije u kojima se kao stožerni element može pojaviti nula ili neka jako mala vrijednost (na bilo kojem mjestu u vašoj implementaciji!). Program treba 'preživjeti' pojavu takvih okolnosti i prijaviti grešku. U tom slučaju ne smije se ispisati rješenje koje matematički nema smisla."
   ]
  },
  {
   "cell_type": "markdown",
   "metadata": {},
   "source": [
    "## Priprema za izvođenje"
   ]
  },
  {
   "cell_type": "code",
   "execution_count": 1,
   "metadata": {},
   "outputs": [],
   "source": [
    "import os\n",
    "\n",
    "CD_KEY = \"--HW01_IN_ROOT\""
   ]
  },
  {
   "cell_type": "code",
   "execution_count": 2,
   "metadata": {},
   "outputs": [
    {
     "name": "stdout",
     "output_type": "stream",
     "text": [
      "/mnt/data/projekti/faks/AIPR/dz/dz-01\n"
     ]
    }
   ],
   "source": [
    "if (\n",
    "    CD_KEY not in os.environ\n",
    "    or os.environ[CD_KEY] is None\n",
    "    or len(os.environ[CD_KEY]) == 0\n",
    "    or os.environ[CD_KEY] == \"false\"\n",
    "):\n",
    "    %cd ..\n",
    "else:\n",
    "    print(os.getcwd())\n",
    "    \n",
    "os.environ[CD_KEY] = \"true\""
   ]
  },
  {
   "cell_type": "markdown",
   "metadata": {},
   "source": [
    "### Učitavanje paketa"
   ]
  },
  {
   "cell_type": "code",
   "execution_count": 3,
   "metadata": {},
   "outputs": [],
   "source": [
    "import copy\n",
    "\n",
    "from IPython.display import display, Markdown\n",
    "\n",
    "from src.matrices.matrix import Matrix\n",
    "from src.matrices.exceptions import MatrixIsSingular, NotSolvable"
   ]
  },
  {
   "cell_type": "markdown",
   "metadata": {},
   "source": [
    "## Zadatci"
   ]
  },
  {
   "cell_type": "markdown",
   "metadata": {},
   "source": [
    "### Zadatak 1"
   ]
  },
  {
   "cell_type": "markdown",
   "metadata": {},
   "source": [
    "Kakva treba biti usporedba *double* varijabli kako bi uspoređivanje dalo očekivane rezultate?"
   ]
  },
  {
   "cell_type": "markdown",
   "metadata": {},
   "source": [
    "**Odgovor**: Umjesto konkretnih vrijednosti moramo gledati kakva je udaljenost vrijednosti od 0."
   ]
  },
  {
   "cell_type": "markdown",
   "metadata": {},
   "source": [
    "Isprobajte operator `==` s elementima matrice kao necijelim brojevima, pomnožite i podijelite sa realnim brojem i usporedite s originalom."
   ]
  },
  {
   "cell_type": "markdown",
   "metadata": {},
   "source": [
    "**Odgovor**:"
   ]
  },
  {
   "cell_type": "code",
   "execution_count": 4,
   "metadata": {},
   "outputs": [],
   "source": [
    "t1_coefficient = 3.14\n",
    "t1_matrix = Matrix.from_array(\n",
    "    [\n",
    "        [1.1, 2.1, 3.1],\n",
    "        [4.1, 5.1, 6.1],\n",
    "        [7.1, 8.1, 9.1]\n",
    "    ]\n",
    ")"
   ]
  },
  {
   "cell_type": "code",
   "execution_count": 5,
   "metadata": {},
   "outputs": [],
   "source": [
    "t1_matrix_ = t1_matrix * t1_coefficient\n",
    "t1_matrix_ /= t1_coefficient"
   ]
  },
  {
   "cell_type": "code",
   "execution_count": 6,
   "metadata": {},
   "outputs": [
    {
     "data": {
      "text/markdown": [
       "<br>Matrice<br><br>\\begin{bmatrix}\n",
       "\t1.100 & 2.100 & 3.100 \\\\\n",
       "\t4.100 & 5.100 & 6.100 \\\\\n",
       "\t7.100 & 8.100 & 9.100 \\\\\n",
       "\\end{bmatrix}<br>i<br><br>\\begin{bmatrix}\n",
       "\t1.100 & 2.100 & 3.100 \\\\\n",
       "\t4.100 & 5.100 & 6.100 \\\\\n",
       "\t7.100 & 8.100 & 9.100 \\\\\n",
       "\\end{bmatrix}<br>su identične.<br>"
      ],
      "text/plain": [
       "<IPython.core.display.Markdown object>"
      ]
     },
     "metadata": {},
     "output_type": "display_data"
    }
   ],
   "source": [
    "t1_string_particle = \"su\" if (t1_matrix == t1_matrix_) else \"nisu\"\n",
    "\n",
    "display(\n",
    "    Markdown(\n",
    "        \"<br>Matrice<br><br>\" +\\\n",
    "        t1_matrix.latex(\"square_bracket\") +\\\n",
    "        \"<br>i<br><br>\" +\\\n",
    "        t1_matrix_.latex(\"square_bracket\") +\\\n",
    "        \"<br>\" +\\\n",
    "        (\"su\" if (t1_matrix == t1_matrix_) else \"nisu\") +\\\n",
    "        \" identične.<br>\"\n",
    "    )\n",
    ")"
   ]
  },
  {
   "cell_type": "markdown",
   "metadata": {},
   "source": [
    "### Zadatak 2"
   ]
  },
  {
   "cell_type": "markdown",
   "metadata": {},
   "source": [
    "Riješite sustav\n",
    "\n",
    "$$\n",
    "\\begin{equation}\n",
    "    \\begin{bmatrix}\n",
    "        3 &  9 &  6 \\\\\n",
    "        4 & 12 & 12 \\\\\n",
    "        1 & -1 &  1\n",
    "    \\end{bmatrix}\n",
    "    \\vec{x} =\n",
    "    \\begin{bmatrix}\n",
    "        12 \\\\\n",
    "        12 \\\\\n",
    "        1\n",
    "    \\end{bmatrix}\n",
    "\\end{equation}\n",
    "$$\n",
    "<br>\n",
    "\n",
    "Odredite može li se riješiti LU odnosno LUP dekompozicijom."
   ]
  },
  {
   "cell_type": "markdown",
   "metadata": {},
   "source": [
    "**Odgovor**:"
   ]
  },
  {
   "cell_type": "code",
   "execution_count": 7,
   "metadata": {},
   "outputs": [
    {
     "data": {
      "text/markdown": [
       "<br>Matrica<br><br> $$ \\\\\\begin{bmatrix}\n",
       "\t3 & 9 & 6 \\\\\n",
       "\t4 & 12 & 12 \\\\\n",
       "\t1 & -1 & 1 \\\\\n",
       "\\end{bmatrix}$$ <br> nije rješiva LU dekompozicijom."
      ],
      "text/plain": [
       "<IPython.core.display.Markdown object>"
      ]
     },
     "metadata": {},
     "output_type": "display_data"
    }
   ],
   "source": [
    "t2_matrix = Matrix.from_array(\n",
    "    [\n",
    "        [3, 9, 6],\n",
    "        [4, 12, 12],\n",
    "        [1, -1, 1]\n",
    "    ]\n",
    ")\n",
    "t2_values = Matrix.from_array([\n",
    "    [12],\n",
    "    [12],\n",
    "    [1]\n",
    "])\n",
    "t2_lu_matrix = None\n",
    "\n",
    "try:\n",
    "    t2_lu_matrix = t2_matrix.lu()\n",
    "    t2_equation_values = copy.deepcopy(t2_values)\n",
    "except NotSolvable:\n",
    "    display(\n",
    "        Markdown(\n",
    "            \"<br>Matrica<br><br> $$ \\\\\\\\\" +\\\n",
    "            t2_matrix.latex(\"square_bracket\") +\\\n",
    "            \"$$ <br> nije rješiva LU dekompozicijom.\"\n",
    "        )\n",
    "    )\n",
    "    \n",
    "    try:\n",
    "        t2_lu_matrix, t2_p_matrix = t2_matrix.lup()\n",
    "        t2_equation_values = t2_p_matrix @ t2_values\n",
    "    except NotSolvable:\n",
    "        display(\n",
    "            Markdown(\n",
    "                \"<br>Matrica<br><br> $$ \\\\\\\\\" +\\\n",
    "                t2_matrix.latex(\"square_bracket\") +\\\n",
    "                \"$$ <br> nije rješiva ni LUP dekompozicijom.\"\n",
    "            )\n",
    "        )"
   ]
  },
  {
   "cell_type": "code",
   "execution_count": 8,
   "metadata": {},
   "outputs": [
    {
     "data": {
      "text/markdown": [
       "Rješenje sustava<br> $$ \\\\\\begin{bmatrix}\n",
       "\t3 & 9 & 6 \\\\\n",
       "\t4 & 12 & 12 \\\\\n",
       "\t1 & -1 & 1 \\\\\n",
       "\\end{bmatrix}\\vec{x} = \\begin{bmatrix}\n",
       "\t12 \\\\\n",
       "\t12 \\\\\n",
       "\t1 \\\\\n",
       "\\end{bmatrix}$$ je $$\\\\ \\vec{x} = \\begin{bmatrix}\n",
       "\t3 \\\\\n",
       "\t1 \\\\\n",
       "\t-1 \\\\\n",
       "\\end{bmatrix}$$<br>"
      ],
      "text/plain": [
       "<IPython.core.display.Markdown object>"
      ]
     },
     "metadata": {},
     "output_type": "display_data"
    }
   ],
   "source": [
    "if t2_lu_matrix is not None:\n",
    "    t2_solution = t2_lu_matrix.solve(t2_equation_values)\n",
    "    \n",
    "    display(\n",
    "        Markdown(\n",
    "            \"Rješenje sustava<br> $$ \\\\\\\\\" +\\\n",
    "            t2_matrix.latex(\"square_bracket\") +\\\n",
    "            \"\\\\vec{x} = \" +\\\n",
    "            t2_values.latex(\"square_bracket\") +\\\n",
    "            \"$$ je $$\\\\\\\\ \\\\vec{x} = \" +\\\n",
    "            t2_solution.T.latex(\"square_bracket\") +\\\n",
    "            \"$$<br>\"\n",
    "        )\n",
    "    )\n",
    "else:\n",
    "    display(Markdown(\"<br>Zbog toga što ni jedna dekompozicija nije uspjela, sustav nije rješiv.<br>\"))"
   ]
  },
  {
   "cell_type": "markdown",
   "metadata": {},
   "source": [
    "### Zadatak 3"
   ]
  },
  {
   "cell_type": "markdown",
   "metadata": {},
   "source": [
    "Matricu\n",
    "\n",
    "$$\n",
    "\\begin{equation}\n",
    "    \\begin{bmatrix}\n",
    "        1 & 2 & 3 \\\\\n",
    "        4 & 5 & 6 \\\\\n",
    "        7 & 8 & 9\n",
    "    \\end{bmatrix}\n",
    "\\end{equation}\n",
    "$$\n",
    "\n",
    "rastavite na LU odnosno LUP."
   ]
  },
  {
   "cell_type": "code",
   "execution_count": 9,
   "metadata": {},
   "outputs": [],
   "source": [
    "t3_matrix = Matrix.from_array(\n",
    "    [\n",
    "        [1, 2, 3],\n",
    "        [4, 5, 6],\n",
    "        [7, 8, 9]\n",
    "    ]\n",
    ")"
   ]
  },
  {
   "cell_type": "markdown",
   "metadata": {},
   "source": [
    "**Odgovor**:"
   ]
  },
  {
   "cell_type": "code",
   "execution_count": 10,
   "metadata": {},
   "outputs": [
    {
     "data": {
      "text/markdown": [
       "Matrica $$ \\\\\\begin{bmatrix}\n",
       "\t1 & 2 & 3 \\\\\n",
       "\t4 & 5 & 6 \\\\\n",
       "\t7 & 8 & 9 \\\\\n",
       "\\end{bmatrix}$$ <br> je singularna.<br>"
      ],
      "text/plain": [
       "<IPython.core.display.Markdown object>"
      ]
     },
     "metadata": {},
     "output_type": "display_data"
    }
   ],
   "source": [
    "try:\n",
    "    t3_lu_matrix, t3_p_matrix = t3_matrix.lup()\n",
    "    \n",
    "    display(\n",
    "        Markdown(\n",
    "            \"LU matrica matrice $$ \\\\\\\\\" +\\\n",
    "            t3_matrix.latex(\"square_bracket\") +\\\n",
    "            \"$$ <br> je $$ \\\\\\\\\" +\\\n",
    "            t3_lu_matrix.latex(\"square_bracket\") +\\\n",
    "            \"$$<br>\"\n",
    "        )\n",
    "    )\n",
    "except NotSolvable:\n",
    "    display(\n",
    "        Markdown(\n",
    "            \"Matrica $$ \\\\\\\\\" +\\\n",
    "            t3_matrix.latex(\"square_bracket\") +\\\n",
    "            \"$$ <br> je singularna.<br>\"\n",
    "        )\n",
    "    )"
   ]
  },
  {
   "cell_type": "markdown",
   "metadata": {},
   "source": [
    "Ako je ovom matricom predstavljen sustav jednadžbi, može li se sustav riješiti? (sami definirajte slobodni vektor)."
   ]
  },
  {
   "cell_type": "markdown",
   "metadata": {},
   "source": [
    "**Odgovor**: Sustav nije riješiv jer je matrica singularna."
   ]
  },
  {
   "cell_type": "markdown",
   "metadata": {},
   "source": [
    "### Zadatak 4"
   ]
  },
  {
   "cell_type": "markdown",
   "metadata": {},
   "source": [
    "Sustav \n",
    "\n",
    "$$\n",
    "\\begin{equation}\n",
    "    \\begin{bmatrix}\n",
    "    0.000001 & 3000000 & 2000000 \\\\\n",
    "     1000000 & 2000000 & 3000000 \\\\\n",
    "     2000000 & 1000000 & 2000000\n",
    "    \\end{bmatrix} \\vec{x} =\n",
    "    \\begin{bmatrix}\n",
    "        12000000.000001 \\\\\n",
    "        14000000 \\\\\n",
    "        10000000\n",
    "    \\end{bmatrix}\n",
    "\\end{equation}\n",
    "$$\n",
    "\n",
    "riješite LU te LUP dekompozicijom."
   ]
  },
  {
   "cell_type": "code",
   "execution_count": 11,
   "metadata": {},
   "outputs": [],
   "source": [
    "t4_matrix = Matrix.from_array(\n",
    "    [\n",
    "        [0.000001, 3000000, 2000000],\n",
    "        [1000000, 2000000, 3000000],\n",
    "        [2000000, 1000000, 2000000]\n",
    "    ]\n",
    ")\n",
    "t4_values = Matrix.from_array(\n",
    "    [\n",
    "        [12000000.000001],\n",
    "        [14000000],\n",
    "        [10000000]\n",
    "    ]\n",
    ")"
   ]
  },
  {
   "cell_type": "markdown",
   "metadata": {},
   "source": [
    "**Odgovor**:"
   ]
  },
  {
   "cell_type": "code",
   "execution_count": 12,
   "metadata": {},
   "outputs": [
    {
     "data": {
      "text/markdown": [
       "Rješenje sustava $$ \\\\\\begin{bmatrix}\n",
       "\t0.000001 & 3000000 & 2000000 \\\\\n",
       "\t1000000 & 2000000 & 3000000 \\\\\n",
       "\t2000000 & 1000000 & 2000000 \\\\\n",
       "\\end{bmatrix} \\vec{x} = \\begin{bmatrix}\n",
       "\t12000000.000001 \\\\\n",
       "\t14000000 \\\\\n",
       "\t10000000 \\\\\n",
       "\\end{bmatrix}$$ LU dekompozicijom je $$ \\\\ \\vec{x} = \\begin{bmatrix}\n",
       "\t1.000 \\\\\n",
       "\t1.999 \\\\\n",
       "\t3.001 \\\\\n",
       "\\end{bmatrix}$$<br>"
      ],
      "text/plain": [
       "<IPython.core.display.Markdown object>"
      ]
     },
     "metadata": {},
     "output_type": "display_data"
    }
   ],
   "source": [
    "try:\n",
    "    t4_lu_matrix = t4_matrix.lu()\n",
    "    t4_lu_solution = t4_lu_matrix.solve(t4_values)\n",
    "    \n",
    "    display(\n",
    "        Markdown(\n",
    "            \"Rješenje sustava $$ \\\\\\\\\" +\\\n",
    "            t4_matrix.latex(\"square_bracket\", 6) +\\\n",
    "            \" \\\\vec{x} = \" +\\\n",
    "            t4_values.latex(\"square_bracket\", 6) +\\\n",
    "            \"$$ LU dekompozicijom je $$ \\\\\\\\ \\\\vec{x} = \" +\\\n",
    "            t4_lu_solution.T.latex(\"square_bracket\") +\\\n",
    "            \"$$<br>\"\n",
    "            \n",
    "        )\n",
    "    )\n",
    "except NotSolvable:\n",
    "    display(\n",
    "        Markdown(\n",
    "            \"Matrica $$ \\\\\\\\\" +\\\n",
    "            t4_matrix.latex(\"square_bracket\", 8) +\\\n",
    "            \"$$ nije riješiva LU dekompozicijom.\"\n",
    "        )\n",
    "    )\n"
   ]
  },
  {
   "cell_type": "code",
   "execution_count": 13,
   "metadata": {},
   "outputs": [
    {
     "data": {
      "text/markdown": [
       "Rješenje sustava $$ \\\\\\begin{bmatrix}\n",
       "\t0.000001 & 3000000 & 2000000 \\\\\n",
       "\t1000000 & 2000000 & 3000000 \\\\\n",
       "\t2000000 & 1000000 & 2000000 \\\\\n",
       "\\end{bmatrix} \\vec{x} = \\begin{bmatrix}\n",
       "\t12000000.000001 \\\\\n",
       "\t14000000 \\\\\n",
       "\t10000000 \\\\\n",
       "\\end{bmatrix}$$ LUP dekompozicijom je $$ \\\\ \\vec{x} =\\begin{bmatrix}\n",
       "\t1.000 \\\\\n",
       "\t2.000 \\\\\n",
       "\t3.000 \\\\\n",
       "\\end{bmatrix}$$<br>"
      ],
      "text/plain": [
       "<IPython.core.display.Markdown object>"
      ]
     },
     "metadata": {},
     "output_type": "display_data"
    }
   ],
   "source": [
    "try:\n",
    "    t4_lu_matrix_, t4_p_matrix_ = t4_matrix.lup()\n",
    "    t4_lup_solution = t4_lu_matrix_.solve(t4_p_matrix_ @ t4_values)\n",
    "    \n",
    "    display(\n",
    "        Markdown(\n",
    "            \"Rješenje sustava $$ \\\\\\\\\" +\\\n",
    "            t4_matrix.latex(\"square_bracket\", 6) +\\\n",
    "            \" \\\\vec{x} = \" +\\\n",
    "            t4_values.latex(\"square_bracket\", 6) +\\\n",
    "            \"$$ LUP dekompozicijom je $$ \\\\\\\\ \\\\vec{x} =\" +\\\n",
    "            t4_lup_solution.T.latex(\"square_bracket\") +\\\n",
    "            \"$$<br>\"\n",
    "        )\n",
    "    )\n",
    "except NotSolvable as ns:\n",
    "    display(\n",
    "        Markdown(\n",
    "            \"Matrica $$ \\\\\\\\\" +\\\n",
    "            t4_matrix.latex(\"square_bracket\", 8) +\\\n",
    "            \"$$ nije riješiva LUP dekompozicijom.\"\n",
    "        )\n",
    "    )\n"
   ]
  },
  {
   "cell_type": "markdown",
   "metadata": {},
   "source": [
    "Objasnite razliku u rješenjima! (očituje se prilikom uporabe *double* varijabli)"
   ]
  },
  {
   "cell_type": "markdown",
   "metadata": {},
   "source": [
    "**Odgovor**: LUP dekompozicija je nešto numerički stabilnija od LU dekompozicije, pa smo zato dobili ljepše brojke za neuredan skup jednadžbi."
   ]
  },
  {
   "cell_type": "markdown",
   "metadata": {},
   "source": [
    "### Zadatak 5"
   ]
  },
  {
   "cell_type": "markdown",
   "metadata": {},
   "source": [
    "Sustav\n",
    "\n",
    "$$\n",
    "\\begin{equation}\n",
    "    \\begin{bmatrix}\n",
    "        0 & 1 & 2 \\\\\n",
    "        2 & 0 & 3 \\\\\n",
    "        3 & 5 & 1\n",
    "    \\end{bmatrix} \\vec{x} =\n",
    "    \\begin{bmatrix}\n",
    "        6 \\\\\n",
    "        9 \\\\\n",
    "        3\n",
    "    \\end{bmatrix}\n",
    "\\end{equation}\n",
    "$$\n",
    "\n",
    "riješite odgovarajućom metodom."
   ]
  },
  {
   "cell_type": "code",
   "execution_count": 14,
   "metadata": {},
   "outputs": [],
   "source": [
    "t5_matrix = Matrix.from_array(\n",
    "    [\n",
    "        [0, 1, 2],\n",
    "        [2, 0, 3],\n",
    "        [3, 5, 1]\n",
    "    ]\n",
    ")\n",
    "t5_values = Matrix.from_array(\n",
    "    [\n",
    "        [6],\n",
    "        [9],\n",
    "        [3]\n",
    "    ]\n",
    ")"
   ]
  },
  {
   "cell_type": "markdown",
   "metadata": {},
   "source": [
    "**Odgovor**:"
   ]
  },
  {
   "cell_type": "code",
   "execution_count": 15,
   "metadata": {},
   "outputs": [
    {
     "data": {
      "text/markdown": [
       "Rješenje sustava $$ \\\\\\begin{bmatrix}\n",
       "\t0 & 1 & 2 \\\\\n",
       "\t2 & 0 & 3 \\\\\n",
       "\t3 & 5 & 1 \\\\\n",
       "\\end{bmatrix} \\vec{x} = \\begin{bmatrix}\n",
       "\t6 \\\\\n",
       "\t9 \\\\\n",
       "\t3 \\\\\n",
       "\\end{bmatrix}$$ je $$ \\\\ \\vec{x} =\\begin{bmatrix}\n",
       "\t-0.000 \\\\\n",
       "\t0.000 \\\\\n",
       "\t3.000 \\\\\n",
       "\\end{bmatrix}$$<br>"
      ],
      "text/plain": [
       "<IPython.core.display.Markdown object>"
      ]
     },
     "metadata": {},
     "output_type": "display_data"
    }
   ],
   "source": [
    "try:\n",
    "    t5_lu_matrix, t5_p_matrix = t5_matrix.lup()\n",
    "    t5_solution = t5_lu_matrix.solve(t5_p_matrix @ t5_values)\n",
    "    \n",
    "    display(\n",
    "        Markdown(\n",
    "            \"Rješenje sustava $$ \\\\\\\\\" +\\\n",
    "            t5_matrix.latex(\"square_bracket\") +\\\n",
    "            \" \\\\vec{x} = \" +\\\n",
    "            t5_values.latex(\"square_bracket\") +\\\n",
    "            \"$$ je $$ \\\\\\\\ \\\\vec{x} =\" +\\\n",
    "            t5_solution.T.latex(\"square_bracket\") +\\\n",
    "            \"$$<br>\"\n",
    "        )\n",
    "    )\n",
    "except NotSolvable:\n",
    "    display(\n",
    "        Markdown(\n",
    "            \"Matrica $$ \\\\\\\\\" +\\\n",
    "            tt_matrix.latex(\"square_bracket\") +\\\n",
    "            \"$$ <br> je singularna.<br>\"\n",
    "        )\n",
    "    )"
   ]
  },
  {
   "cell_type": "markdown",
   "metadata": {},
   "source": [
    "Objasnite razliku između dobivenog i točnog rješenja."
   ]
  },
  {
   "cell_type": "markdown",
   "metadata": {},
   "source": [
    "**Odgovor**: Ako se malo zagledamo, vidimo da je trivijalno rješenje\n",
    "\n",
    "$$\n",
    "\\begin{equation}\n",
    "    \\vec{x} =\n",
    "    \\begin{bmatrix}\n",
    "        0 \\\\\n",
    "        0 \\\\\n",
    "        3\n",
    "    \\end{bmatrix}\n",
    "\\end{equation}\n",
    "$$\n",
    "<br>\n",
    "\n",
    "Razlog zašto smo imali problema su nule na dijagonali. Radi tih nula smo morali koristiti LUP dekompoziciju - već bi se u prvom koraku program srušio kad bi pokušao dijeliti s $A_{00}$. Ali čak i kad smo koristili LUP dekompoziciju, pivoti su bili dovoljno nekvalitetni (prosti brojevi različiti od $2$) da nam daju neprecizno rješenje."
   ]
  },
  {
   "cell_type": "markdown",
   "metadata": {},
   "source": [
    "Možemo probati rješiti sustav matricama realnih brojeva:"
   ]
  },
  {
   "cell_type": "code",
   "execution_count": 16,
   "metadata": {},
   "outputs": [],
   "source": [
    "t5_matrix_ = copy.deepcopy(t5_matrix).float()\n",
    "t5_values_ = copy.deepcopy(t5_values).float()"
   ]
  },
  {
   "cell_type": "code",
   "execution_count": 17,
   "metadata": {},
   "outputs": [
    {
     "data": {
      "text/markdown": [
       "Rješenje sustava $$ \\\\\\begin{bmatrix}\n",
       "\t0 & 1 & 2 \\\\\n",
       "\t2 & 0 & 3 \\\\\n",
       "\t3 & 5 & 1 \\\\\n",
       "\\end{bmatrix} \\vec{x} = \\begin{bmatrix}\n",
       "\t6 \\\\\n",
       "\t9 \\\\\n",
       "\t3 \\\\\n",
       "\\end{bmatrix}$$ je $$ \\\\ \\vec{x} =\\begin{bmatrix}\n",
       "\t0 \\\\\n",
       "\t0 \\\\\n",
       "\t3.000 \\\\\n",
       "\\end{bmatrix}$$<br>"
      ],
      "text/plain": [
       "<IPython.core.display.Markdown object>"
      ]
     },
     "metadata": {},
     "output_type": "display_data"
    }
   ],
   "source": [
    "try:\n",
    "    t5_lu_matrix_, t5_p_matrix_ = t5_matrix_.lup()\n",
    "    t5_solution_ = t5_lu_matrix_.solve(t5_p_matrix_ @ t5_values_).float()\n",
    "    \n",
    "    display(\n",
    "        Markdown(\n",
    "            \"Rješenje sustava $$ \\\\\\\\\" +\\\n",
    "            t5_matrix_.latex(\"square_bracket\") +\\\n",
    "            \" \\\\vec{x} = \" +\\\n",
    "            t5_values_.latex(\"square_bracket\") +\\\n",
    "            \"$$ je $$ \\\\\\\\ \\\\vec{x} =\" +\\\n",
    "            t5_solution_.T.latex(\"square_bracket\") +\\\n",
    "            \"$$<br>\"\n",
    "        )\n",
    "    )\n",
    "except NotSolvable:\n",
    "    display(\n",
    "        Markdown(\n",
    "            \"Matrica $$ \\\\\\\\\" +\\\n",
    "            tt_matrix_.latex(\"square_bracket\") +\\\n",
    "            \"$$ <br> je singularna.<br>\"\n",
    "        )\n",
    "    )"
   ]
  },
  {
   "cell_type": "markdown",
   "metadata": {},
   "source": [
    "Vidimo da smo sad dobili precizno rješenje."
   ]
  },
  {
   "cell_type": "markdown",
   "metadata": {},
   "source": [
    "### Zadatak 6"
   ]
  },
  {
   "cell_type": "markdown",
   "metadata": {},
   "source": [
    "Rješavanje sustava\n",
    "\n",
    "$$\n",
    "\\begin{equation}\n",
    "    \\begin{bmatrix}\n",
    "      4000000000 &   1000000000 &   3000000000 \\\\\n",
    "               4 &            2 &            7 \\\\\n",
    "    0.0000000003 & 0.0000000005 & 0.0000000002\n",
    "    \\end{bmatrix} \\vec{x} =\n",
    "    \\begin{bmatrix}\n",
    "          9000000000 \\\\\n",
    "                  15 \\\\\n",
    "        0.0000000015\n",
    "    \\end{bmatrix}\n",
    "\\end{equation}\n",
    "$$\n",
    "\n",
    "\n",
    "moglo bi zadati problema vašoj implementaciji. O čemu to ovisi?"
   ]
  },
  {
   "cell_type": "markdown",
   "metadata": {},
   "source": [
    "**Odgovor**: O preciznosti brojevnih varijabli koje se koriste unutar matrica."
   ]
  },
  {
   "cell_type": "markdown",
   "metadata": {},
   "source": [
    "Kako je moguće izbjeći ovaj problem, transformacijom zadanog sustava tako da rješenje ostane nepromijenjeno? (Napomena: postavite vrijednost epsilona za ovaj primjer na $10^{-6}$)"
   ]
  },
  {
   "cell_type": "markdown",
   "metadata": {},
   "source": [
    "**Odgovor**: Najjednostavniji način bilo bi stvaranje transformacijske matrice kojom bi se reskalirao problem na nešto manje egzotično. Na primjer, ako definiramo transformacijsku matricu\n",
    "\n",
    "$$\n",
    "\\begin{equation}\n",
    "    \\vec{T} =\n",
    "    \\begin{bmatrix}\n",
    "        10^{-9} & 0 &      0 \\\\\n",
    "              0 & 1 &      0 \\\\\n",
    "              0 & 0 & 10^{10}\n",
    "    \\end{bmatrix}\n",
    "\\end{equation}\n",
    "$$\n",
    "<br>\n",
    "\n",
    "Možemo problem transformirati u\n",
    "\n",
    "$$\n",
    "\\vec{T}\\vec{A}\\vec{x} = \\vec{T}\\vec{y}\n",
    "$$\n",
    "<br>\n",
    "\n",
    "tj.\n",
    "\n",
    "$$\n",
    "\\begin{equation}\n",
    "    \\begin{bmatrix}\n",
    "    4 & 1 & 3 \\\\\n",
    "    4 & 2 & 7 \\\\\n",
    "    3 & 5 & 2\n",
    "    \\end{bmatrix} \\vec{x} =\n",
    "    \\begin{bmatrix}\n",
    "          9 \\\\\n",
    "         15 \\\\\n",
    "         15\n",
    "    \\end{bmatrix}\n",
    "\\end{equation}\n",
    "$$\n",
    "\n",
    "čime ćemo dobiti preciznije rješenje. Demonstrirajmo to."
   ]
  },
  {
   "cell_type": "code",
   "execution_count": 18,
   "metadata": {},
   "outputs": [],
   "source": [
    "t6_matrix = Matrix.from_array(\n",
    "    [\n",
    "        [4000000000, 1000000000, 3000000000],\n",
    "        [4, 2, 7],\n",
    "        [0.0000000003, 0.0000000005, 0.0000000002]\n",
    "    ]\n",
    ")\n",
    "t6_matrix.epsilon = 1e-6\n",
    "t6_values = Matrix.from_array(\n",
    "    [\n",
    "        [9000000000],\n",
    "        [15],\n",
    "        [0.0000000015]\n",
    "    ]\n",
    ")\n",
    "t6_transformation = Matrix.from_array(\n",
    "    [\n",
    "        [1e-9, 0, 0],\n",
    "        [0, 1, 0],\n",
    "        [0, 0, 1e10]\n",
    "    ]\n",
    ")"
   ]
  },
  {
   "cell_type": "markdown",
   "metadata": {},
   "source": [
    "**Demonstracija**:"
   ]
  },
  {
   "cell_type": "code",
   "execution_count": 19,
   "metadata": {},
   "outputs": [
    {
     "data": {
      "text/markdown": [
       "Matrica $$ \\\\\\begin{bmatrix}\n",
       "\t4000000000 & 1000000000 & 3000000000 \\\\\n",
       "\t4 & 2 & 7 \\\\\n",
       "\t0.0000000003 & 0.0000000005 & 0.0000000002 \\\\\n",
       "\\end{bmatrix}$$ nije rješiva."
      ],
      "text/plain": [
       "<IPython.core.display.Markdown object>"
      ]
     },
     "metadata": {},
     "output_type": "display_data"
    }
   ],
   "source": [
    "try:\n",
    "    t6_lu_matrix, t6_p_matrix = t6_matrix.lup()\n",
    "    t6_solution = t6_lu_matrix.solve(t6_p_matrix @ t6_values)\n",
    "    \n",
    "    display(\n",
    "        Markdown(\n",
    "            \"Rješenje sustava $$ \\\\\\\\\" +\\\n",
    "            t6_matrix.latex(\"square_bracket\", 10) +\\\n",
    "            \"\\\\vec{x} = \" +\\\n",
    "            t6_values.latex(\"square_bracket\", 10) +\\\n",
    "            \"$$<br> je $$ \\\\\\\\\" +\\\n",
    "            t6_solution.T.latex(\"square_bracket\") +\\\n",
    "            \"$$<br>\"\n",
    "        )\n",
    "    )\n",
    "except NotSolvable:\n",
    "    display(\n",
    "        Markdown(\n",
    "            \"Matrica $$ \\\\\\\\\" +\\\n",
    "            t6_matrix.latex(\"square_bracket\", 10) +\\\n",
    "            \"$$ nije rješiva.\"\n",
    "        )\n",
    "    )"
   ]
  },
  {
   "cell_type": "markdown",
   "metadata": {},
   "source": [
    "Sada ćemo napraviti isto ali primijeniti transformaciju."
   ]
  },
  {
   "cell_type": "code",
   "execution_count": 20,
   "metadata": {},
   "outputs": [],
   "source": [
    "t6_matrix_ = t6_transformation @ t6_matrix\n",
    "t6_values_ = t6_transformation @ t6_values"
   ]
  },
  {
   "cell_type": "markdown",
   "metadata": {},
   "source": [
    "Sada imamo sustav"
   ]
  },
  {
   "cell_type": "code",
   "execution_count": 21,
   "metadata": {},
   "outputs": [
    {
     "data": {
      "text/markdown": [
       "$$ \\\\\\begin{bmatrix}\n",
       "\t4 & 1 & 3 \\\\\n",
       "\t4 & 2 & 7 \\\\\n",
       "\t3 & 5 & 2 \\\\\n",
       "\\end{bmatrix}\\vec{x} = \\begin{bmatrix}\n",
       "\t9 \\\\\n",
       "\t15 \\\\\n",
       "\t15 \\\\\n",
       "\\end{bmatrix}$$<br>"
      ],
      "text/plain": [
       "<IPython.core.display.Markdown object>"
      ]
     },
     "metadata": {},
     "output_type": "display_data"
    }
   ],
   "source": [
    "display(\n",
    "    Markdown(\n",
    "        \"$$ \\\\\\\\\" +\\\n",
    "        t6_matrix_.latex(\"square_bracket\") +\\\n",
    "        \"\\\\vec{x} = \" +\\\n",
    "        t6_values_.latex(\"square_bracket\") +\\\n",
    "        \"$$<br>\"\n",
    "    )\n",
    ")"
   ]
  },
  {
   "cell_type": "markdown",
   "metadata": {},
   "source": [
    "koji je lakše riješiti:"
   ]
  },
  {
   "cell_type": "code",
   "execution_count": 22,
   "metadata": {},
   "outputs": [
    {
     "data": {
      "text/markdown": [
       "Rješenje sustava $$ \\\\\\begin{bmatrix}\n",
       "\t4 & 1 & 3 \\\\\n",
       "\t4 & 2 & 7 \\\\\n",
       "\t3 & 5 & 2 \\\\\n",
       "\\end{bmatrix}\\vec{x} = \\begin{bmatrix}\n",
       "\t9 \\\\\n",
       "\t15 \\\\\n",
       "\t15 \\\\\n",
       "\\end{bmatrix}$$<br> je $$ \\\\\\begin{bmatrix}\n",
       "\t1 \\\\\n",
       "\t2 \\\\\n",
       "\t1 \\\\\n",
       "\\end{bmatrix}$$<br>"
      ],
      "text/plain": [
       "<IPython.core.display.Markdown object>"
      ]
     },
     "metadata": {},
     "output_type": "display_data"
    }
   ],
   "source": [
    "try:\n",
    "    t6_lu_matrix_, t6_p_matrix_ = t6_matrix_.lup()\n",
    "    t6_solution_ = t6_lu_matrix_.solve(t6_p_matrix_ @ t6_values_)\n",
    "    \n",
    "    display(\n",
    "        Markdown(\n",
    "            \"Rješenje sustava $$ \\\\\\\\\" +\\\n",
    "            t6_matrix_.latex(\"square_bracket\") +\\\n",
    "            \"\\\\vec{x} = \" +\\\n",
    "            t6_values_.latex(\"square_bracket\") +\\\n",
    "            \"$$<br> je $$ \\\\\\\\\" +\\\n",
    "            t6_solution_.T.latex(\"square_bracket\") +\\\n",
    "            \"$$<br>\"\n",
    "        )\n",
    "    )\n",
    "except NotSolvable:\n",
    "    display(\n",
    "        Markdown(\n",
    "            \"Matrica $$ \\\\\\\\\" +\\\n",
    "            t6_matrix_.latex(\"square_bracket\") +\\\n",
    "            \"$$ nije rješiva.\"\n",
    "        )\n",
    "    )"
   ]
  },
  {
   "cell_type": "markdown",
   "metadata": {},
   "source": [
    "Ovog puta smo uspjeli riješiti sustav."
   ]
  },
  {
   "cell_type": "markdown",
   "metadata": {},
   "source": [
    "### Zadatak 7"
   ]
  },
  {
   "cell_type": "markdown",
   "metadata": {},
   "source": [
    "Korištenjem LUP dekompozicije izračunajte inverz\n",
    "\n",
    "$$\n",
    "\\begin{equation}\n",
    "    \\begin{bmatrix}\n",
    "        1 & 2 & 3 \\\\\n",
    "        4 & 5 & 6 \\\\\n",
    "        7 & 8 & 9\n",
    "    \\end{bmatrix}\n",
    "\\end{equation}\n",
    "$$\n",
    "\n",
    "\n",
    "te ispišite dobiveni rezultat."
   ]
  },
  {
   "cell_type": "code",
   "execution_count": 23,
   "metadata": {},
   "outputs": [],
   "source": [
    "p7_matrix = Matrix.from_array(\n",
    "    [\n",
    "        [1, 2, 3],\n",
    "        [4, 5, 6],\n",
    "        [7, 8, 9]\n",
    "    ]\n",
    ")"
   ]
  },
  {
   "cell_type": "markdown",
   "metadata": {},
   "source": [
    "**Odgovor**:"
   ]
  },
  {
   "cell_type": "code",
   "execution_count": 24,
   "metadata": {},
   "outputs": [
    {
     "data": {
      "text/markdown": [
       "Matrica $$ \\\\\\begin{bmatrix}\n",
       "\t1 & 2 & 3 \\\\\n",
       "\t4 & 5 & 6 \\\\\n",
       "\t7 & 8 & 9 \\\\\n",
       "\\end{bmatrix}$$<br> je singularna."
      ],
      "text/plain": [
       "<IPython.core.display.Markdown object>"
      ]
     },
     "metadata": {},
     "output_type": "display_data"
    }
   ],
   "source": [
    "try:\n",
    "    p7_inverse = p7_matrix.inverse\n",
    "    \n",
    "    display(\n",
    "        Markdown(\n",
    "            \"Inverz matrice $$ \\\\\\\\\" +\\\n",
    "            p7_matrix.latex(\"square_bracket\") +\\\n",
    "            \"$$<br> je $$ \\\\\\\\\" +\\\n",
    "            p7_inverse.latex(\"square_bracket\") +\\\n",
    "            \"$$<br>\"\n",
    "        )\n",
    "    )\n",
    "except MatrixIsSingular:\n",
    "    display(\n",
    "        Markdown(\n",
    "            \"Matrica $$ \\\\\\\\\" +\\\n",
    "            p7_matrix.latex(\"square_bracket\") +\\\n",
    "            \"$$<br> je singularna.\"\n",
    "        )\n",
    "    )"
   ]
  },
  {
   "cell_type": "markdown",
   "metadata": {},
   "source": [
    "### Zadatak 8"
   ]
  },
  {
   "cell_type": "markdown",
   "metadata": {},
   "source": [
    "Korištenjem LUP dekompozicije izračunajte inverz\n",
    "\n",
    "$$\n",
    "\\begin{equation}\n",
    "    \\begin{bmatrix}\n",
    "         4 & -5 & -2 \\\\\n",
    "         5 & -6 & -2 \\\\\n",
    "        -8 &  9 &  3\n",
    "    \\end{bmatrix}\n",
    "\\end{equation}\n",
    "$$\n",
    "\n",
    "\n",
    "te ispišite dobiveni rezultat."
   ]
  },
  {
   "cell_type": "code",
   "execution_count": 25,
   "metadata": {},
   "outputs": [],
   "source": [
    "p8_matrix = Matrix.from_array(\n",
    "    [\n",
    "        [4, -5, -2],\n",
    "        [5, -6, -2],\n",
    "        [-8, 9, 3]\n",
    "    ]\n",
    ").float()"
   ]
  },
  {
   "cell_type": "markdown",
   "metadata": {},
   "source": [
    "**Odgovor**:"
   ]
  },
  {
   "cell_type": "code",
   "execution_count": 26,
   "metadata": {},
   "outputs": [
    {
     "data": {
      "text/markdown": [
       "Inverz matrice $$ \\\\\\begin{bmatrix}\n",
       "\t4 & -5 & -2 \\\\\n",
       "\t5 & -6 & -2 \\\\\n",
       "\t-8 & 9 & 3 \\\\\n",
       "\\end{bmatrix}$$<br> je $$ \\\\\\begin{bmatrix}\n",
       "\t0 & -3 & -2 \\\\\n",
       "\t1 & -4 & -2 \\\\\n",
       "\t-3 & 4 & 1 \\\\\n",
       "\\end{bmatrix}$$<br>"
      ],
      "text/plain": [
       "<IPython.core.display.Markdown object>"
      ]
     },
     "metadata": {},
     "output_type": "display_data"
    }
   ],
   "source": [
    "try:\n",
    "    p8_inverse = p8_matrix.inverse\n",
    "    \n",
    "    display(\n",
    "        Markdown(\n",
    "            \"Inverz matrice $$ \\\\\\\\\" +\\\n",
    "            p8_matrix.latex(\"square_bracket\") +\\\n",
    "            \"$$<br> je $$ \\\\\\\\\" +\\\n",
    "            p8_inverse.latex(\"square_bracket\") +\\\n",
    "            \"$$<br>\"\n",
    "        )\n",
    "    )\n",
    "except MatrixIsSingular:\n",
    "    display(\n",
    "        Markdown(\n",
    "            \"Matrica $$ \\\\\\\\\" +\\\n",
    "            p8_matrix.latex(\"square_bracket\") +\\\n",
    "            \"$$<br> je singularna.\"\n",
    "        )\n",
    "    )"
   ]
  },
  {
   "cell_type": "markdown",
   "metadata": {},
   "source": [
    "### Zadatak 9"
   ]
  },
  {
   "cell_type": "markdown",
   "metadata": {},
   "source": [
    "Korištenjem LUP dekompozicije izračunajte determinantu matrice\n",
    "\n",
    "$$\n",
    "\\begin{equation}\n",
    "    \\begin{bmatrix}\n",
    "         4 & -5 & -2 \\\\\n",
    "         5 & -6 & -2 \\\\\n",
    "        -8 &  9 &  3\n",
    "    \\end{bmatrix}\n",
    "\\end{equation}\n",
    "$$"
   ]
  },
  {
   "cell_type": "code",
   "execution_count": 27,
   "metadata": {},
   "outputs": [],
   "source": [
    "p9_matrix = Matrix.from_array(\n",
    "    [\n",
    "        [4, -5, -2],\n",
    "        [5, -6, -2],\n",
    "        [-8, 9, 3]\n",
    "    ]\n",
    ")"
   ]
  },
  {
   "cell_type": "markdown",
   "metadata": {},
   "source": [
    "**Odgovor**:"
   ]
  },
  {
   "cell_type": "code",
   "execution_count": 28,
   "metadata": {},
   "outputs": [
    {
     "data": {
      "text/markdown": [
       "<br>$$ \\\\\\begin{vmatrix}\n",
       "\t4 & -5 & -2 \\\\\n",
       "\t5 & -6 & -2 \\\\\n",
       "\t-8 & 9 & 3 \\\\\n",
       "\\end{vmatrix} = 1$$<br>"
      ],
      "text/plain": [
       "<IPython.core.display.Markdown object>"
      ]
     },
     "metadata": {},
     "output_type": "display_data"
    }
   ],
   "source": [
    "display(\n",
    "    Markdown(\n",
    "        \"<br>$$ \\\\\\\\\" +\\\n",
    "        p9_matrix.latex(\"vertical_bar\") +\\\n",
    "        f\" = {p9_matrix.determinant}$$<br>\"\n",
    "    )\n",
    ")"
   ]
  },
  {
   "cell_type": "markdown",
   "metadata": {},
   "source": [
    "### Zadatak 10"
   ]
  },
  {
   "cell_type": "markdown",
   "metadata": {},
   "source": [
    "Korištenjem LUP dekompozicije izračunajte determinantu matrice\n",
    "\n",
    "$$\n",
    "\\begin{equation}\n",
    "    \\begin{bmatrix}\n",
    "        3 &  9 &  6 \\\\\n",
    "        4 & 12 & 12 \\\\\n",
    "        1 & -1 &  1\n",
    "    \\end{bmatrix}\n",
    "\\end{equation}\n",
    "$$"
   ]
  },
  {
   "cell_type": "code",
   "execution_count": 29,
   "metadata": {},
   "outputs": [],
   "source": [
    "p10_matrix = Matrix.from_array(\n",
    "    [\n",
    "        [3, 9, 6],\n",
    "        [4, 12, 12],\n",
    "        [1, -1, 1]\n",
    "    ]\n",
    ")"
   ]
  },
  {
   "cell_type": "markdown",
   "metadata": {},
   "source": [
    "**Odgovor**:"
   ]
  },
  {
   "cell_type": "code",
   "execution_count": 30,
   "metadata": {},
   "outputs": [
    {
     "data": {
      "text/markdown": [
       "<br>$$ \\\\\\begin{vmatrix}\n",
       "\t3 & 9 & 6 \\\\\n",
       "\t4 & 12 & 12 \\\\\n",
       "\t1 & -1 & 1 \\\\\n",
       "\\end{vmatrix} = 48$$<br>"
      ],
      "text/plain": [
       "<IPython.core.display.Markdown object>"
      ]
     },
     "metadata": {},
     "output_type": "display_data"
    }
   ],
   "source": [
    "display(\n",
    "    Markdown(\n",
    "        \"<br>$$ \\\\\\\\\" +\\\n",
    "        p10_matrix.latex(\"vertical_bar\") +\\\n",
    "        f\" = {p10_matrix.determinant}$$<br>\"\n",
    "    )\n",
    ")"
   ]
  }
 ],
 "metadata": {
  "kernelspec": {
   "display_name": "aipr_dz01",
   "language": "python",
   "name": "aipr_dz01"
  },
  "language_info": {
   "codemirror_mode": {
    "name": "ipython",
    "version": 3
   },
   "file_extension": ".py",
   "mimetype": "text/x-python",
   "name": "python",
   "nbconvert_exporter": "python",
   "pygments_lexer": "ipython3",
   "version": "3.8.5"
  }
 },
 "nbformat": 4,
 "nbformat_minor": 4
}
